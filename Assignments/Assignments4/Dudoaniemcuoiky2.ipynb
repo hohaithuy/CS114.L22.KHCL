{
  "nbformat": 4,
  "nbformat_minor": 0,
  "metadata": {
    "colab": {
      "name": "Dudoaniemcuoiky.ipynb",
      "provenance": [],
      "collapsed_sections": [],
      "include_colab_link": true
    },
    "kernelspec": {
      "name": "python3",
      "display_name": "Python 3"
    },
    "language_info": {
      "name": "python"
    },
    "accelerator": "GPU"
  },
  "cells": [
    {
      "cell_type": "markdown",
      "metadata": {
        "id": "view-in-github",
        "colab_type": "text"
      },
      "source": [
        "<a href=\"https://colab.research.google.com/github/taolaobd/CS114.L22.KHCL/blob/main/Assignments/Assignments4/Dudoaniemcuoiky2.ipynb\" target=\"_parent\"><img src=\"https://colab.research.google.com/assets/colab-badge.svg\" alt=\"Open In Colab\"/></a>"
      ]
    },
    {
      "cell_type": "markdown",
      "metadata": {
        "id": "wQ7L8BHAP_50"
      },
      "source": [
        "#Máy học - CS114.L22.KHCL \n",
        "#BÀI TẬP COLLAB SỐ 3: DỰ ĐOÁN ĐIỂM CUỐI KỲ THÔNG QUA WECODE"
      ]
    },
    {
      "cell_type": "markdown",
      "metadata": {
        "id": "2w8eL1itnH5n"
      },
      "source": [
        "##Thành viên: \n",
        "1\tHồ Hải Thủy\t19522323\t\t\n",
        "\n",
        "2\tNguyễn Khả Tiến\t19522337\t\t\n",
        "\n",
        "3\tNguyễn Mạnh Toàn\t19522363\t\t"
      ]
    },
    {
      "cell_type": "markdown",
      "metadata": {
        "id": "DvoXOG8fnGFm"
      },
      "source": [
        "##Thông tin và mô tả dữ liệu:"
      ]
    },
    {
      "cell_type": "markdown",
      "metadata": {
        "id": "3palVl71mtj_"
      },
      "source": [
        "**File wecode.csv gồm các thông tin:**\n",
        "\n",
        "\"id\"            : id của lần nộp bài\n",
        "\n",
        "\"assignment_id\" : id của assignment\n",
        "\n",
        "\"problem_id\"    : id của problem\n",
        "\n",
        "\"user_id\"       : id của user **cái này quan trọng nè**\n",
        "\n",
        "\"is_final\"      : đây có phải là lần\n",
        "\n",
        "\"status\"        : submission này đang dược chấm (PENDING), đã được chấm (SCORE) hay bị compilation-error\n",
        "\n",
        "\"pre_score\"     : Số phần trăm test đúng, làm tròn đến 2 chữ số thập phân và nhân cho 100.\n",
        "\n",
        "\"coefficient\"   : Hệ số nộp bài trễ\n",
        "\n",
        "\"file_name\"     : không quan trọng\n",
        "\n",
        "\"language_id\"   : language_id sẽ luôn là C++\n",
        "\n",
        "\"created_at\"    : Thời điểm nộp bài\n",
        "\n",
        "\"updated_at\"    : Thời điểm hệ thống cập nhật kết quả chấm cho bài nộp đó\n",
        "\n",
        "\n",
        "\n",
        "\n",
        "\n",
        "**File score_training.csv gồm các thông tin**\n",
        "\n",
        "id  : user id sẽ tương ứng với user id của file wecode.csv\n",
        "\n",
        "QT  : Điểm quá trình\n",
        "\n",
        "GK  : Điểm giữa kỳ\n",
        "\n",
        "TH  : Điểm thực hành\n",
        "\n",
        "CK  : Điểm cuối kỳ\n",
        "\n",
        "TBM : Trung bình môn it001\n",
        "\n",
        "TBTL: Trung bình tích lũy"
      ]
    },
    {
      "cell_type": "markdown",
      "metadata": {
        "id": "Nfm43m24zyEo"
      },
      "source": [
        "##Tải dữ liệu"
      ]
    },
    {
      "cell_type": "markdown",
      "metadata": {
        "id": "vVbC2Bkbngj6"
      },
      "source": [
        "Tải dữ liệu về từ google drive bằng lệnh dưới"
      ]
    },
    {
      "cell_type": "code",
      "metadata": {
        "colab": {
          "base_uri": "https://localhost:8080/"
        },
        "id": "0MTaRkSZvHc3",
        "outputId": "3cd39a9d-55e0-47a9-b569-6bd88789dce6"
      },
      "source": [
        "!gdown --id 1tfY89XVZZ2FlZyZVLZ1CGoJN3BC17qdA"
      ],
      "execution_count": 1,
      "outputs": [
        {
          "output_type": "stream",
          "text": [
            "Downloading...\n",
            "From: https://drive.google.com/uc?id=1tfY89XVZZ2FlZyZVLZ1CGoJN3BC17qdA\n",
            "To: /content/dudoandiem.zip\n",
            "\r0.00B [00:00, ?B/s]\r4.11MB [00:00, 65.1MB/s]\n"
          ],
          "name": "stdout"
        }
      ]
    },
    {
      "cell_type": "code",
      "metadata": {
        "colab": {
          "base_uri": "https://localhost:8080/"
        },
        "id": "2fRzb1tKvYMJ",
        "outputId": "f27792dc-14bc-4fae-8683-d89befb06623"
      },
      "source": [
        "!unzip dudoandiem.zip"
      ],
      "execution_count": 2,
      "outputs": [
        {
          "output_type": "stream",
          "text": [
            "Archive:  dudoandiem.zip\n",
            "   creating: dudoandiem/\n",
            "  inflating: dudoandiem/score_training.csv  \n",
            "  inflating: dudoandiem/wecode.csv   \n"
          ],
          "name": "stdout"
        }
      ]
    },
    {
      "cell_type": "markdown",
      "metadata": {
        "id": "1_57JNY8nsYR"
      },
      "source": [
        "File dữ liệu chúng ta gồm có 2 file trong đó:\n",
        "\n",
        "*   score_training.csv file chứa cột CK tương ứng là label để train và cần dự đoán\n",
        "*   wecode.csv file chứa các thông tin về quá trình làm Wecode mà ta cần trích xuất đặc trưng nhằm dự đoán các cột điểm CK còn thiếu\n",
        "\n"
      ]
    },
    {
      "cell_type": "code",
      "metadata": {
        "colab": {
          "base_uri": "https://localhost:8080/"
        },
        "id": "S4AtmswpvdkG",
        "outputId": "64d59f76-f261-433f-e1f8-3b17ae2b2222"
      },
      "source": [
        "cd dudoandiem/"
      ],
      "execution_count": 3,
      "outputs": [
        {
          "output_type": "stream",
          "text": [
            "/content/dudoandiem\n"
          ],
          "name": "stdout"
        }
      ]
    },
    {
      "cell_type": "markdown",
      "metadata": {
        "id": "bSB0oJMWomYq"
      },
      "source": [
        "IMPORT THƯ VIỆN CẦN THIẾT:"
      ]
    },
    {
      "cell_type": "code",
      "metadata": {
        "id": "uUURyAoET_75"
      },
      "source": [
        "import pandas as pd\n",
        "import matplotlib.pyplot as plt"
      ],
      "execution_count": 4,
      "outputs": []
    },
    {
      "cell_type": "code",
      "metadata": {
        "id": "9sgHlh7UTlH-"
      },
      "source": [
        "wecode_data = pd.read_csv('wecode.csv')"
      ],
      "execution_count": 5,
      "outputs": []
    },
    {
      "cell_type": "code",
      "metadata": {
        "colab": {
          "base_uri": "https://localhost:8080/",
          "height": 514
        },
        "id": "ULGNyO71UEyw",
        "outputId": "bf114de8-25b5-43a0-9b90-bb6b14424bf5"
      },
      "source": [
        "wecode_data.head(15)"
      ],
      "execution_count": 6,
      "outputs": [
        {
          "output_type": "execute_result",
          "data": {
            "text/html": [
              "<div>\n",
              "<style scoped>\n",
              "    .dataframe tbody tr th:only-of-type {\n",
              "        vertical-align: middle;\n",
              "    }\n",
              "\n",
              "    .dataframe tbody tr th {\n",
              "        vertical-align: top;\n",
              "    }\n",
              "\n",
              "    .dataframe thead th {\n",
              "        text-align: right;\n",
              "    }\n",
              "</style>\n",
              "<table border=\"1\" class=\"dataframe\">\n",
              "  <thead>\n",
              "    <tr style=\"text-align: right;\">\n",
              "      <th></th>\n",
              "      <th>id</th>\n",
              "      <th>assignment_id</th>\n",
              "      <th>problem_id</th>\n",
              "      <th>user_id</th>\n",
              "      <th>is_final</th>\n",
              "      <th>status</th>\n",
              "      <th>pre_score</th>\n",
              "      <th>coefficient</th>\n",
              "      <th>file_name</th>\n",
              "      <th>language_id</th>\n",
              "      <th>created_at</th>\n",
              "      <th>updated_at</th>\n",
              "    </tr>\n",
              "  </thead>\n",
              "  <tbody>\n",
              "    <tr>\n",
              "      <th>0</th>\n",
              "      <td>4</td>\n",
              "      <td>0</td>\n",
              "      <td>3</td>\n",
              "      <td>4</td>\n",
              "      <td>1</td>\n",
              "      <td>SCORE</td>\n",
              "      <td>10000</td>\n",
              "      <td>100</td>\n",
              "      <td>solution-0</td>\n",
              "      <td>2</td>\n",
              "      <td>2020-10-30 10:58:11</td>\n",
              "      <td>2020-10-30 10:58:19</td>\n",
              "    </tr>\n",
              "    <tr>\n",
              "      <th>1</th>\n",
              "      <td>5</td>\n",
              "      <td>0</td>\n",
              "      <td>4</td>\n",
              "      <td>4</td>\n",
              "      <td>1</td>\n",
              "      <td>SCORE</td>\n",
              "      <td>10000</td>\n",
              "      <td>100</td>\n",
              "      <td>solution-1</td>\n",
              "      <td>2</td>\n",
              "      <td>2020-10-30 11:07:09</td>\n",
              "      <td>2020-10-30 11:07:17</td>\n",
              "    </tr>\n",
              "    <tr>\n",
              "      <th>2</th>\n",
              "      <td>6</td>\n",
              "      <td>0</td>\n",
              "      <td>5</td>\n",
              "      <td>4</td>\n",
              "      <td>0</td>\n",
              "      <td>Compilation Error</td>\n",
              "      <td>0</td>\n",
              "      <td>100</td>\n",
              "      <td>solution-2</td>\n",
              "      <td>2</td>\n",
              "      <td>2020-10-30 11:08:01</td>\n",
              "      <td>2020-10-30 11:23:36</td>\n",
              "    </tr>\n",
              "    <tr>\n",
              "      <th>3</th>\n",
              "      <td>7</td>\n",
              "      <td>0</td>\n",
              "      <td>5</td>\n",
              "      <td>4</td>\n",
              "      <td>0</td>\n",
              "      <td>Compilation Error</td>\n",
              "      <td>0</td>\n",
              "      <td>100</td>\n",
              "      <td>solution-3</td>\n",
              "      <td>2</td>\n",
              "      <td>2020-10-30 11:11:41</td>\n",
              "      <td>2020-10-30 11:11:42</td>\n",
              "    </tr>\n",
              "    <tr>\n",
              "      <th>4</th>\n",
              "      <td>8</td>\n",
              "      <td>0</td>\n",
              "      <td>5</td>\n",
              "      <td>4</td>\n",
              "      <td>0</td>\n",
              "      <td>Compilation Error</td>\n",
              "      <td>0</td>\n",
              "      <td>100</td>\n",
              "      <td>solution-4</td>\n",
              "      <td>2</td>\n",
              "      <td>2020-10-30 11:15:06</td>\n",
              "      <td>2020-10-30 11:15:07</td>\n",
              "    </tr>\n",
              "    <tr>\n",
              "      <th>5</th>\n",
              "      <td>9</td>\n",
              "      <td>0</td>\n",
              "      <td>5</td>\n",
              "      <td>4</td>\n",
              "      <td>0</td>\n",
              "      <td>Compilation Error</td>\n",
              "      <td>0</td>\n",
              "      <td>100</td>\n",
              "      <td>solution-5</td>\n",
              "      <td>2</td>\n",
              "      <td>2020-10-30 11:16:57</td>\n",
              "      <td>2020-10-30 11:16:58</td>\n",
              "    </tr>\n",
              "    <tr>\n",
              "      <th>6</th>\n",
              "      <td>10</td>\n",
              "      <td>0</td>\n",
              "      <td>6</td>\n",
              "      <td>4</td>\n",
              "      <td>1</td>\n",
              "      <td>SCORE</td>\n",
              "      <td>10000</td>\n",
              "      <td>100</td>\n",
              "      <td>solution-6</td>\n",
              "      <td>2</td>\n",
              "      <td>2020-10-30 11:18:47</td>\n",
              "      <td>2020-10-30 11:18:55</td>\n",
              "    </tr>\n",
              "    <tr>\n",
              "      <th>7</th>\n",
              "      <td>11</td>\n",
              "      <td>0</td>\n",
              "      <td>7</td>\n",
              "      <td>4</td>\n",
              "      <td>1</td>\n",
              "      <td>SCORE</td>\n",
              "      <td>10000</td>\n",
              "      <td>100</td>\n",
              "      <td>solution-7</td>\n",
              "      <td>2</td>\n",
              "      <td>2020-10-30 11:20:07</td>\n",
              "      <td>2020-10-30 11:20:15</td>\n",
              "    </tr>\n",
              "    <tr>\n",
              "      <th>8</th>\n",
              "      <td>12</td>\n",
              "      <td>0</td>\n",
              "      <td>8</td>\n",
              "      <td>4</td>\n",
              "      <td>1</td>\n",
              "      <td>SCORE</td>\n",
              "      <td>10000</td>\n",
              "      <td>100</td>\n",
              "      <td>solution-8</td>\n",
              "      <td>2</td>\n",
              "      <td>2020-10-30 11:21:02</td>\n",
              "      <td>2020-10-30 11:21:10</td>\n",
              "    </tr>\n",
              "    <tr>\n",
              "      <th>9</th>\n",
              "      <td>13</td>\n",
              "      <td>0</td>\n",
              "      <td>9</td>\n",
              "      <td>4</td>\n",
              "      <td>1</td>\n",
              "      <td>SCORE</td>\n",
              "      <td>10000</td>\n",
              "      <td>100</td>\n",
              "      <td>solution-9</td>\n",
              "      <td>2</td>\n",
              "      <td>2020-10-30 11:21:36</td>\n",
              "      <td>2020-10-30 11:21:44</td>\n",
              "    </tr>\n",
              "    <tr>\n",
              "      <th>10</th>\n",
              "      <td>14</td>\n",
              "      <td>0</td>\n",
              "      <td>5</td>\n",
              "      <td>4</td>\n",
              "      <td>1</td>\n",
              "      <td>SCORE</td>\n",
              "      <td>10000</td>\n",
              "      <td>100</td>\n",
              "      <td>solution-10</td>\n",
              "      <td>2</td>\n",
              "      <td>2020-10-30 11:23:28</td>\n",
              "      <td>2020-10-30 11:23:36</td>\n",
              "    </tr>\n",
              "    <tr>\n",
              "      <th>11</th>\n",
              "      <td>15</td>\n",
              "      <td>7</td>\n",
              "      <td>10</td>\n",
              "      <td>1439</td>\n",
              "      <td>0</td>\n",
              "      <td>Compilation Error</td>\n",
              "      <td>0</td>\n",
              "      <td>100</td>\n",
              "      <td>solution-0</td>\n",
              "      <td>2</td>\n",
              "      <td>2020-11-02 04:14:31</td>\n",
              "      <td>2020-11-03 13:54:00</td>\n",
              "    </tr>\n",
              "    <tr>\n",
              "      <th>12</th>\n",
              "      <td>16</td>\n",
              "      <td>7</td>\n",
              "      <td>3</td>\n",
              "      <td>1549</td>\n",
              "      <td>1</td>\n",
              "      <td>SCORE</td>\n",
              "      <td>10000</td>\n",
              "      <td>100</td>\n",
              "      <td>solution-upload-1</td>\n",
              "      <td>2</td>\n",
              "      <td>2020-11-02 04:15:22</td>\n",
              "      <td>2020-11-03 13:54:00</td>\n",
              "    </tr>\n",
              "    <tr>\n",
              "      <th>13</th>\n",
              "      <td>17</td>\n",
              "      <td>7</td>\n",
              "      <td>10</td>\n",
              "      <td>1439</td>\n",
              "      <td>0</td>\n",
              "      <td>Compilation Error</td>\n",
              "      <td>0</td>\n",
              "      <td>100</td>\n",
              "      <td>solution-2</td>\n",
              "      <td>2</td>\n",
              "      <td>2020-11-02 04:16:39</td>\n",
              "      <td>2020-11-03 13:54:00</td>\n",
              "    </tr>\n",
              "    <tr>\n",
              "      <th>14</th>\n",
              "      <td>18</td>\n",
              "      <td>7</td>\n",
              "      <td>1</td>\n",
              "      <td>1517</td>\n",
              "      <td>0</td>\n",
              "      <td>Compilation Error</td>\n",
              "      <td>0</td>\n",
              "      <td>100</td>\n",
              "      <td>solution-3</td>\n",
              "      <td>2</td>\n",
              "      <td>2020-11-02 04:16:45</td>\n",
              "      <td>2020-11-03 15:42:22</td>\n",
              "    </tr>\n",
              "  </tbody>\n",
              "</table>\n",
              "</div>"
            ],
            "text/plain": [
              "    id  assignment_id  ...           created_at           updated_at\n",
              "0    4              0  ...  2020-10-30 10:58:11  2020-10-30 10:58:19\n",
              "1    5              0  ...  2020-10-30 11:07:09  2020-10-30 11:07:17\n",
              "2    6              0  ...  2020-10-30 11:08:01  2020-10-30 11:23:36\n",
              "3    7              0  ...  2020-10-30 11:11:41  2020-10-30 11:11:42\n",
              "4    8              0  ...  2020-10-30 11:15:06  2020-10-30 11:15:07\n",
              "5    9              0  ...  2020-10-30 11:16:57  2020-10-30 11:16:58\n",
              "6   10              0  ...  2020-10-30 11:18:47  2020-10-30 11:18:55\n",
              "7   11              0  ...  2020-10-30 11:20:07  2020-10-30 11:20:15\n",
              "8   12              0  ...  2020-10-30 11:21:02  2020-10-30 11:21:10\n",
              "9   13              0  ...  2020-10-30 11:21:36  2020-10-30 11:21:44\n",
              "10  14              0  ...  2020-10-30 11:23:28  2020-10-30 11:23:36\n",
              "11  15              7  ...  2020-11-02 04:14:31  2020-11-03 13:54:00\n",
              "12  16              7  ...  2020-11-02 04:15:22  2020-11-03 13:54:00\n",
              "13  17              7  ...  2020-11-02 04:16:39  2020-11-03 13:54:00\n",
              "14  18              7  ...  2020-11-02 04:16:45  2020-11-03 15:42:22\n",
              "\n",
              "[15 rows x 12 columns]"
            ]
          },
          "metadata": {
            "tags": []
          },
          "execution_count": 6
        }
      ]
    },
    {
      "cell_type": "code",
      "metadata": {
        "colab": {
          "base_uri": "https://localhost:8080/"
        },
        "id": "FFq8ZW3cTRfN",
        "outputId": "f5a265ca-dd80-42d6-c472-f386a68843b2"
      },
      "source": [
        "wecode_data.info()"
      ],
      "execution_count": 7,
      "outputs": [
        {
          "output_type": "stream",
          "text": [
            "<class 'pandas.core.frame.DataFrame'>\n",
            "RangeIndex: 264606 entries, 0 to 264605\n",
            "Data columns (total 12 columns):\n",
            " #   Column         Non-Null Count   Dtype \n",
            "---  ------         --------------   ----- \n",
            " 0   id             264606 non-null  int64 \n",
            " 1   assignment_id  264606 non-null  int64 \n",
            " 2   problem_id     264606 non-null  int64 \n",
            " 3   user_id        264606 non-null  int64 \n",
            " 4   is_final       264606 non-null  int64 \n",
            " 5   status         264605 non-null  object\n",
            " 6   pre_score      264606 non-null  int64 \n",
            " 7   coefficient    264606 non-null  object\n",
            " 8   file_name      264606 non-null  object\n",
            " 9   language_id    264606 non-null  int64 \n",
            " 10  created_at     264606 non-null  object\n",
            " 11  updated_at     264606 non-null  object\n",
            "dtypes: int64(7), object(5)\n",
            "memory usage: 24.2+ MB\n"
          ],
          "name": "stdout"
        }
      ]
    },
    {
      "cell_type": "markdown",
      "metadata": {
        "id": "qHYQ6DQDdPo1"
      },
      "source": [
        "Chuyển các cột updated_at và created_at về dạng dữ liệu thời gian:"
      ]
    },
    {
      "cell_type": "code",
      "metadata": {
        "id": "Cd943-VjS7_a"
      },
      "source": [
        "wecode_data['updated_at']=pd.to_datetime(wecode_data['updated_at'])\n",
        "wecode_data['created_at']=pd.to_datetime(wecode_data['created_at'])"
      ],
      "execution_count": 8,
      "outputs": []
    },
    {
      "cell_type": "code",
      "metadata": {
        "colab": {
          "base_uri": "https://localhost:8080/"
        },
        "id": "hjCiG5OfZkLS",
        "outputId": "e3750b0c-d0fb-4b9a-f297-3889ff032fda"
      },
      "source": [
        "wecode_data.info()"
      ],
      "execution_count": 9,
      "outputs": [
        {
          "output_type": "stream",
          "text": [
            "<class 'pandas.core.frame.DataFrame'>\n",
            "RangeIndex: 264606 entries, 0 to 264605\n",
            "Data columns (total 12 columns):\n",
            " #   Column         Non-Null Count   Dtype         \n",
            "---  ------         --------------   -----         \n",
            " 0   id             264606 non-null  int64         \n",
            " 1   assignment_id  264606 non-null  int64         \n",
            " 2   problem_id     264606 non-null  int64         \n",
            " 3   user_id        264606 non-null  int64         \n",
            " 4   is_final       264606 non-null  int64         \n",
            " 5   status         264605 non-null  object        \n",
            " 6   pre_score      264606 non-null  int64         \n",
            " 7   coefficient    264606 non-null  object        \n",
            " 8   file_name      264606 non-null  object        \n",
            " 9   language_id    264606 non-null  int64         \n",
            " 10  created_at     264606 non-null  datetime64[ns]\n",
            " 11  updated_at     264606 non-null  datetime64[ns]\n",
            "dtypes: datetime64[ns](2), int64(7), object(3)\n",
            "memory usage: 24.2+ MB\n"
          ],
          "name": "stdout"
        }
      ]
    },
    {
      "cell_type": "markdown",
      "metadata": {
        "id": "Ojast2EtdZRm"
      },
      "source": [
        "Nhóm nhận thấy rằng cột cofficient đang ở dạng object nên sẽ chuyển về dạng số. Nhưng có 1 số hàng cột này sẽ hiển thị là 'error'. Nên nhóm quyết định sẽ cho những hàng này có cofficient=0 luôn để sau này có thể tính hệ số nộp trễ trung bình.  "
      ]
    },
    {
      "cell_type": "code",
      "metadata": {
        "id": "9wWmrrc0cXM-"
      },
      "source": [
        "wecode_data.loc[(wecode_data['coefficient'] == 'error') ,'coefficient']=0"
      ],
      "execution_count": 10,
      "outputs": []
    },
    {
      "cell_type": "code",
      "metadata": {
        "id": "bFIJHyGqbGd3"
      },
      "source": [
        "wecode_data['coefficient']=pd.to_numeric(wecode_data['coefficient'])"
      ],
      "execution_count": 11,
      "outputs": []
    },
    {
      "cell_type": "code",
      "metadata": {
        "colab": {
          "base_uri": "https://localhost:8080/"
        },
        "id": "tBg8C1GHe1fc",
        "outputId": "f3ba602e-bdbb-4f1c-bffc-a5f67df4bd70"
      },
      "source": [
        "wecode_data.info()"
      ],
      "execution_count": 12,
      "outputs": [
        {
          "output_type": "stream",
          "text": [
            "<class 'pandas.core.frame.DataFrame'>\n",
            "RangeIndex: 264606 entries, 0 to 264605\n",
            "Data columns (total 12 columns):\n",
            " #   Column         Non-Null Count   Dtype         \n",
            "---  ------         --------------   -----         \n",
            " 0   id             264606 non-null  int64         \n",
            " 1   assignment_id  264606 non-null  int64         \n",
            " 2   problem_id     264606 non-null  int64         \n",
            " 3   user_id        264606 non-null  int64         \n",
            " 4   is_final       264606 non-null  int64         \n",
            " 5   status         264605 non-null  object        \n",
            " 6   pre_score      264606 non-null  int64         \n",
            " 7   coefficient    264606 non-null  int64         \n",
            " 8   file_name      264606 non-null  object        \n",
            " 9   language_id    264606 non-null  int64         \n",
            " 10  created_at     264606 non-null  datetime64[ns]\n",
            " 11  updated_at     264606 non-null  datetime64[ns]\n",
            "dtypes: datetime64[ns](2), int64(8), object(2)\n",
            "memory usage: 24.2+ MB\n"
          ],
          "name": "stdout"
        }
      ]
    },
    {
      "cell_type": "code",
      "metadata": {
        "colab": {
          "base_uri": "https://localhost:8080/",
          "height": 514
        },
        "id": "pldn_NV0XKAZ",
        "outputId": "31ffab7c-bb1d-429f-f3e6-7ea1bbc00f3c"
      },
      "source": [
        "wecode_data.head(15)"
      ],
      "execution_count": 13,
      "outputs": [
        {
          "output_type": "execute_result",
          "data": {
            "text/html": [
              "<div>\n",
              "<style scoped>\n",
              "    .dataframe tbody tr th:only-of-type {\n",
              "        vertical-align: middle;\n",
              "    }\n",
              "\n",
              "    .dataframe tbody tr th {\n",
              "        vertical-align: top;\n",
              "    }\n",
              "\n",
              "    .dataframe thead th {\n",
              "        text-align: right;\n",
              "    }\n",
              "</style>\n",
              "<table border=\"1\" class=\"dataframe\">\n",
              "  <thead>\n",
              "    <tr style=\"text-align: right;\">\n",
              "      <th></th>\n",
              "      <th>id</th>\n",
              "      <th>assignment_id</th>\n",
              "      <th>problem_id</th>\n",
              "      <th>user_id</th>\n",
              "      <th>is_final</th>\n",
              "      <th>status</th>\n",
              "      <th>pre_score</th>\n",
              "      <th>coefficient</th>\n",
              "      <th>file_name</th>\n",
              "      <th>language_id</th>\n",
              "      <th>created_at</th>\n",
              "      <th>updated_at</th>\n",
              "    </tr>\n",
              "  </thead>\n",
              "  <tbody>\n",
              "    <tr>\n",
              "      <th>0</th>\n",
              "      <td>4</td>\n",
              "      <td>0</td>\n",
              "      <td>3</td>\n",
              "      <td>4</td>\n",
              "      <td>1</td>\n",
              "      <td>SCORE</td>\n",
              "      <td>10000</td>\n",
              "      <td>100</td>\n",
              "      <td>solution-0</td>\n",
              "      <td>2</td>\n",
              "      <td>2020-10-30 10:58:11</td>\n",
              "      <td>2020-10-30 10:58:19</td>\n",
              "    </tr>\n",
              "    <tr>\n",
              "      <th>1</th>\n",
              "      <td>5</td>\n",
              "      <td>0</td>\n",
              "      <td>4</td>\n",
              "      <td>4</td>\n",
              "      <td>1</td>\n",
              "      <td>SCORE</td>\n",
              "      <td>10000</td>\n",
              "      <td>100</td>\n",
              "      <td>solution-1</td>\n",
              "      <td>2</td>\n",
              "      <td>2020-10-30 11:07:09</td>\n",
              "      <td>2020-10-30 11:07:17</td>\n",
              "    </tr>\n",
              "    <tr>\n",
              "      <th>2</th>\n",
              "      <td>6</td>\n",
              "      <td>0</td>\n",
              "      <td>5</td>\n",
              "      <td>4</td>\n",
              "      <td>0</td>\n",
              "      <td>Compilation Error</td>\n",
              "      <td>0</td>\n",
              "      <td>100</td>\n",
              "      <td>solution-2</td>\n",
              "      <td>2</td>\n",
              "      <td>2020-10-30 11:08:01</td>\n",
              "      <td>2020-10-30 11:23:36</td>\n",
              "    </tr>\n",
              "    <tr>\n",
              "      <th>3</th>\n",
              "      <td>7</td>\n",
              "      <td>0</td>\n",
              "      <td>5</td>\n",
              "      <td>4</td>\n",
              "      <td>0</td>\n",
              "      <td>Compilation Error</td>\n",
              "      <td>0</td>\n",
              "      <td>100</td>\n",
              "      <td>solution-3</td>\n",
              "      <td>2</td>\n",
              "      <td>2020-10-30 11:11:41</td>\n",
              "      <td>2020-10-30 11:11:42</td>\n",
              "    </tr>\n",
              "    <tr>\n",
              "      <th>4</th>\n",
              "      <td>8</td>\n",
              "      <td>0</td>\n",
              "      <td>5</td>\n",
              "      <td>4</td>\n",
              "      <td>0</td>\n",
              "      <td>Compilation Error</td>\n",
              "      <td>0</td>\n",
              "      <td>100</td>\n",
              "      <td>solution-4</td>\n",
              "      <td>2</td>\n",
              "      <td>2020-10-30 11:15:06</td>\n",
              "      <td>2020-10-30 11:15:07</td>\n",
              "    </tr>\n",
              "    <tr>\n",
              "      <th>5</th>\n",
              "      <td>9</td>\n",
              "      <td>0</td>\n",
              "      <td>5</td>\n",
              "      <td>4</td>\n",
              "      <td>0</td>\n",
              "      <td>Compilation Error</td>\n",
              "      <td>0</td>\n",
              "      <td>100</td>\n",
              "      <td>solution-5</td>\n",
              "      <td>2</td>\n",
              "      <td>2020-10-30 11:16:57</td>\n",
              "      <td>2020-10-30 11:16:58</td>\n",
              "    </tr>\n",
              "    <tr>\n",
              "      <th>6</th>\n",
              "      <td>10</td>\n",
              "      <td>0</td>\n",
              "      <td>6</td>\n",
              "      <td>4</td>\n",
              "      <td>1</td>\n",
              "      <td>SCORE</td>\n",
              "      <td>10000</td>\n",
              "      <td>100</td>\n",
              "      <td>solution-6</td>\n",
              "      <td>2</td>\n",
              "      <td>2020-10-30 11:18:47</td>\n",
              "      <td>2020-10-30 11:18:55</td>\n",
              "    </tr>\n",
              "    <tr>\n",
              "      <th>7</th>\n",
              "      <td>11</td>\n",
              "      <td>0</td>\n",
              "      <td>7</td>\n",
              "      <td>4</td>\n",
              "      <td>1</td>\n",
              "      <td>SCORE</td>\n",
              "      <td>10000</td>\n",
              "      <td>100</td>\n",
              "      <td>solution-7</td>\n",
              "      <td>2</td>\n",
              "      <td>2020-10-30 11:20:07</td>\n",
              "      <td>2020-10-30 11:20:15</td>\n",
              "    </tr>\n",
              "    <tr>\n",
              "      <th>8</th>\n",
              "      <td>12</td>\n",
              "      <td>0</td>\n",
              "      <td>8</td>\n",
              "      <td>4</td>\n",
              "      <td>1</td>\n",
              "      <td>SCORE</td>\n",
              "      <td>10000</td>\n",
              "      <td>100</td>\n",
              "      <td>solution-8</td>\n",
              "      <td>2</td>\n",
              "      <td>2020-10-30 11:21:02</td>\n",
              "      <td>2020-10-30 11:21:10</td>\n",
              "    </tr>\n",
              "    <tr>\n",
              "      <th>9</th>\n",
              "      <td>13</td>\n",
              "      <td>0</td>\n",
              "      <td>9</td>\n",
              "      <td>4</td>\n",
              "      <td>1</td>\n",
              "      <td>SCORE</td>\n",
              "      <td>10000</td>\n",
              "      <td>100</td>\n",
              "      <td>solution-9</td>\n",
              "      <td>2</td>\n",
              "      <td>2020-10-30 11:21:36</td>\n",
              "      <td>2020-10-30 11:21:44</td>\n",
              "    </tr>\n",
              "    <tr>\n",
              "      <th>10</th>\n",
              "      <td>14</td>\n",
              "      <td>0</td>\n",
              "      <td>5</td>\n",
              "      <td>4</td>\n",
              "      <td>1</td>\n",
              "      <td>SCORE</td>\n",
              "      <td>10000</td>\n",
              "      <td>100</td>\n",
              "      <td>solution-10</td>\n",
              "      <td>2</td>\n",
              "      <td>2020-10-30 11:23:28</td>\n",
              "      <td>2020-10-30 11:23:36</td>\n",
              "    </tr>\n",
              "    <tr>\n",
              "      <th>11</th>\n",
              "      <td>15</td>\n",
              "      <td>7</td>\n",
              "      <td>10</td>\n",
              "      <td>1439</td>\n",
              "      <td>0</td>\n",
              "      <td>Compilation Error</td>\n",
              "      <td>0</td>\n",
              "      <td>100</td>\n",
              "      <td>solution-0</td>\n",
              "      <td>2</td>\n",
              "      <td>2020-11-02 04:14:31</td>\n",
              "      <td>2020-11-03 13:54:00</td>\n",
              "    </tr>\n",
              "    <tr>\n",
              "      <th>12</th>\n",
              "      <td>16</td>\n",
              "      <td>7</td>\n",
              "      <td>3</td>\n",
              "      <td>1549</td>\n",
              "      <td>1</td>\n",
              "      <td>SCORE</td>\n",
              "      <td>10000</td>\n",
              "      <td>100</td>\n",
              "      <td>solution-upload-1</td>\n",
              "      <td>2</td>\n",
              "      <td>2020-11-02 04:15:22</td>\n",
              "      <td>2020-11-03 13:54:00</td>\n",
              "    </tr>\n",
              "    <tr>\n",
              "      <th>13</th>\n",
              "      <td>17</td>\n",
              "      <td>7</td>\n",
              "      <td>10</td>\n",
              "      <td>1439</td>\n",
              "      <td>0</td>\n",
              "      <td>Compilation Error</td>\n",
              "      <td>0</td>\n",
              "      <td>100</td>\n",
              "      <td>solution-2</td>\n",
              "      <td>2</td>\n",
              "      <td>2020-11-02 04:16:39</td>\n",
              "      <td>2020-11-03 13:54:00</td>\n",
              "    </tr>\n",
              "    <tr>\n",
              "      <th>14</th>\n",
              "      <td>18</td>\n",
              "      <td>7</td>\n",
              "      <td>1</td>\n",
              "      <td>1517</td>\n",
              "      <td>0</td>\n",
              "      <td>Compilation Error</td>\n",
              "      <td>0</td>\n",
              "      <td>100</td>\n",
              "      <td>solution-3</td>\n",
              "      <td>2</td>\n",
              "      <td>2020-11-02 04:16:45</td>\n",
              "      <td>2020-11-03 15:42:22</td>\n",
              "    </tr>\n",
              "  </tbody>\n",
              "</table>\n",
              "</div>"
            ],
            "text/plain": [
              "    id  assignment_id  ...          created_at          updated_at\n",
              "0    4              0  ... 2020-10-30 10:58:11 2020-10-30 10:58:19\n",
              "1    5              0  ... 2020-10-30 11:07:09 2020-10-30 11:07:17\n",
              "2    6              0  ... 2020-10-30 11:08:01 2020-10-30 11:23:36\n",
              "3    7              0  ... 2020-10-30 11:11:41 2020-10-30 11:11:42\n",
              "4    8              0  ... 2020-10-30 11:15:06 2020-10-30 11:15:07\n",
              "5    9              0  ... 2020-10-30 11:16:57 2020-10-30 11:16:58\n",
              "6   10              0  ... 2020-10-30 11:18:47 2020-10-30 11:18:55\n",
              "7   11              0  ... 2020-10-30 11:20:07 2020-10-30 11:20:15\n",
              "8   12              0  ... 2020-10-30 11:21:02 2020-10-30 11:21:10\n",
              "9   13              0  ... 2020-10-30 11:21:36 2020-10-30 11:21:44\n",
              "10  14              0  ... 2020-10-30 11:23:28 2020-10-30 11:23:36\n",
              "11  15              7  ... 2020-11-02 04:14:31 2020-11-03 13:54:00\n",
              "12  16              7  ... 2020-11-02 04:15:22 2020-11-03 13:54:00\n",
              "13  17              7  ... 2020-11-02 04:16:39 2020-11-03 13:54:00\n",
              "14  18              7  ... 2020-11-02 04:16:45 2020-11-03 15:42:22\n",
              "\n",
              "[15 rows x 12 columns]"
            ]
          },
          "metadata": {
            "tags": []
          },
          "execution_count": 13
        }
      ]
    },
    {
      "cell_type": "markdown",
      "metadata": {
        "id": "NWad6T2gaSH2"
      },
      "source": [
        "Lọc 1 số cột nhóm cho rằng là cần cho việc nghiên cứu:"
      ]
    },
    {
      "cell_type": "code",
      "metadata": {
        "id": "kKEhai-gaRp_"
      },
      "source": [
        "df=wecode_data[['user_id','assignment_id','problem_id','coefficient','is_final','status','pre_score','created_at','updated_at']]"
      ],
      "execution_count": 14,
      "outputs": []
    },
    {
      "cell_type": "code",
      "metadata": {
        "colab": {
          "base_uri": "https://localhost:8080/",
          "height": 514
        },
        "id": "eNHZR8L3bVJm",
        "outputId": "0bc84302-1271-4652-af0b-4280374f1108"
      },
      "source": [
        "df.head(15)"
      ],
      "execution_count": 15,
      "outputs": [
        {
          "output_type": "execute_result",
          "data": {
            "text/html": [
              "<div>\n",
              "<style scoped>\n",
              "    .dataframe tbody tr th:only-of-type {\n",
              "        vertical-align: middle;\n",
              "    }\n",
              "\n",
              "    .dataframe tbody tr th {\n",
              "        vertical-align: top;\n",
              "    }\n",
              "\n",
              "    .dataframe thead th {\n",
              "        text-align: right;\n",
              "    }\n",
              "</style>\n",
              "<table border=\"1\" class=\"dataframe\">\n",
              "  <thead>\n",
              "    <tr style=\"text-align: right;\">\n",
              "      <th></th>\n",
              "      <th>user_id</th>\n",
              "      <th>assignment_id</th>\n",
              "      <th>problem_id</th>\n",
              "      <th>coefficient</th>\n",
              "      <th>is_final</th>\n",
              "      <th>status</th>\n",
              "      <th>pre_score</th>\n",
              "      <th>created_at</th>\n",
              "      <th>updated_at</th>\n",
              "    </tr>\n",
              "  </thead>\n",
              "  <tbody>\n",
              "    <tr>\n",
              "      <th>0</th>\n",
              "      <td>4</td>\n",
              "      <td>0</td>\n",
              "      <td>3</td>\n",
              "      <td>100</td>\n",
              "      <td>1</td>\n",
              "      <td>SCORE</td>\n",
              "      <td>10000</td>\n",
              "      <td>2020-10-30 10:58:11</td>\n",
              "      <td>2020-10-30 10:58:19</td>\n",
              "    </tr>\n",
              "    <tr>\n",
              "      <th>1</th>\n",
              "      <td>4</td>\n",
              "      <td>0</td>\n",
              "      <td>4</td>\n",
              "      <td>100</td>\n",
              "      <td>1</td>\n",
              "      <td>SCORE</td>\n",
              "      <td>10000</td>\n",
              "      <td>2020-10-30 11:07:09</td>\n",
              "      <td>2020-10-30 11:07:17</td>\n",
              "    </tr>\n",
              "    <tr>\n",
              "      <th>2</th>\n",
              "      <td>4</td>\n",
              "      <td>0</td>\n",
              "      <td>5</td>\n",
              "      <td>100</td>\n",
              "      <td>0</td>\n",
              "      <td>Compilation Error</td>\n",
              "      <td>0</td>\n",
              "      <td>2020-10-30 11:08:01</td>\n",
              "      <td>2020-10-30 11:23:36</td>\n",
              "    </tr>\n",
              "    <tr>\n",
              "      <th>3</th>\n",
              "      <td>4</td>\n",
              "      <td>0</td>\n",
              "      <td>5</td>\n",
              "      <td>100</td>\n",
              "      <td>0</td>\n",
              "      <td>Compilation Error</td>\n",
              "      <td>0</td>\n",
              "      <td>2020-10-30 11:11:41</td>\n",
              "      <td>2020-10-30 11:11:42</td>\n",
              "    </tr>\n",
              "    <tr>\n",
              "      <th>4</th>\n",
              "      <td>4</td>\n",
              "      <td>0</td>\n",
              "      <td>5</td>\n",
              "      <td>100</td>\n",
              "      <td>0</td>\n",
              "      <td>Compilation Error</td>\n",
              "      <td>0</td>\n",
              "      <td>2020-10-30 11:15:06</td>\n",
              "      <td>2020-10-30 11:15:07</td>\n",
              "    </tr>\n",
              "    <tr>\n",
              "      <th>5</th>\n",
              "      <td>4</td>\n",
              "      <td>0</td>\n",
              "      <td>5</td>\n",
              "      <td>100</td>\n",
              "      <td>0</td>\n",
              "      <td>Compilation Error</td>\n",
              "      <td>0</td>\n",
              "      <td>2020-10-30 11:16:57</td>\n",
              "      <td>2020-10-30 11:16:58</td>\n",
              "    </tr>\n",
              "    <tr>\n",
              "      <th>6</th>\n",
              "      <td>4</td>\n",
              "      <td>0</td>\n",
              "      <td>6</td>\n",
              "      <td>100</td>\n",
              "      <td>1</td>\n",
              "      <td>SCORE</td>\n",
              "      <td>10000</td>\n",
              "      <td>2020-10-30 11:18:47</td>\n",
              "      <td>2020-10-30 11:18:55</td>\n",
              "    </tr>\n",
              "    <tr>\n",
              "      <th>7</th>\n",
              "      <td>4</td>\n",
              "      <td>0</td>\n",
              "      <td>7</td>\n",
              "      <td>100</td>\n",
              "      <td>1</td>\n",
              "      <td>SCORE</td>\n",
              "      <td>10000</td>\n",
              "      <td>2020-10-30 11:20:07</td>\n",
              "      <td>2020-10-30 11:20:15</td>\n",
              "    </tr>\n",
              "    <tr>\n",
              "      <th>8</th>\n",
              "      <td>4</td>\n",
              "      <td>0</td>\n",
              "      <td>8</td>\n",
              "      <td>100</td>\n",
              "      <td>1</td>\n",
              "      <td>SCORE</td>\n",
              "      <td>10000</td>\n",
              "      <td>2020-10-30 11:21:02</td>\n",
              "      <td>2020-10-30 11:21:10</td>\n",
              "    </tr>\n",
              "    <tr>\n",
              "      <th>9</th>\n",
              "      <td>4</td>\n",
              "      <td>0</td>\n",
              "      <td>9</td>\n",
              "      <td>100</td>\n",
              "      <td>1</td>\n",
              "      <td>SCORE</td>\n",
              "      <td>10000</td>\n",
              "      <td>2020-10-30 11:21:36</td>\n",
              "      <td>2020-10-30 11:21:44</td>\n",
              "    </tr>\n",
              "    <tr>\n",
              "      <th>10</th>\n",
              "      <td>4</td>\n",
              "      <td>0</td>\n",
              "      <td>5</td>\n",
              "      <td>100</td>\n",
              "      <td>1</td>\n",
              "      <td>SCORE</td>\n",
              "      <td>10000</td>\n",
              "      <td>2020-10-30 11:23:28</td>\n",
              "      <td>2020-10-30 11:23:36</td>\n",
              "    </tr>\n",
              "    <tr>\n",
              "      <th>11</th>\n",
              "      <td>1439</td>\n",
              "      <td>7</td>\n",
              "      <td>10</td>\n",
              "      <td>100</td>\n",
              "      <td>0</td>\n",
              "      <td>Compilation Error</td>\n",
              "      <td>0</td>\n",
              "      <td>2020-11-02 04:14:31</td>\n",
              "      <td>2020-11-03 13:54:00</td>\n",
              "    </tr>\n",
              "    <tr>\n",
              "      <th>12</th>\n",
              "      <td>1549</td>\n",
              "      <td>7</td>\n",
              "      <td>3</td>\n",
              "      <td>100</td>\n",
              "      <td>1</td>\n",
              "      <td>SCORE</td>\n",
              "      <td>10000</td>\n",
              "      <td>2020-11-02 04:15:22</td>\n",
              "      <td>2020-11-03 13:54:00</td>\n",
              "    </tr>\n",
              "    <tr>\n",
              "      <th>13</th>\n",
              "      <td>1439</td>\n",
              "      <td>7</td>\n",
              "      <td>10</td>\n",
              "      <td>100</td>\n",
              "      <td>0</td>\n",
              "      <td>Compilation Error</td>\n",
              "      <td>0</td>\n",
              "      <td>2020-11-02 04:16:39</td>\n",
              "      <td>2020-11-03 13:54:00</td>\n",
              "    </tr>\n",
              "    <tr>\n",
              "      <th>14</th>\n",
              "      <td>1517</td>\n",
              "      <td>7</td>\n",
              "      <td>1</td>\n",
              "      <td>100</td>\n",
              "      <td>0</td>\n",
              "      <td>Compilation Error</td>\n",
              "      <td>0</td>\n",
              "      <td>2020-11-02 04:16:45</td>\n",
              "      <td>2020-11-03 15:42:22</td>\n",
              "    </tr>\n",
              "  </tbody>\n",
              "</table>\n",
              "</div>"
            ],
            "text/plain": [
              "    user_id  assignment_id  ...          created_at          updated_at\n",
              "0         4              0  ... 2020-10-30 10:58:11 2020-10-30 10:58:19\n",
              "1         4              0  ... 2020-10-30 11:07:09 2020-10-30 11:07:17\n",
              "2         4              0  ... 2020-10-30 11:08:01 2020-10-30 11:23:36\n",
              "3         4              0  ... 2020-10-30 11:11:41 2020-10-30 11:11:42\n",
              "4         4              0  ... 2020-10-30 11:15:06 2020-10-30 11:15:07\n",
              "5         4              0  ... 2020-10-30 11:16:57 2020-10-30 11:16:58\n",
              "6         4              0  ... 2020-10-30 11:18:47 2020-10-30 11:18:55\n",
              "7         4              0  ... 2020-10-30 11:20:07 2020-10-30 11:20:15\n",
              "8         4              0  ... 2020-10-30 11:21:02 2020-10-30 11:21:10\n",
              "9         4              0  ... 2020-10-30 11:21:36 2020-10-30 11:21:44\n",
              "10        4              0  ... 2020-10-30 11:23:28 2020-10-30 11:23:36\n",
              "11     1439              7  ... 2020-11-02 04:14:31 2020-11-03 13:54:00\n",
              "12     1549              7  ... 2020-11-02 04:15:22 2020-11-03 13:54:00\n",
              "13     1439              7  ... 2020-11-02 04:16:39 2020-11-03 13:54:00\n",
              "14     1517              7  ... 2020-11-02 04:16:45 2020-11-03 15:42:22\n",
              "\n",
              "[15 rows x 9 columns]"
            ]
          },
          "metadata": {
            "tags": []
          },
          "execution_count": 15
        }
      ]
    },
    {
      "cell_type": "code",
      "metadata": {
        "colab": {
          "base_uri": "https://localhost:8080/"
        },
        "id": "VNRs-S8KiUzp",
        "outputId": "ffbb6dc9-31c8-4dcd-c862-f874fbb80d32"
      },
      "source": [
        "df.info()"
      ],
      "execution_count": 16,
      "outputs": [
        {
          "output_type": "stream",
          "text": [
            "<class 'pandas.core.frame.DataFrame'>\n",
            "RangeIndex: 264606 entries, 0 to 264605\n",
            "Data columns (total 9 columns):\n",
            " #   Column         Non-Null Count   Dtype         \n",
            "---  ------         --------------   -----         \n",
            " 0   user_id        264606 non-null  int64         \n",
            " 1   assignment_id  264606 non-null  int64         \n",
            " 2   problem_id     264606 non-null  int64         \n",
            " 3   coefficient    264606 non-null  int64         \n",
            " 4   is_final       264606 non-null  int64         \n",
            " 5   status         264605 non-null  object        \n",
            " 6   pre_score      264606 non-null  int64         \n",
            " 7   created_at     264606 non-null  datetime64[ns]\n",
            " 8   updated_at     264606 non-null  datetime64[ns]\n",
            "dtypes: datetime64[ns](2), int64(6), object(1)\n",
            "memory usage: 18.2+ MB\n"
          ],
          "name": "stdout"
        }
      ]
    },
    {
      "cell_type": "markdown",
      "metadata": {
        "id": "TuEu7mkG85xA"
      },
      "source": [
        "Add thêm cột: liệu sinh viên đã solved 1 problem hay là chưa ?\n",
        "\n",
        "Nếu đã solved: 1\n",
        "\n",
        "Nếu chưa solved: 0"
      ]
    },
    {
      "cell_type": "code",
      "metadata": {
        "id": "Uhxhy_yB6l9Q",
        "colab": {
          "base_uri": "https://localhost:8080/"
        },
        "outputId": "3505f964-5228-49f6-9262-b5d6e14880a5"
      },
      "source": [
        "df.loc[(df['is_final'] == 1) & (df['status'] == 'SCORE'),'solved']=1\n",
        "df.loc[(df['is_final'] != 1) | (df['status'] != 'SCORE'),'solved']=0"
      ],
      "execution_count": 17,
      "outputs": [
        {
          "output_type": "stream",
          "text": [
            "/usr/local/lib/python3.7/dist-packages/pandas/core/indexing.py:1596: SettingWithCopyWarning: \n",
            "A value is trying to be set on a copy of a slice from a DataFrame.\n",
            "Try using .loc[row_indexer,col_indexer] = value instead\n",
            "\n",
            "See the caveats in the documentation: https://pandas.pydata.org/pandas-docs/stable/user_guide/indexing.html#returning-a-view-versus-a-copy\n",
            "  self.obj[key] = _infer_fill_value(value)\n",
            "/usr/local/lib/python3.7/dist-packages/pandas/core/indexing.py:1763: SettingWithCopyWarning: \n",
            "A value is trying to be set on a copy of a slice from a DataFrame.\n",
            "Try using .loc[row_indexer,col_indexer] = value instead\n",
            "\n",
            "See the caveats in the documentation: https://pandas.pydata.org/pandas-docs/stable/user_guide/indexing.html#returning-a-view-versus-a-copy\n",
            "  isetter(loc, value)\n",
            "/usr/local/lib/python3.7/dist-packages/pandas/core/indexing.py:1763: SettingWithCopyWarning: \n",
            "A value is trying to be set on a copy of a slice from a DataFrame.\n",
            "Try using .loc[row_indexer,col_indexer] = value instead\n",
            "\n",
            "See the caveats in the documentation: https://pandas.pydata.org/pandas-docs/stable/user_guide/indexing.html#returning-a-view-versus-a-copy\n",
            "  isetter(loc, value)\n"
          ],
          "name": "stderr"
        }
      ]
    },
    {
      "cell_type": "markdown",
      "metadata": {
        "id": "ltWQ4nFNGKZM"
      },
      "source": [
        "##Tính 1 số cột rút ra từ file wecode:"
      ]
    },
    {
      "cell_type": "markdown",
      "metadata": {
        "id": "mDuvRznH1R4C"
      },
      "source": [
        "Dùng sqlite để truy vấn:\n",
        "\n",
        "Có tham khảo syntax tại: https://www.sqlitetutorial.net/"
      ]
    },
    {
      "cell_type": "code",
      "metadata": {
        "id": "m2kb6LbS_GP4"
      },
      "source": [
        "from sqlalchemy import create_engine\n",
        "engine = create_engine('sqlite://', echo=False)"
      ],
      "execution_count": 18,
      "outputs": []
    },
    {
      "cell_type": "code",
      "metadata": {
        "id": "cw-PHa537-5T"
      },
      "source": [
        "df.to_sql('user',con=engine)"
      ],
      "execution_count": 19,
      "outputs": []
    },
    {
      "cell_type": "markdown",
      "metadata": {
        "id": "V6c09n19rmKF"
      },
      "source": [
        "Bọn em lọc ra một số thông tin dựa trên data wecode mà bọn em nghĩ là sẽ quan trọng cho việc tạo feature bằng phần code dưới đây"
      ]
    },
    {
      "cell_type": "code",
      "metadata": {
        "id": "t5frQpX_Fe_j"
      },
      "source": [
        "#user id\n",
        "l0=engine.execute(\"SELECT user_id FROM user GROUP BY user_id\").fetchall()\n",
        "l0=[i[0] for i in l0]\n",
        "#tổng số problem đã solved:\n",
        "l1=engine.execute(\"SELECT sum(solved) FROM user GROUP BY user_id\").fetchall()\n",
        "l1=[int(i[0]) for i in l1]\n",
        "\n",
        "#tổng số problem đã submit\n",
        "l2=engine.execute(\"SELECT count(DISTINCT problem_id) FROM user GROUP BY user_id\").fetchall()\n",
        "l2=[int(i[0]) for i in l2]\n",
        "\n",
        "#Tổng số submit của mỗi sinh viên:\n",
        "l3=engine.execute(\"SELECT count(*) FROM user GROUP BY user_id\").fetchall()\n",
        "l3=[int(i[0]) for i in l3]\n",
        "\n",
        "#Hệ số nộp bài trễ trung bình:\n",
        "l4=engine.execute(\"SELECT AVG(coefficient) FROM user  GROUP BY user_id\").fetchall()\n",
        "l4=[int(i[0]) for i in l4]\n",
        "\n",
        "#Tổng điểm pre_score có is_final =1\n",
        "l5=engine.execute(\"SELECT sum(pre_score) FROM user WHERE is_final=1 GROUP BY user_id\").fetchall()\n",
        "l5=[int(i[0]) for i in l5]\n",
        "\n",
        "#Số lần nộp đúng của sinh viên:\n",
        "l6=engine.execute(\"SELECT count(*) FROM user WHERE status='SCORE' GROUP BY user_id\").fetchall()\n",
        "l6=[int(i[0]) for i in l6]"
      ],
      "execution_count": 20,
      "outputs": []
    },
    {
      "cell_type": "markdown",
      "metadata": {
        "id": "8Qivxan_GD5I"
      },
      "source": [
        "###Tính thời gian submit trung bình của sinh viên (thời điểm submit cuối cùng - thời điểm submit đầu tiên) (us):"
      ]
    },
    {
      "cell_type": "markdown",
      "metadata": {
        "id": "sehj7Lvu8FYU"
      },
      "source": [
        "thời gian submit trung bình của 1 sinh viên đối với 1 problem:\n",
        "\n",
        "\n",
        "\n",
        "GROUP BY USER_ID VÀ PROBLEM_ID"
      ]
    },
    {
      "cell_type": "code",
      "metadata": {
        "id": "J6foukFMF2zN"
      },
      "source": [
        "import numpy as np\n",
        "from datetime import datetime"
      ],
      "execution_count": 21,
      "outputs": []
    },
    {
      "cell_type": "code",
      "metadata": {
        "id": "ZdvoYQGr78Vd"
      },
      "source": [
        "t0=engine.execute(\"SELECT user_id FROM user GROUP BY user_id,problem_id\").fetchall()\n",
        "t0=[i[0] for i in t0]"
      ],
      "execution_count": 22,
      "outputs": []
    },
    {
      "cell_type": "code",
      "metadata": {
        "id": "Wq1qc_HD8m82"
      },
      "source": [
        "t1=engine.execute(\"SELECT problem_id FROM user GROUP BY user_id,problem_id\").fetchall()\n",
        "t1=[i[0] for i in t1]"
      ],
      "execution_count": 23,
      "outputs": []
    },
    {
      "cell_type": "code",
      "metadata": {
        "colab": {
          "base_uri": "https://localhost:8080/"
        },
        "id": "vgfreKgIinM8",
        "outputId": "d150b583-dedb-4878-c58e-27955b07b7c1"
      },
      "source": [
        "#thời gian submit đầu tiên của mỗi problem\n",
        "l_t0=engine.execute(\"SELECT MIN(created_at) FROM user  GROUP BY user_id,problem_id\").fetchall()\n",
        "t_1st_created=np.array([i[0] for i in l_t0],dtype='datetime64')\n",
        "len(t_1st_created)"
      ],
      "execution_count": 24,
      "outputs": [
        {
          "output_type": "execute_result",
          "data": {
            "text/plain": [
              "97190"
            ]
          },
          "metadata": {
            "tags": []
          },
          "execution_count": 24
        }
      ]
    },
    {
      "cell_type": "code",
      "metadata": {
        "colab": {
          "base_uri": "https://localhost:8080/"
        },
        "id": "1FCh8zfFk8-f",
        "outputId": "9c5506a7-3280-41bb-cd05-3533baed6db9"
      },
      "source": [
        "#thời gian submit cuối cùng của mỗi problem\n",
        "l_t1=engine.execute(\"SELECT MAX(created_at) FROM user  GROUP BY user_id,problem_id\").fetchall()\n",
        "t_finall_created=np.array([i[0] for i in l_t1],dtype='datetime64')\n",
        "len(t_finall_created)"
      ],
      "execution_count": 25,
      "outputs": [
        {
          "output_type": "execute_result",
          "data": {
            "text/plain": [
              "97190"
            ]
          },
          "metadata": {
            "tags": []
          },
          "execution_count": 25
        }
      ]
    },
    {
      "cell_type": "markdown",
      "metadata": {
        "id": "njZA5xEADHOC"
      },
      "source": [
        "Thời gian submit trung bình 1 problem: đơn vị là us"
      ]
    },
    {
      "cell_type": "code",
      "metadata": {
        "id": "EpY6zp0JzOs3"
      },
      "source": [
        "time_to_solve=t_finall_created-t_1st_created"
      ],
      "execution_count": 26,
      "outputs": []
    },
    {
      "cell_type": "code",
      "metadata": {
        "id": "y1SOSI4j-pno"
      },
      "source": [
        "time_to_solve=list(time_to_solve.astype('int64'))"
      ],
      "execution_count": 27,
      "outputs": []
    },
    {
      "cell_type": "code",
      "metadata": {
        "colab": {
          "base_uri": "https://localhost:8080/",
          "height": 514
        },
        "id": "Lr-HvAMT_c70",
        "outputId": "50d2ace1-37d2-40a5-ca3b-1f5d7c7a7cdd"
      },
      "source": [
        "df_time = pd.DataFrame(list(zip(t0,t1,time_to_solve)),\n",
        "               columns =['user_id','problem_id', 'time_to_solve_a_problem'])\n",
        "df_time.head(15)"
      ],
      "execution_count": 28,
      "outputs": [
        {
          "output_type": "execute_result",
          "data": {
            "text/html": [
              "<div>\n",
              "<style scoped>\n",
              "    .dataframe tbody tr th:only-of-type {\n",
              "        vertical-align: middle;\n",
              "    }\n",
              "\n",
              "    .dataframe tbody tr th {\n",
              "        vertical-align: top;\n",
              "    }\n",
              "\n",
              "    .dataframe thead th {\n",
              "        text-align: right;\n",
              "    }\n",
              "</style>\n",
              "<table border=\"1\" class=\"dataframe\">\n",
              "  <thead>\n",
              "    <tr style=\"text-align: right;\">\n",
              "      <th></th>\n",
              "      <th>user_id</th>\n",
              "      <th>problem_id</th>\n",
              "      <th>time_to_solve_a_problem</th>\n",
              "    </tr>\n",
              "  </thead>\n",
              "  <tbody>\n",
              "    <tr>\n",
              "      <th>0</th>\n",
              "      <td>1</td>\n",
              "      <td>81</td>\n",
              "      <td>0</td>\n",
              "    </tr>\n",
              "    <tr>\n",
              "      <th>1</th>\n",
              "      <td>1</td>\n",
              "      <td>370</td>\n",
              "      <td>0</td>\n",
              "    </tr>\n",
              "    <tr>\n",
              "      <th>2</th>\n",
              "      <td>4</td>\n",
              "      <td>3</td>\n",
              "      <td>0</td>\n",
              "    </tr>\n",
              "    <tr>\n",
              "      <th>3</th>\n",
              "      <td>4</td>\n",
              "      <td>4</td>\n",
              "      <td>0</td>\n",
              "    </tr>\n",
              "    <tr>\n",
              "      <th>4</th>\n",
              "      <td>4</td>\n",
              "      <td>5</td>\n",
              "      <td>927000000</td>\n",
              "    </tr>\n",
              "    <tr>\n",
              "      <th>5</th>\n",
              "      <td>4</td>\n",
              "      <td>6</td>\n",
              "      <td>0</td>\n",
              "    </tr>\n",
              "    <tr>\n",
              "      <th>6</th>\n",
              "      <td>4</td>\n",
              "      <td>7</td>\n",
              "      <td>0</td>\n",
              "    </tr>\n",
              "    <tr>\n",
              "      <th>7</th>\n",
              "      <td>4</td>\n",
              "      <td>8</td>\n",
              "      <td>0</td>\n",
              "    </tr>\n",
              "    <tr>\n",
              "      <th>8</th>\n",
              "      <td>4</td>\n",
              "      <td>9</td>\n",
              "      <td>0</td>\n",
              "    </tr>\n",
              "    <tr>\n",
              "      <th>9</th>\n",
              "      <td>4</td>\n",
              "      <td>81</td>\n",
              "      <td>0</td>\n",
              "    </tr>\n",
              "    <tr>\n",
              "      <th>10</th>\n",
              "      <td>4</td>\n",
              "      <td>101</td>\n",
              "      <td>114000000</td>\n",
              "    </tr>\n",
              "    <tr>\n",
              "      <th>11</th>\n",
              "      <td>4</td>\n",
              "      <td>104</td>\n",
              "      <td>0</td>\n",
              "    </tr>\n",
              "    <tr>\n",
              "      <th>12</th>\n",
              "      <td>4</td>\n",
              "      <td>106</td>\n",
              "      <td>0</td>\n",
              "    </tr>\n",
              "    <tr>\n",
              "      <th>13</th>\n",
              "      <td>4</td>\n",
              "      <td>107</td>\n",
              "      <td>0</td>\n",
              "    </tr>\n",
              "    <tr>\n",
              "      <th>14</th>\n",
              "      <td>4</td>\n",
              "      <td>108</td>\n",
              "      <td>0</td>\n",
              "    </tr>\n",
              "  </tbody>\n",
              "</table>\n",
              "</div>"
            ],
            "text/plain": [
              "    user_id  problem_id  time_to_solve_a_problem\n",
              "0         1          81                        0\n",
              "1         1         370                        0\n",
              "2         4           3                        0\n",
              "3         4           4                        0\n",
              "4         4           5                927000000\n",
              "5         4           6                        0\n",
              "6         4           7                        0\n",
              "7         4           8                        0\n",
              "8         4           9                        0\n",
              "9         4          81                        0\n",
              "10        4         101                114000000\n",
              "11        4         104                        0\n",
              "12        4         106                        0\n",
              "13        4         107                        0\n",
              "14        4         108                        0"
            ]
          },
          "metadata": {
            "tags": []
          },
          "execution_count": 28
        }
      ]
    },
    {
      "cell_type": "code",
      "metadata": {
        "id": "aDd9I02EAc2a"
      },
      "source": [
        "#dùng sql để truy vấn:\n",
        "engine_time = create_engine('sqlite://', echo=False)\n",
        "df_time.to_sql('user_time',con=engine_time)"
      ],
      "execution_count": 29,
      "outputs": []
    },
    {
      "cell_type": "markdown",
      "metadata": {
        "id": "bu5QwQ_HDuze"
      },
      "source": [
        "Tính thời gian submit trung bình của mỗi sinh viên\n",
        "\n",
        "\n"
      ]
    },
    {
      "cell_type": "code",
      "metadata": {
        "id": "sTaD7KvKAwm-"
      },
      "source": [
        "time_1=engine_time.execute(\"SELECT AVG(time_to_solve_a_problem) FROM user_time  GROUP BY user_id\").fetchall()\n",
        "time_1=[i[0] for i in time_1]"
      ],
      "execution_count": 30,
      "outputs": []
    },
    {
      "cell_type": "code",
      "metadata": {
        "colab": {
          "base_uri": "https://localhost:8080/",
          "height": 514
        },
        "id": "NPnpdd6hRTrH",
        "outputId": "f80f30b4-c08e-49d0-ad86-1090a8220838"
      },
      "source": [
        "df_main = pd.DataFrame(list(zip(l0,l1, l2,l3,l4,l5,l6,time_1)),\n",
        "               columns =['user_id','problem_solved', 'problem_tries','submit_count','AVeraGe_coefficient','Total_score_final','submit_fullscore_count','average_time_to_solve'])\n",
        "df_main.head(15)"
      ],
      "execution_count": 31,
      "outputs": [
        {
          "output_type": "execute_result",
          "data": {
            "text/html": [
              "<div>\n",
              "<style scoped>\n",
              "    .dataframe tbody tr th:only-of-type {\n",
              "        vertical-align: middle;\n",
              "    }\n",
              "\n",
              "    .dataframe tbody tr th {\n",
              "        vertical-align: top;\n",
              "    }\n",
              "\n",
              "    .dataframe thead th {\n",
              "        text-align: right;\n",
              "    }\n",
              "</style>\n",
              "<table border=\"1\" class=\"dataframe\">\n",
              "  <thead>\n",
              "    <tr style=\"text-align: right;\">\n",
              "      <th></th>\n",
              "      <th>user_id</th>\n",
              "      <th>problem_solved</th>\n",
              "      <th>problem_tries</th>\n",
              "      <th>submit_count</th>\n",
              "      <th>AVeraGe_coefficient</th>\n",
              "      <th>Total_score_final</th>\n",
              "      <th>submit_fullscore_count</th>\n",
              "      <th>average_time_to_solve</th>\n",
              "    </tr>\n",
              "  </thead>\n",
              "  <tbody>\n",
              "    <tr>\n",
              "      <th>0</th>\n",
              "      <td>1</td>\n",
              "      <td>1</td>\n",
              "      <td>2</td>\n",
              "      <td>2</td>\n",
              "      <td>100</td>\n",
              "      <td>10000</td>\n",
              "      <td>1</td>\n",
              "      <td>0.000000e+00</td>\n",
              "    </tr>\n",
              "    <tr>\n",
              "      <th>1</th>\n",
              "      <td>4</td>\n",
              "      <td>38</td>\n",
              "      <td>41</td>\n",
              "      <td>54</td>\n",
              "      <td>100</td>\n",
              "      <td>370000</td>\n",
              "      <td>48</td>\n",
              "      <td>9.524390e+07</td>\n",
              "    </tr>\n",
              "    <tr>\n",
              "      <th>2</th>\n",
              "      <td>5</td>\n",
              "      <td>4</td>\n",
              "      <td>5</td>\n",
              "      <td>6</td>\n",
              "      <td>100</td>\n",
              "      <td>30000</td>\n",
              "      <td>4</td>\n",
              "      <td>9.000000e+06</td>\n",
              "    </tr>\n",
              "    <tr>\n",
              "      <th>3</th>\n",
              "      <td>6</td>\n",
              "      <td>86</td>\n",
              "      <td>88</td>\n",
              "      <td>130</td>\n",
              "      <td>100</td>\n",
              "      <td>850000</td>\n",
              "      <td>105</td>\n",
              "      <td>6.312216e+09</td>\n",
              "    </tr>\n",
              "    <tr>\n",
              "      <th>4</th>\n",
              "      <td>7</td>\n",
              "      <td>2</td>\n",
              "      <td>2</td>\n",
              "      <td>5</td>\n",
              "      <td>100</td>\n",
              "      <td>9209</td>\n",
              "      <td>5</td>\n",
              "      <td>1.135000e+09</td>\n",
              "    </tr>\n",
              "    <tr>\n",
              "      <th>5</th>\n",
              "      <td>11</td>\n",
              "      <td>12</td>\n",
              "      <td>18</td>\n",
              "      <td>50</td>\n",
              "      <td>100</td>\n",
              "      <td>100316</td>\n",
              "      <td>43</td>\n",
              "      <td>1.871594e+10</td>\n",
              "    </tr>\n",
              "    <tr>\n",
              "      <th>6</th>\n",
              "      <td>14</td>\n",
              "      <td>7</td>\n",
              "      <td>7</td>\n",
              "      <td>22</td>\n",
              "      <td>100</td>\n",
              "      <td>68000</td>\n",
              "      <td>20</td>\n",
              "      <td>3.848571e+08</td>\n",
              "    </tr>\n",
              "    <tr>\n",
              "      <th>7</th>\n",
              "      <td>15</td>\n",
              "      <td>48</td>\n",
              "      <td>50</td>\n",
              "      <td>101</td>\n",
              "      <td>100</td>\n",
              "      <td>458666</td>\n",
              "      <td>76</td>\n",
              "      <td>2.725648e+10</td>\n",
              "    </tr>\n",
              "    <tr>\n",
              "      <th>8</th>\n",
              "      <td>20</td>\n",
              "      <td>12</td>\n",
              "      <td>12</td>\n",
              "      <td>13</td>\n",
              "      <td>100</td>\n",
              "      <td>120000</td>\n",
              "      <td>12</td>\n",
              "      <td>6.833333e+07</td>\n",
              "    </tr>\n",
              "    <tr>\n",
              "      <th>9</th>\n",
              "      <td>24</td>\n",
              "      <td>76</td>\n",
              "      <td>78</td>\n",
              "      <td>164</td>\n",
              "      <td>100</td>\n",
              "      <td>750299</td>\n",
              "      <td>131</td>\n",
              "      <td>1.471526e+09</td>\n",
              "    </tr>\n",
              "    <tr>\n",
              "      <th>10</th>\n",
              "      <td>27</td>\n",
              "      <td>5</td>\n",
              "      <td>5</td>\n",
              "      <td>13</td>\n",
              "      <td>100</td>\n",
              "      <td>39000</td>\n",
              "      <td>13</td>\n",
              "      <td>1.093000e+09</td>\n",
              "    </tr>\n",
              "    <tr>\n",
              "      <th>11</th>\n",
              "      <td>29</td>\n",
              "      <td>80</td>\n",
              "      <td>80</td>\n",
              "      <td>199</td>\n",
              "      <td>100</td>\n",
              "      <td>762760</td>\n",
              "      <td>171</td>\n",
              "      <td>4.784175e+10</td>\n",
              "    </tr>\n",
              "    <tr>\n",
              "      <th>12</th>\n",
              "      <td>31</td>\n",
              "      <td>3</td>\n",
              "      <td>3</td>\n",
              "      <td>13</td>\n",
              "      <td>100</td>\n",
              "      <td>30000</td>\n",
              "      <td>13</td>\n",
              "      <td>2.772000e+09</td>\n",
              "    </tr>\n",
              "    <tr>\n",
              "      <th>13</th>\n",
              "      <td>34</td>\n",
              "      <td>83</td>\n",
              "      <td>84</td>\n",
              "      <td>218</td>\n",
              "      <td>100</td>\n",
              "      <td>822888</td>\n",
              "      <td>202</td>\n",
              "      <td>4.698742e+10</td>\n",
              "    </tr>\n",
              "    <tr>\n",
              "      <th>14</th>\n",
              "      <td>35</td>\n",
              "      <td>149</td>\n",
              "      <td>147</td>\n",
              "      <td>297</td>\n",
              "      <td>100</td>\n",
              "      <td>1477000</td>\n",
              "      <td>246</td>\n",
              "      <td>1.043314e+11</td>\n",
              "    </tr>\n",
              "  </tbody>\n",
              "</table>\n",
              "</div>"
            ],
            "text/plain": [
              "    user_id  problem_solved  ...  submit_fullscore_count  average_time_to_solve\n",
              "0         1               1  ...                       1           0.000000e+00\n",
              "1         4              38  ...                      48           9.524390e+07\n",
              "2         5               4  ...                       4           9.000000e+06\n",
              "3         6              86  ...                     105           6.312216e+09\n",
              "4         7               2  ...                       5           1.135000e+09\n",
              "5        11              12  ...                      43           1.871594e+10\n",
              "6        14               7  ...                      20           3.848571e+08\n",
              "7        15              48  ...                      76           2.725648e+10\n",
              "8        20              12  ...                      12           6.833333e+07\n",
              "9        24              76  ...                     131           1.471526e+09\n",
              "10       27               5  ...                      13           1.093000e+09\n",
              "11       29              80  ...                     171           4.784175e+10\n",
              "12       31               3  ...                      13           2.772000e+09\n",
              "13       34              83  ...                     202           4.698742e+10\n",
              "14       35             149  ...                     246           1.043314e+11\n",
              "\n",
              "[15 rows x 8 columns]"
            ]
          },
          "metadata": {
            "tags": []
          },
          "execution_count": 31
        }
      ]
    },
    {
      "cell_type": "code",
      "metadata": {
        "id": "s92dicuqeJM-"
      },
      "source": [
        "#số problem đã solved/ problem đã submit:\n",
        "df_main['problem_solved_per_tries'] = df_main['problem_solved'] / df_main['problem_tries']"
      ],
      "execution_count": 32,
      "outputs": []
    },
    {
      "cell_type": "code",
      "metadata": {
        "id": "jltWJD-9pQRD"
      },
      "source": [
        "#Tổng số problem đã sumbit / Tổng số submissions \n",
        "df_main['problem_tries_per_submit_count'] = 1 / (df_main['problem_tries'] / df_main['submit_count'])"
      ],
      "execution_count": 33,
      "outputs": []
    },
    {
      "cell_type": "code",
      "metadata": {
        "id": "CZ-deJuywggt"
      },
      "source": [
        "#Số lần nộp đúng/ Tổng số submissions:\n",
        "df_main['submit_fullsore_per_Total_submits'] = df_main['submit_fullscore_count'] / df_main['submit_count']"
      ],
      "execution_count": 34,
      "outputs": []
    },
    {
      "cell_type": "code",
      "metadata": {
        "colab": {
          "base_uri": "https://localhost:8080/",
          "height": 534
        },
        "id": "G5OXfD39dk-A",
        "outputId": "dea58cc7-b962-47b9-a67c-2c5ba1e0a9bb"
      },
      "source": [
        "df_main.head(15)"
      ],
      "execution_count": 35,
      "outputs": [
        {
          "output_type": "execute_result",
          "data": {
            "text/html": [
              "<div>\n",
              "<style scoped>\n",
              "    .dataframe tbody tr th:only-of-type {\n",
              "        vertical-align: middle;\n",
              "    }\n",
              "\n",
              "    .dataframe tbody tr th {\n",
              "        vertical-align: top;\n",
              "    }\n",
              "\n",
              "    .dataframe thead th {\n",
              "        text-align: right;\n",
              "    }\n",
              "</style>\n",
              "<table border=\"1\" class=\"dataframe\">\n",
              "  <thead>\n",
              "    <tr style=\"text-align: right;\">\n",
              "      <th></th>\n",
              "      <th>user_id</th>\n",
              "      <th>problem_solved</th>\n",
              "      <th>problem_tries</th>\n",
              "      <th>submit_count</th>\n",
              "      <th>AVeraGe_coefficient</th>\n",
              "      <th>Total_score_final</th>\n",
              "      <th>submit_fullscore_count</th>\n",
              "      <th>average_time_to_solve</th>\n",
              "      <th>problem_solved_per_tries</th>\n",
              "      <th>problem_tries_per_submit_count</th>\n",
              "      <th>submit_fullsore_per_Total_submits</th>\n",
              "    </tr>\n",
              "  </thead>\n",
              "  <tbody>\n",
              "    <tr>\n",
              "      <th>0</th>\n",
              "      <td>1</td>\n",
              "      <td>1</td>\n",
              "      <td>2</td>\n",
              "      <td>2</td>\n",
              "      <td>100</td>\n",
              "      <td>10000</td>\n",
              "      <td>1</td>\n",
              "      <td>0.000000e+00</td>\n",
              "      <td>0.500000</td>\n",
              "      <td>1.000000</td>\n",
              "      <td>0.500000</td>\n",
              "    </tr>\n",
              "    <tr>\n",
              "      <th>1</th>\n",
              "      <td>4</td>\n",
              "      <td>38</td>\n",
              "      <td>41</td>\n",
              "      <td>54</td>\n",
              "      <td>100</td>\n",
              "      <td>370000</td>\n",
              "      <td>48</td>\n",
              "      <td>9.524390e+07</td>\n",
              "      <td>0.926829</td>\n",
              "      <td>1.317073</td>\n",
              "      <td>0.888889</td>\n",
              "    </tr>\n",
              "    <tr>\n",
              "      <th>2</th>\n",
              "      <td>5</td>\n",
              "      <td>4</td>\n",
              "      <td>5</td>\n",
              "      <td>6</td>\n",
              "      <td>100</td>\n",
              "      <td>30000</td>\n",
              "      <td>4</td>\n",
              "      <td>9.000000e+06</td>\n",
              "      <td>0.800000</td>\n",
              "      <td>1.200000</td>\n",
              "      <td>0.666667</td>\n",
              "    </tr>\n",
              "    <tr>\n",
              "      <th>3</th>\n",
              "      <td>6</td>\n",
              "      <td>86</td>\n",
              "      <td>88</td>\n",
              "      <td>130</td>\n",
              "      <td>100</td>\n",
              "      <td>850000</td>\n",
              "      <td>105</td>\n",
              "      <td>6.312216e+09</td>\n",
              "      <td>0.977273</td>\n",
              "      <td>1.477273</td>\n",
              "      <td>0.807692</td>\n",
              "    </tr>\n",
              "    <tr>\n",
              "      <th>4</th>\n",
              "      <td>7</td>\n",
              "      <td>2</td>\n",
              "      <td>2</td>\n",
              "      <td>5</td>\n",
              "      <td>100</td>\n",
              "      <td>9209</td>\n",
              "      <td>5</td>\n",
              "      <td>1.135000e+09</td>\n",
              "      <td>1.000000</td>\n",
              "      <td>2.500000</td>\n",
              "      <td>1.000000</td>\n",
              "    </tr>\n",
              "    <tr>\n",
              "      <th>5</th>\n",
              "      <td>11</td>\n",
              "      <td>12</td>\n",
              "      <td>18</td>\n",
              "      <td>50</td>\n",
              "      <td>100</td>\n",
              "      <td>100316</td>\n",
              "      <td>43</td>\n",
              "      <td>1.871594e+10</td>\n",
              "      <td>0.666667</td>\n",
              "      <td>2.777778</td>\n",
              "      <td>0.860000</td>\n",
              "    </tr>\n",
              "    <tr>\n",
              "      <th>6</th>\n",
              "      <td>14</td>\n",
              "      <td>7</td>\n",
              "      <td>7</td>\n",
              "      <td>22</td>\n",
              "      <td>100</td>\n",
              "      <td>68000</td>\n",
              "      <td>20</td>\n",
              "      <td>3.848571e+08</td>\n",
              "      <td>1.000000</td>\n",
              "      <td>3.142857</td>\n",
              "      <td>0.909091</td>\n",
              "    </tr>\n",
              "    <tr>\n",
              "      <th>7</th>\n",
              "      <td>15</td>\n",
              "      <td>48</td>\n",
              "      <td>50</td>\n",
              "      <td>101</td>\n",
              "      <td>100</td>\n",
              "      <td>458666</td>\n",
              "      <td>76</td>\n",
              "      <td>2.725648e+10</td>\n",
              "      <td>0.960000</td>\n",
              "      <td>2.020000</td>\n",
              "      <td>0.752475</td>\n",
              "    </tr>\n",
              "    <tr>\n",
              "      <th>8</th>\n",
              "      <td>20</td>\n",
              "      <td>12</td>\n",
              "      <td>12</td>\n",
              "      <td>13</td>\n",
              "      <td>100</td>\n",
              "      <td>120000</td>\n",
              "      <td>12</td>\n",
              "      <td>6.833333e+07</td>\n",
              "      <td>1.000000</td>\n",
              "      <td>1.083333</td>\n",
              "      <td>0.923077</td>\n",
              "    </tr>\n",
              "    <tr>\n",
              "      <th>9</th>\n",
              "      <td>24</td>\n",
              "      <td>76</td>\n",
              "      <td>78</td>\n",
              "      <td>164</td>\n",
              "      <td>100</td>\n",
              "      <td>750299</td>\n",
              "      <td>131</td>\n",
              "      <td>1.471526e+09</td>\n",
              "      <td>0.974359</td>\n",
              "      <td>2.102564</td>\n",
              "      <td>0.798780</td>\n",
              "    </tr>\n",
              "    <tr>\n",
              "      <th>10</th>\n",
              "      <td>27</td>\n",
              "      <td>5</td>\n",
              "      <td>5</td>\n",
              "      <td>13</td>\n",
              "      <td>100</td>\n",
              "      <td>39000</td>\n",
              "      <td>13</td>\n",
              "      <td>1.093000e+09</td>\n",
              "      <td>1.000000</td>\n",
              "      <td>2.600000</td>\n",
              "      <td>1.000000</td>\n",
              "    </tr>\n",
              "    <tr>\n",
              "      <th>11</th>\n",
              "      <td>29</td>\n",
              "      <td>80</td>\n",
              "      <td>80</td>\n",
              "      <td>199</td>\n",
              "      <td>100</td>\n",
              "      <td>762760</td>\n",
              "      <td>171</td>\n",
              "      <td>4.784175e+10</td>\n",
              "      <td>1.000000</td>\n",
              "      <td>2.487500</td>\n",
              "      <td>0.859296</td>\n",
              "    </tr>\n",
              "    <tr>\n",
              "      <th>12</th>\n",
              "      <td>31</td>\n",
              "      <td>3</td>\n",
              "      <td>3</td>\n",
              "      <td>13</td>\n",
              "      <td>100</td>\n",
              "      <td>30000</td>\n",
              "      <td>13</td>\n",
              "      <td>2.772000e+09</td>\n",
              "      <td>1.000000</td>\n",
              "      <td>4.333333</td>\n",
              "      <td>1.000000</td>\n",
              "    </tr>\n",
              "    <tr>\n",
              "      <th>13</th>\n",
              "      <td>34</td>\n",
              "      <td>83</td>\n",
              "      <td>84</td>\n",
              "      <td>218</td>\n",
              "      <td>100</td>\n",
              "      <td>822888</td>\n",
              "      <td>202</td>\n",
              "      <td>4.698742e+10</td>\n",
              "      <td>0.988095</td>\n",
              "      <td>2.595238</td>\n",
              "      <td>0.926606</td>\n",
              "    </tr>\n",
              "    <tr>\n",
              "      <th>14</th>\n",
              "      <td>35</td>\n",
              "      <td>149</td>\n",
              "      <td>147</td>\n",
              "      <td>297</td>\n",
              "      <td>100</td>\n",
              "      <td>1477000</td>\n",
              "      <td>246</td>\n",
              "      <td>1.043314e+11</td>\n",
              "      <td>1.013605</td>\n",
              "      <td>2.020408</td>\n",
              "      <td>0.828283</td>\n",
              "    </tr>\n",
              "  </tbody>\n",
              "</table>\n",
              "</div>"
            ],
            "text/plain": [
              "    user_id  ...  submit_fullsore_per_Total_submits\n",
              "0         1  ...                           0.500000\n",
              "1         4  ...                           0.888889\n",
              "2         5  ...                           0.666667\n",
              "3         6  ...                           0.807692\n",
              "4         7  ...                           1.000000\n",
              "5        11  ...                           0.860000\n",
              "6        14  ...                           0.909091\n",
              "7        15  ...                           0.752475\n",
              "8        20  ...                           0.923077\n",
              "9        24  ...                           0.798780\n",
              "10       27  ...                           1.000000\n",
              "11       29  ...                           0.859296\n",
              "12       31  ...                           1.000000\n",
              "13       34  ...                           0.926606\n",
              "14       35  ...                           0.828283\n",
              "\n",
              "[15 rows x 11 columns]"
            ]
          },
          "metadata": {
            "tags": []
          },
          "execution_count": 35
        }
      ]
    },
    {
      "cell_type": "code",
      "metadata": {
        "id": "fCSK0e_clbiZ"
      },
      "source": [
        "score = pd.read_csv('score_training.csv')"
      ],
      "execution_count": 36,
      "outputs": []
    },
    {
      "cell_type": "code",
      "metadata": {
        "id": "linToQkbl597"
      },
      "source": [
        "score_data = score[['id','CK']]"
      ],
      "execution_count": 37,
      "outputs": []
    },
    {
      "cell_type": "markdown",
      "metadata": {
        "id": "HBGyD9bzsOnC"
      },
      "source": [
        "Đổi tên cột id :"
      ]
    },
    {
      "cell_type": "code",
      "metadata": {
        "id": "cBwOZX8v7nYl"
      },
      "source": [
        "# Đổi tên cột cho trùng với id bên wecode\n",
        "score_data=score_data.rename(columns={'id':'user_id'},inplace=False)"
      ],
      "execution_count": 38,
      "outputs": []
    },
    {
      "cell_type": "code",
      "metadata": {
        "colab": {
          "base_uri": "https://localhost:8080/",
          "height": 514
        },
        "id": "QqvqejQvmcJZ",
        "outputId": "dcd78fee-0ceb-48ab-f35e-7405c5c0e3fe"
      },
      "source": [
        "score_data.head(15)"
      ],
      "execution_count": 39,
      "outputs": [
        {
          "output_type": "execute_result",
          "data": {
            "text/html": [
              "<div>\n",
              "<style scoped>\n",
              "    .dataframe tbody tr th:only-of-type {\n",
              "        vertical-align: middle;\n",
              "    }\n",
              "\n",
              "    .dataframe tbody tr th {\n",
              "        vertical-align: top;\n",
              "    }\n",
              "\n",
              "    .dataframe thead th {\n",
              "        text-align: right;\n",
              "    }\n",
              "</style>\n",
              "<table border=\"1\" class=\"dataframe\">\n",
              "  <thead>\n",
              "    <tr style=\"text-align: right;\">\n",
              "      <th></th>\n",
              "      <th>user_id</th>\n",
              "      <th>CK</th>\n",
              "    </tr>\n",
              "  </thead>\n",
              "  <tbody>\n",
              "    <tr>\n",
              "      <th>0</th>\n",
              "      <td>22</td>\n",
              "      <td>8.5</td>\n",
              "    </tr>\n",
              "    <tr>\n",
              "      <th>1</th>\n",
              "      <td>24</td>\n",
              "      <td>9.5</td>\n",
              "    </tr>\n",
              "    <tr>\n",
              "      <th>2</th>\n",
              "      <td>27</td>\n",
              "      <td>10</td>\n",
              "    </tr>\n",
              "    <tr>\n",
              "      <th>3</th>\n",
              "      <td>28</td>\n",
              "      <td>9.5</td>\n",
              "    </tr>\n",
              "    <tr>\n",
              "      <th>4</th>\n",
              "      <td>29</td>\n",
              "      <td>8.5</td>\n",
              "    </tr>\n",
              "    <tr>\n",
              "      <th>5</th>\n",
              "      <td>30</td>\n",
              "      <td>9</td>\n",
              "    </tr>\n",
              "    <tr>\n",
              "      <th>6</th>\n",
              "      <td>34</td>\n",
              "      <td>6.5</td>\n",
              "    </tr>\n",
              "    <tr>\n",
              "      <th>7</th>\n",
              "      <td>35</td>\n",
              "      <td>4.5</td>\n",
              "    </tr>\n",
              "    <tr>\n",
              "      <th>8</th>\n",
              "      <td>36</td>\n",
              "      <td>7</td>\n",
              "    </tr>\n",
              "    <tr>\n",
              "      <th>9</th>\n",
              "      <td>37</td>\n",
              "      <td>7.5</td>\n",
              "    </tr>\n",
              "    <tr>\n",
              "      <th>10</th>\n",
              "      <td>40</td>\n",
              "      <td>8</td>\n",
              "    </tr>\n",
              "    <tr>\n",
              "      <th>11</th>\n",
              "      <td>41</td>\n",
              "      <td>8</td>\n",
              "    </tr>\n",
              "    <tr>\n",
              "      <th>12</th>\n",
              "      <td>42</td>\n",
              "      <td>7.5</td>\n",
              "    </tr>\n",
              "    <tr>\n",
              "      <th>13</th>\n",
              "      <td>43</td>\n",
              "      <td>6</td>\n",
              "    </tr>\n",
              "    <tr>\n",
              "      <th>14</th>\n",
              "      <td>44</td>\n",
              "      <td>5</td>\n",
              "    </tr>\n",
              "  </tbody>\n",
              "</table>\n",
              "</div>"
            ],
            "text/plain": [
              "    user_id   CK\n",
              "0        22  8.5\n",
              "1        24  9.5\n",
              "2        27   10\n",
              "3        28  9.5\n",
              "4        29  8.5\n",
              "5        30    9\n",
              "6        34  6.5\n",
              "7        35  4.5\n",
              "8        36    7\n",
              "9        37  7.5\n",
              "10       40    8\n",
              "11       41    8\n",
              "12       42  7.5\n",
              "13       43    6\n",
              "14       44    5"
            ]
          },
          "metadata": {
            "tags": []
          },
          "execution_count": 39
        }
      ]
    },
    {
      "cell_type": "markdown",
      "metadata": {
        "id": "E7yV2QhgpucE"
      },
      "source": [
        "Merge wecode và CK lại với nhau:"
      ]
    },
    {
      "cell_type": "code",
      "metadata": {
        "id": "AQ6D4do4d_zc"
      },
      "source": [
        "data_final = pd.merge(df_main,score_data,on='user_id',how='outer')"
      ],
      "execution_count": 40,
      "outputs": []
    },
    {
      "cell_type": "code",
      "metadata": {
        "colab": {
          "base_uri": "https://localhost:8080/",
          "height": 534
        },
        "id": "3fQ1MzdXnD61",
        "outputId": "3f613216-ebf9-4a12-e201-854e387ca62f"
      },
      "source": [
        "data_final.head(15)"
      ],
      "execution_count": 41,
      "outputs": [
        {
          "output_type": "execute_result",
          "data": {
            "text/html": [
              "<div>\n",
              "<style scoped>\n",
              "    .dataframe tbody tr th:only-of-type {\n",
              "        vertical-align: middle;\n",
              "    }\n",
              "\n",
              "    .dataframe tbody tr th {\n",
              "        vertical-align: top;\n",
              "    }\n",
              "\n",
              "    .dataframe thead th {\n",
              "        text-align: right;\n",
              "    }\n",
              "</style>\n",
              "<table border=\"1\" class=\"dataframe\">\n",
              "  <thead>\n",
              "    <tr style=\"text-align: right;\">\n",
              "      <th></th>\n",
              "      <th>user_id</th>\n",
              "      <th>problem_solved</th>\n",
              "      <th>problem_tries</th>\n",
              "      <th>submit_count</th>\n",
              "      <th>AVeraGe_coefficient</th>\n",
              "      <th>Total_score_final</th>\n",
              "      <th>submit_fullscore_count</th>\n",
              "      <th>average_time_to_solve</th>\n",
              "      <th>problem_solved_per_tries</th>\n",
              "      <th>problem_tries_per_submit_count</th>\n",
              "      <th>submit_fullsore_per_Total_submits</th>\n",
              "      <th>CK</th>\n",
              "    </tr>\n",
              "  </thead>\n",
              "  <tbody>\n",
              "    <tr>\n",
              "      <th>0</th>\n",
              "      <td>1</td>\n",
              "      <td>1.0</td>\n",
              "      <td>2.0</td>\n",
              "      <td>2.0</td>\n",
              "      <td>100.0</td>\n",
              "      <td>10000.0</td>\n",
              "      <td>1.0</td>\n",
              "      <td>0.000000e+00</td>\n",
              "      <td>0.500000</td>\n",
              "      <td>1.000000</td>\n",
              "      <td>0.500000</td>\n",
              "      <td>NaN</td>\n",
              "    </tr>\n",
              "    <tr>\n",
              "      <th>1</th>\n",
              "      <td>4</td>\n",
              "      <td>38.0</td>\n",
              "      <td>41.0</td>\n",
              "      <td>54.0</td>\n",
              "      <td>100.0</td>\n",
              "      <td>370000.0</td>\n",
              "      <td>48.0</td>\n",
              "      <td>9.524390e+07</td>\n",
              "      <td>0.926829</td>\n",
              "      <td>1.317073</td>\n",
              "      <td>0.888889</td>\n",
              "      <td>NaN</td>\n",
              "    </tr>\n",
              "    <tr>\n",
              "      <th>2</th>\n",
              "      <td>5</td>\n",
              "      <td>4.0</td>\n",
              "      <td>5.0</td>\n",
              "      <td>6.0</td>\n",
              "      <td>100.0</td>\n",
              "      <td>30000.0</td>\n",
              "      <td>4.0</td>\n",
              "      <td>9.000000e+06</td>\n",
              "      <td>0.800000</td>\n",
              "      <td>1.200000</td>\n",
              "      <td>0.666667</td>\n",
              "      <td>NaN</td>\n",
              "    </tr>\n",
              "    <tr>\n",
              "      <th>3</th>\n",
              "      <td>6</td>\n",
              "      <td>86.0</td>\n",
              "      <td>88.0</td>\n",
              "      <td>130.0</td>\n",
              "      <td>100.0</td>\n",
              "      <td>850000.0</td>\n",
              "      <td>105.0</td>\n",
              "      <td>6.312216e+09</td>\n",
              "      <td>0.977273</td>\n",
              "      <td>1.477273</td>\n",
              "      <td>0.807692</td>\n",
              "      <td>NaN</td>\n",
              "    </tr>\n",
              "    <tr>\n",
              "      <th>4</th>\n",
              "      <td>7</td>\n",
              "      <td>2.0</td>\n",
              "      <td>2.0</td>\n",
              "      <td>5.0</td>\n",
              "      <td>100.0</td>\n",
              "      <td>9209.0</td>\n",
              "      <td>5.0</td>\n",
              "      <td>1.135000e+09</td>\n",
              "      <td>1.000000</td>\n",
              "      <td>2.500000</td>\n",
              "      <td>1.000000</td>\n",
              "      <td>NaN</td>\n",
              "    </tr>\n",
              "    <tr>\n",
              "      <th>5</th>\n",
              "      <td>11</td>\n",
              "      <td>12.0</td>\n",
              "      <td>18.0</td>\n",
              "      <td>50.0</td>\n",
              "      <td>100.0</td>\n",
              "      <td>100316.0</td>\n",
              "      <td>43.0</td>\n",
              "      <td>1.871594e+10</td>\n",
              "      <td>0.666667</td>\n",
              "      <td>2.777778</td>\n",
              "      <td>0.860000</td>\n",
              "      <td>NaN</td>\n",
              "    </tr>\n",
              "    <tr>\n",
              "      <th>6</th>\n",
              "      <td>14</td>\n",
              "      <td>7.0</td>\n",
              "      <td>7.0</td>\n",
              "      <td>22.0</td>\n",
              "      <td>100.0</td>\n",
              "      <td>68000.0</td>\n",
              "      <td>20.0</td>\n",
              "      <td>3.848571e+08</td>\n",
              "      <td>1.000000</td>\n",
              "      <td>3.142857</td>\n",
              "      <td>0.909091</td>\n",
              "      <td>NaN</td>\n",
              "    </tr>\n",
              "    <tr>\n",
              "      <th>7</th>\n",
              "      <td>15</td>\n",
              "      <td>48.0</td>\n",
              "      <td>50.0</td>\n",
              "      <td>101.0</td>\n",
              "      <td>100.0</td>\n",
              "      <td>458666.0</td>\n",
              "      <td>76.0</td>\n",
              "      <td>2.725648e+10</td>\n",
              "      <td>0.960000</td>\n",
              "      <td>2.020000</td>\n",
              "      <td>0.752475</td>\n",
              "      <td>NaN</td>\n",
              "    </tr>\n",
              "    <tr>\n",
              "      <th>8</th>\n",
              "      <td>20</td>\n",
              "      <td>12.0</td>\n",
              "      <td>12.0</td>\n",
              "      <td>13.0</td>\n",
              "      <td>100.0</td>\n",
              "      <td>120000.0</td>\n",
              "      <td>12.0</td>\n",
              "      <td>6.833333e+07</td>\n",
              "      <td>1.000000</td>\n",
              "      <td>1.083333</td>\n",
              "      <td>0.923077</td>\n",
              "      <td>NaN</td>\n",
              "    </tr>\n",
              "    <tr>\n",
              "      <th>9</th>\n",
              "      <td>24</td>\n",
              "      <td>76.0</td>\n",
              "      <td>78.0</td>\n",
              "      <td>164.0</td>\n",
              "      <td>100.0</td>\n",
              "      <td>750299.0</td>\n",
              "      <td>131.0</td>\n",
              "      <td>1.471526e+09</td>\n",
              "      <td>0.974359</td>\n",
              "      <td>2.102564</td>\n",
              "      <td>0.798780</td>\n",
              "      <td>9.5</td>\n",
              "    </tr>\n",
              "    <tr>\n",
              "      <th>10</th>\n",
              "      <td>27</td>\n",
              "      <td>5.0</td>\n",
              "      <td>5.0</td>\n",
              "      <td>13.0</td>\n",
              "      <td>100.0</td>\n",
              "      <td>39000.0</td>\n",
              "      <td>13.0</td>\n",
              "      <td>1.093000e+09</td>\n",
              "      <td>1.000000</td>\n",
              "      <td>2.600000</td>\n",
              "      <td>1.000000</td>\n",
              "      <td>10</td>\n",
              "    </tr>\n",
              "    <tr>\n",
              "      <th>11</th>\n",
              "      <td>29</td>\n",
              "      <td>80.0</td>\n",
              "      <td>80.0</td>\n",
              "      <td>199.0</td>\n",
              "      <td>100.0</td>\n",
              "      <td>762760.0</td>\n",
              "      <td>171.0</td>\n",
              "      <td>4.784175e+10</td>\n",
              "      <td>1.000000</td>\n",
              "      <td>2.487500</td>\n",
              "      <td>0.859296</td>\n",
              "      <td>8.5</td>\n",
              "    </tr>\n",
              "    <tr>\n",
              "      <th>12</th>\n",
              "      <td>31</td>\n",
              "      <td>3.0</td>\n",
              "      <td>3.0</td>\n",
              "      <td>13.0</td>\n",
              "      <td>100.0</td>\n",
              "      <td>30000.0</td>\n",
              "      <td>13.0</td>\n",
              "      <td>2.772000e+09</td>\n",
              "      <td>1.000000</td>\n",
              "      <td>4.333333</td>\n",
              "      <td>1.000000</td>\n",
              "      <td>NaN</td>\n",
              "    </tr>\n",
              "    <tr>\n",
              "      <th>13</th>\n",
              "      <td>34</td>\n",
              "      <td>83.0</td>\n",
              "      <td>84.0</td>\n",
              "      <td>218.0</td>\n",
              "      <td>100.0</td>\n",
              "      <td>822888.0</td>\n",
              "      <td>202.0</td>\n",
              "      <td>4.698742e+10</td>\n",
              "      <td>0.988095</td>\n",
              "      <td>2.595238</td>\n",
              "      <td>0.926606</td>\n",
              "      <td>6.5</td>\n",
              "    </tr>\n",
              "    <tr>\n",
              "      <th>14</th>\n",
              "      <td>35</td>\n",
              "      <td>149.0</td>\n",
              "      <td>147.0</td>\n",
              "      <td>297.0</td>\n",
              "      <td>100.0</td>\n",
              "      <td>1477000.0</td>\n",
              "      <td>246.0</td>\n",
              "      <td>1.043314e+11</td>\n",
              "      <td>1.013605</td>\n",
              "      <td>2.020408</td>\n",
              "      <td>0.828283</td>\n",
              "      <td>4.5</td>\n",
              "    </tr>\n",
              "  </tbody>\n",
              "</table>\n",
              "</div>"
            ],
            "text/plain": [
              "    user_id  problem_solved  ...  submit_fullsore_per_Total_submits   CK\n",
              "0         1             1.0  ...                           0.500000  NaN\n",
              "1         4            38.0  ...                           0.888889  NaN\n",
              "2         5             4.0  ...                           0.666667  NaN\n",
              "3         6            86.0  ...                           0.807692  NaN\n",
              "4         7             2.0  ...                           1.000000  NaN\n",
              "5        11            12.0  ...                           0.860000  NaN\n",
              "6        14             7.0  ...                           0.909091  NaN\n",
              "7        15            48.0  ...                           0.752475  NaN\n",
              "8        20            12.0  ...                           0.923077  NaN\n",
              "9        24            76.0  ...                           0.798780  9.5\n",
              "10       27             5.0  ...                           1.000000   10\n",
              "11       29            80.0  ...                           0.859296  8.5\n",
              "12       31             3.0  ...                           1.000000  NaN\n",
              "13       34            83.0  ...                           0.926606  6.5\n",
              "14       35           149.0  ...                           0.828283  4.5\n",
              "\n",
              "[15 rows x 12 columns]"
            ]
          },
          "metadata": {
            "tags": []
          },
          "execution_count": 41
        }
      ]
    },
    {
      "cell_type": "code",
      "metadata": {
        "colab": {
          "base_uri": "https://localhost:8080/"
        },
        "id": "1ybgfgev8Jty",
        "outputId": "0f814620-4840-4009-c4e6-f708cfce6504"
      },
      "source": [
        "data_final.info()"
      ],
      "execution_count": 42,
      "outputs": [
        {
          "output_type": "stream",
          "text": [
            "<class 'pandas.core.frame.DataFrame'>\n",
            "Int64Index: 1279 entries, 0 to 1278\n",
            "Data columns (total 12 columns):\n",
            " #   Column                             Non-Null Count  Dtype  \n",
            "---  ------                             --------------  -----  \n",
            " 0   user_id                            1279 non-null   int64  \n",
            " 1   problem_solved                     1155 non-null   float64\n",
            " 2   problem_tries                      1155 non-null   float64\n",
            " 3   submit_count                       1155 non-null   float64\n",
            " 4   AVeraGe_coefficient                1155 non-null   float64\n",
            " 5   Total_score_final                  1155 non-null   float64\n",
            " 6   submit_fullscore_count             1155 non-null   float64\n",
            " 7   average_time_to_solve              1155 non-null   float64\n",
            " 8   problem_solved_per_tries           1155 non-null   float64\n",
            " 9   problem_tries_per_submit_count     1155 non-null   float64\n",
            " 10  submit_fullsore_per_Total_submits  1155 non-null   float64\n",
            " 11  CK                                 974 non-null    object \n",
            "dtypes: float64(10), int64(1), object(1)\n",
            "memory usage: 129.9+ KB\n"
          ],
          "name": "stdout"
        }
      ]
    },
    {
      "cell_type": "code",
      "metadata": {
        "colab": {
          "base_uri": "https://localhost:8080/",
          "height": 534
        },
        "id": "mrRCG87cU-cn",
        "outputId": "fe3f8cf3-29b8-4b66-c6e7-1e307d36f6ec"
      },
      "source": [
        "# Loại bỏ những dòng có giá trị NA và sắp xếp điểm Ck tăng dần\n",
        "data_finally = data_final.dropna().sort_values(by = 'CK')\n",
        "data_finally.head(15)"
      ],
      "execution_count": 43,
      "outputs": [
        {
          "output_type": "execute_result",
          "data": {
            "text/html": [
              "<div>\n",
              "<style scoped>\n",
              "    .dataframe tbody tr th:only-of-type {\n",
              "        vertical-align: middle;\n",
              "    }\n",
              "\n",
              "    .dataframe tbody tr th {\n",
              "        vertical-align: top;\n",
              "    }\n",
              "\n",
              "    .dataframe thead th {\n",
              "        text-align: right;\n",
              "    }\n",
              "</style>\n",
              "<table border=\"1\" class=\"dataframe\">\n",
              "  <thead>\n",
              "    <tr style=\"text-align: right;\">\n",
              "      <th></th>\n",
              "      <th>user_id</th>\n",
              "      <th>problem_solved</th>\n",
              "      <th>problem_tries</th>\n",
              "      <th>submit_count</th>\n",
              "      <th>AVeraGe_coefficient</th>\n",
              "      <th>Total_score_final</th>\n",
              "      <th>submit_fullscore_count</th>\n",
              "      <th>average_time_to_solve</th>\n",
              "      <th>problem_solved_per_tries</th>\n",
              "      <th>problem_tries_per_submit_count</th>\n",
              "      <th>submit_fullsore_per_Total_submits</th>\n",
              "      <th>CK</th>\n",
              "    </tr>\n",
              "  </thead>\n",
              "  <tbody>\n",
              "    <tr>\n",
              "      <th>37</th>\n",
              "      <td>76</td>\n",
              "      <td>28.0</td>\n",
              "      <td>29.0</td>\n",
              "      <td>58.0</td>\n",
              "      <td>100.0</td>\n",
              "      <td>280000.0</td>\n",
              "      <td>45.0</td>\n",
              "      <td>1.048024e+10</td>\n",
              "      <td>0.965517</td>\n",
              "      <td>2.000000</td>\n",
              "      <td>0.775862</td>\n",
              "      <td>0</td>\n",
              "    </tr>\n",
              "    <tr>\n",
              "      <th>704</th>\n",
              "      <td>1215</td>\n",
              "      <td>56.0</td>\n",
              "      <td>62.0</td>\n",
              "      <td>109.0</td>\n",
              "      <td>99.0</td>\n",
              "      <td>550000.0</td>\n",
              "      <td>269.0</td>\n",
              "      <td>1.006887e+09</td>\n",
              "      <td>0.903226</td>\n",
              "      <td>1.758065</td>\n",
              "      <td>2.467890</td>\n",
              "      <td>0</td>\n",
              "    </tr>\n",
              "    <tr>\n",
              "      <th>78</th>\n",
              "      <td>161</td>\n",
              "      <td>41.0</td>\n",
              "      <td>44.0</td>\n",
              "      <td>68.0</td>\n",
              "      <td>100.0</td>\n",
              "      <td>410000.0</td>\n",
              "      <td>52.0</td>\n",
              "      <td>1.432091e+09</td>\n",
              "      <td>0.931818</td>\n",
              "      <td>1.545455</td>\n",
              "      <td>0.764706</td>\n",
              "      <td>0</td>\n",
              "    </tr>\n",
              "    <tr>\n",
              "      <th>906</th>\n",
              "      <td>1529</td>\n",
              "      <td>18.0</td>\n",
              "      <td>18.0</td>\n",
              "      <td>41.0</td>\n",
              "      <td>100.0</td>\n",
              "      <td>173777.0</td>\n",
              "      <td>125.0</td>\n",
              "      <td>1.086372e+10</td>\n",
              "      <td>1.000000</td>\n",
              "      <td>2.277778</td>\n",
              "      <td>3.048780</td>\n",
              "      <td>0</td>\n",
              "    </tr>\n",
              "    <tr>\n",
              "      <th>690</th>\n",
              "      <td>1193</td>\n",
              "      <td>16.0</td>\n",
              "      <td>22.0</td>\n",
              "      <td>49.0</td>\n",
              "      <td>100.0</td>\n",
              "      <td>103545.0</td>\n",
              "      <td>134.0</td>\n",
              "      <td>2.121695e+10</td>\n",
              "      <td>0.727273</td>\n",
              "      <td>2.227273</td>\n",
              "      <td>2.734694</td>\n",
              "      <td>0</td>\n",
              "    </tr>\n",
              "    <tr>\n",
              "      <th>892</th>\n",
              "      <td>1505</td>\n",
              "      <td>7.0</td>\n",
              "      <td>8.0</td>\n",
              "      <td>8.0</td>\n",
              "      <td>100.0</td>\n",
              "      <td>70000.0</td>\n",
              "      <td>328.0</td>\n",
              "      <td>0.000000e+00</td>\n",
              "      <td>0.875000</td>\n",
              "      <td>1.000000</td>\n",
              "      <td>41.000000</td>\n",
              "      <td>0</td>\n",
              "    </tr>\n",
              "    <tr>\n",
              "      <th>552</th>\n",
              "      <td>941</td>\n",
              "      <td>74.0</td>\n",
              "      <td>77.0</td>\n",
              "      <td>147.0</td>\n",
              "      <td>100.0</td>\n",
              "      <td>681173.0</td>\n",
              "      <td>69.0</td>\n",
              "      <td>1.712519e+09</td>\n",
              "      <td>0.961039</td>\n",
              "      <td>1.909091</td>\n",
              "      <td>0.469388</td>\n",
              "      <td>0</td>\n",
              "    </tr>\n",
              "    <tr>\n",
              "      <th>316</th>\n",
              "      <td>562</td>\n",
              "      <td>31.0</td>\n",
              "      <td>30.0</td>\n",
              "      <td>92.0</td>\n",
              "      <td>100.0</td>\n",
              "      <td>294000.0</td>\n",
              "      <td>559.0</td>\n",
              "      <td>2.055527e+10</td>\n",
              "      <td>1.033333</td>\n",
              "      <td>3.066667</td>\n",
              "      <td>6.076087</td>\n",
              "      <td>0</td>\n",
              "    </tr>\n",
              "    <tr>\n",
              "      <th>969</th>\n",
              "      <td>1619</td>\n",
              "      <td>109.0</td>\n",
              "      <td>113.0</td>\n",
              "      <td>288.0</td>\n",
              "      <td>100.0</td>\n",
              "      <td>1080200.0</td>\n",
              "      <td>74.0</td>\n",
              "      <td>8.173998e+10</td>\n",
              "      <td>0.964602</td>\n",
              "      <td>2.548673</td>\n",
              "      <td>0.256944</td>\n",
              "      <td>0</td>\n",
              "    </tr>\n",
              "    <tr>\n",
              "      <th>82</th>\n",
              "      <td>166</td>\n",
              "      <td>23.0</td>\n",
              "      <td>28.0</td>\n",
              "      <td>32.0</td>\n",
              "      <td>100.0</td>\n",
              "      <td>227000.0</td>\n",
              "      <td>24.0</td>\n",
              "      <td>2.157143e+07</td>\n",
              "      <td>0.821429</td>\n",
              "      <td>1.142857</td>\n",
              "      <td>0.750000</td>\n",
              "      <td>0</td>\n",
              "    </tr>\n",
              "    <tr>\n",
              "      <th>561</th>\n",
              "      <td>956</td>\n",
              "      <td>62.0</td>\n",
              "      <td>63.0</td>\n",
              "      <td>173.0</td>\n",
              "      <td>69.0</td>\n",
              "      <td>600776.0</td>\n",
              "      <td>97.0</td>\n",
              "      <td>5.497644e+10</td>\n",
              "      <td>0.984127</td>\n",
              "      <td>2.746032</td>\n",
              "      <td>0.560694</td>\n",
              "      <td>0</td>\n",
              "    </tr>\n",
              "    <tr>\n",
              "      <th>654</th>\n",
              "      <td>1122</td>\n",
              "      <td>1.0</td>\n",
              "      <td>1.0</td>\n",
              "      <td>3.0</td>\n",
              "      <td>100.0</td>\n",
              "      <td>0.0</td>\n",
              "      <td>11.0</td>\n",
              "      <td>1.630000e+08</td>\n",
              "      <td>1.000000</td>\n",
              "      <td>3.000000</td>\n",
              "      <td>3.666667</td>\n",
              "      <td>0</td>\n",
              "    </tr>\n",
              "    <tr>\n",
              "      <th>405</th>\n",
              "      <td>714</td>\n",
              "      <td>11.0</td>\n",
              "      <td>16.0</td>\n",
              "      <td>35.0</td>\n",
              "      <td>100.0</td>\n",
              "      <td>110000.0</td>\n",
              "      <td>214.0</td>\n",
              "      <td>3.101875e+08</td>\n",
              "      <td>0.687500</td>\n",
              "      <td>2.187500</td>\n",
              "      <td>6.114286</td>\n",
              "      <td>0</td>\n",
              "    </tr>\n",
              "    <tr>\n",
              "      <th>124</th>\n",
              "      <td>247</td>\n",
              "      <td>7.0</td>\n",
              "      <td>7.0</td>\n",
              "      <td>22.0</td>\n",
              "      <td>100.0</td>\n",
              "      <td>60000.0</td>\n",
              "      <td>17.0</td>\n",
              "      <td>1.203871e+10</td>\n",
              "      <td>1.000000</td>\n",
              "      <td>3.142857</td>\n",
              "      <td>0.772727</td>\n",
              "      <td>0</td>\n",
              "    </tr>\n",
              "    <tr>\n",
              "      <th>472</th>\n",
              "      <td>823</td>\n",
              "      <td>47.0</td>\n",
              "      <td>48.0</td>\n",
              "      <td>109.0</td>\n",
              "      <td>100.0</td>\n",
              "      <td>460000.0</td>\n",
              "      <td>41.0</td>\n",
              "      <td>1.227379e+10</td>\n",
              "      <td>0.979167</td>\n",
              "      <td>2.270833</td>\n",
              "      <td>0.376147</td>\n",
              "      <td>0</td>\n",
              "    </tr>\n",
              "  </tbody>\n",
              "</table>\n",
              "</div>"
            ],
            "text/plain": [
              "     user_id  problem_solved  ...  submit_fullsore_per_Total_submits  CK\n",
              "37        76            28.0  ...                           0.775862   0\n",
              "704     1215            56.0  ...                           2.467890   0\n",
              "78       161            41.0  ...                           0.764706   0\n",
              "906     1529            18.0  ...                           3.048780   0\n",
              "690     1193            16.0  ...                           2.734694   0\n",
              "892     1505             7.0  ...                          41.000000   0\n",
              "552      941            74.0  ...                           0.469388   0\n",
              "316      562            31.0  ...                           6.076087   0\n",
              "969     1619           109.0  ...                           0.256944   0\n",
              "82       166            23.0  ...                           0.750000   0\n",
              "561      956            62.0  ...                           0.560694   0\n",
              "654     1122             1.0  ...                           3.666667   0\n",
              "405      714            11.0  ...                           6.114286   0\n",
              "124      247             7.0  ...                           0.772727   0\n",
              "472      823            47.0  ...                           0.376147   0\n",
              "\n",
              "[15 rows x 12 columns]"
            ]
          },
          "metadata": {
            "tags": []
          },
          "execution_count": 43
        }
      ]
    },
    {
      "cell_type": "markdown",
      "metadata": {
        "id": "jotFyN16oWi0"
      },
      "source": [
        "## **Vẽ đồ thị**"
      ]
    },
    {
      "cell_type": "code",
      "metadata": {
        "colab": {
          "base_uri": "https://localhost:8080/",
          "height": 467
        },
        "id": "VLd-38JloEtE",
        "outputId": "ac032944-9188-4489-ad1f-ef85c4108547"
      },
      "source": [
        "fig, (ax1, ax2, ax3,ax4) = plt.subplots(1, 4, figsize = (40, 10))\n",
        "\n",
        "ax1.scatter(data_finally['problem_solved_per_tries'].values, data_finally['CK'].values)\n",
        "ax1.set(xlabel = 'problem_solved_per_tries', ylabel = 'CK')\n",
        "ax1.set_title('x:số problem đã solved/số problem đã submit: \\n y:điểm CK',fontsize=18)\n",
        "\n",
        "\n",
        "ax2.scatter(data_finally['problem_tries_per_submit_count'].values, data_finally['CK'].values)\n",
        "ax2.set(xlabel = 'problem_tries_per_submit_count', ylabel = 'CK')\n",
        "ax2.set_title('x:Tổng số problem đã sumbit / Tổng số submissions \\n y:điểm CK',fontsize=18)\n",
        "\n",
        "ax3.scatter(data_finally['AVeraGe_coefficient'].values, data_finally['CK'].values)\n",
        "ax3.set(xlabel = 'AVeraGe_coefficient', ylabel = 'CK')\n",
        "ax3.set_title('x:Hệ số nộp bài trễ trung bình \\n y:điểm CK',fontsize=18)\n",
        "ax3.set_xlim(0,102)\n",
        "\n",
        "ax4.scatter(data_finally['problem_solved'].values, data_finally['CK'].values)\n",
        "ax4.set(xlabel = 'problem_solved', ylabel = 'CK')\n",
        "ax4.set_title('x:Số problem giải được  \\n y:điểm CK',fontsize=18)"
      ],
      "execution_count": 44,
      "outputs": [
        {
          "output_type": "execute_result",
          "data": {
            "text/plain": [
              "Text(0.5, 1.0, 'x:Số problem giải được  \\n y:điểm CK')"
            ]
          },
          "metadata": {
            "tags": []
          },
          "execution_count": 44
        },
        {
          "output_type": "display_data",
          "data": {
            "image/png": "[encoded data removed]",
            "text/plain": [
              "<Figure size 2880x720 with 4 Axes>"
            ]
          },
          "metadata": {
            "tags": [],
            "needs_background": "light"
          }
        }
      ]
    },
    {
      "cell_type": "markdown",
      "metadata": {
        "id": "yhVY-ub_2JWk"
      },
      "source": [
        "**Nhận xét:**\n",
        "\n",
        "- Hình 1: Ta thấy số problem đã solved/số problem đã submit có những bạn sinh viên lớn hơn 1. Điều này chứng tỏ sau khi đã hoàn thành problem đó bạn sinh viên vẫn luyện tập thêm, tìm cách giải tối ưu hơn cho problem. Và những bạn có tỷ lệ này cao thì điểm cuối kỳ cũng cao hơn những bạn chỉ nộp để hoàn thành problem.\n",
        "Những bạn giải được từ 150 problems trở lên đa số không có bạn nào dưới 4 điểm.\n",
        "- Hình 2: Không thể hiện được gì nhiều, bởi vì Tổng số submissions / tổng số problem đã submit tức là số lần submit cho mỗi problem. Đây là một con số không thực tế, bởi vì độ khó là bài toán là khác nhau nên trung bình của nó là không đúng.\n",
        "- Hình 3: Ta thấy những sinh viên nộp bài càng sớm thì đa phần điểm ck càng cao. Như trong đồ thị thì sinh viên có hệ số nộp bài trễ dưới 90 thường là điểm từ 5đ trở lên.\n",
        "- Hình 4: Nhìn đồ thị có thể thấy sinh viên giải được càng nhiều bài thì điểm cuối kỳ càng cao, điển hình là những sinh viên giải từ 150 bài trở lên có điểm cuối kỳ từ 4.5đ trở lên. Những sinh viên có điểm dưới 5 thì thường nằm trong khoảng từ 0-150 bài. "
      ]
    },
    {
      "cell_type": "markdown",
      "metadata": {
        "id": "Y5ugZG-f7Rcf"
      },
      "source": [
        "Nhận xét:\n",
        "\n",
        "Những bạn nộp từ khoảng 250 lần submit trở lên thì hầu như không có bạn nào dưới 4 điểm\n",
        "\n",
        "Những bạn có Tổng score từ 150*1000000 trở lên thì cũng đồng thời không có bạn nào dưới 4 điểm"
      ]
    },
    {
      "cell_type": "code",
      "metadata": {
        "colab": {
          "base_uri": "https://localhost:8080/",
          "height": 538
        },
        "id": "hzwAEua5iivF",
        "outputId": "ff5615e3-cadf-4770-b142-3cde9c8cef21"
      },
      "source": [
        "fig, (ax1,ax2,ax3,ax4) = plt.subplots(1, 4, figsize = (40, 10))\n",
        "\n",
        "ax1.scatter(data_finally['submit_fullsore_per_Total_submits'].values, data_finally['CK'].values)\n",
        "ax1.set(xlabel = 'submit_fullsore_per_Total_submits', ylabel = 'CK')\n",
        "ax1.set_xlim(0,1)\n",
        "ax1.set_title('x:Số lần nộp đúng/Tổng submit của sinh viên \\n y:điểm CK',fontsize=18)\n",
        "\n",
        "ax2.scatter(data_finally['submit_count'].values, data_finally['CK'].values)\n",
        "ax2.set(xlabel = 'submit_count', ylabel = 'CK')\n",
        "ax2.set_title('x:Tổng số lần submit của 1 sinh viên \\n y:điểm CK',fontsize=18)\n",
        "\n",
        "ax3.scatter(data_finally['Total_score_final'].values/1000000, data_finally['CK'].values)\n",
        "ax3.set(xlabel = 'Total_score_final', ylabel = 'CK')\n",
        "ax3.set_title('x:Tổng score sinh viên đạt được \\n y:điểm CK',fontsize=18)\n",
        "\n",
        "ax4.scatter(data_finally['submit_fullscore_count'].values, data_finally['CK'].values)\n",
        "ax4.set(xlabel = 'submit_fullscore_count\t', ylabel = 'CK')\n",
        "ax4.set_title('x:Số lần sinh viên nộp đúng \\n y:điểm CK',fontsize=18)"
      ],
      "execution_count": 45,
      "outputs": [
        {
          "output_type": "execute_result",
          "data": {
            "text/plain": [
              "Text(0.5, 1.0, 'x:Số lần sinh viên nộp đúng \\n y:điểm CK')"
            ]
          },
          "metadata": {
            "tags": []
          },
          "execution_count": 45
        },
        {
          "output_type": "stream",
          "text": [
            "/usr/local/lib/python3.7/dist-packages/matplotlib/backends/backend_agg.py:214: RuntimeWarning: Glyph 9 missing from current font.\n",
            "  font.set_text(s, 0.0, flags=flags)\n",
            "/usr/local/lib/python3.7/dist-packages/matplotlib/backends/backend_agg.py:183: RuntimeWarning: Glyph 9 missing from current font.\n",
            "  font.set_text(s, 0, flags=flags)\n"
          ],
          "name": "stderr"
        },
        {
          "output_type": "display_data",
          "data": {
            "image/png": "[encoded data removed]",
            "text/plain": [
              "<Figure size 2880x720 with 4 Axes>"
            ]
          },
          "metadata": {
            "tags": [],
            "needs_background": "light"
          }
        }
      ]
    },
    {
      "cell_type": "markdown",
      "metadata": {
        "id": "4qm-KlgO-Bhe"
      },
      "source": [
        "**Nhận xét:**\n",
        "\n",
        "- Hình 1: Bảng này biểu thị trung bình số lần nộp đúng của sinh viên\n",
        "- Hình 2: Ta thấy sinh viên điểm dưới 5đ, đều là những sinh viên có số lần submit ít(400 trờ lại). Điều này cho thấy những sinh viên thấp điểm là những sinh viên lười, ít làm bài.\n",
        "- Hình 3: Ta thấy những sinh viên có tổng score đạt được càng cao thì điểm ck càng cao và những sinh viên điểm thấp(dưới 5) có tổng score này thấp. Cụ thể trong hình ta thấy những sinh viên có tổng score từ 1.5 trở lên đa phần có điểm cuối kỳ từ 5 trở lên và điểm cuối kỳ tăng dần theo tổng score. Còn những sinh viên có điểm cuối kỳ từ 5 trở xuống có tổng score dưới 1.5 \n",
        "- Hình 4:  "
      ]
    },
    {
      "cell_type": "markdown",
      "metadata": {
        "id": "5Jmnxd1g0JiH"
      },
      "source": [
        "Nhận xét: \n",
        "\n",
        "Những bạn nộp từ khoảng 250 lần submit trở lên thì hầu như không có bạn nào dưới 4 điểm\n",
        "\n",
        "Những bạn có Tổng score từ 150*1000000 trở lên thì cũng đồng thời không có bạn nào dưới 4 điểm"
      ]
    },
    {
      "cell_type": "code",
      "metadata": {
        "colab": {
          "base_uri": "https://localhost:8080/",
          "height": 667
        },
        "id": "w8AGYNIdEOsm",
        "outputId": "e175179b-0ccf-4f76-af91-b22df0c92a44"
      },
      "source": [
        "fig, (ax1) = plt.subplots(1, 1, figsize = (10, 10))\n",
        "\n",
        "ax1.scatter(data_finally['average_time_to_solve'].values, data_finally['CK'].values)\n",
        "ax1.set(xlabel = 'average_time_to_solve', ylabel = 'CK')\n",
        "ax1.set_title('x:Thời gian submit trung bình(us) \\n y:điểm CK',fontsize=18)"
      ],
      "execution_count": 46,
      "outputs": [
        {
          "output_type": "execute_result",
          "data": {
            "text/plain": [
              "Text(0.5, 1.0, 'x:Thời gian submit trung bình(us) \\n y:điểm CK')"
            ]
          },
          "metadata": {
            "tags": []
          },
          "execution_count": 46
        },
        {
          "output_type": "display_data",
          "data": {
            "image/png": "[encoded data removed]",
            "text/plain": [
              "<Figure size 720x720 with 1 Axes>"
            ]
          },
          "metadata": {
            "tags": [],
            "needs_background": "light"
          }
        }
      ]
    },
    {
      "cell_type": "markdown",
      "metadata": {
        "id": "hjatFTCxFege"
      },
      "source": [
        "**Nhận xét:**\n",
        "- Nhìn đồ thị ta thấy rõ ràng điểm thi cuối kỳ tăng dần theo thời gian submid trung bình (tính từ 0.5). Điều này cho thấy sinh viên giải 1 problem có thời gian lớn, thì thường có điểm cao bởi vì bạn này đầu tư nhiều thời gian để luyện tập và làm. Bởi vì, trong thực tế, một sinh viên giải nhanh, thì chỉ có thể là rất giỏi hoặc chép bài, nhưng những bạn rất giỏi thì có xác suất thấp, ít. Nên ta có thể sử dụng hệ số này để tìm những bạn giỏi với thời gian làm bài lớn."
      ]
    }
  ]
}