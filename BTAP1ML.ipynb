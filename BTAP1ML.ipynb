{
  "nbformat": 4,
  "nbformat_minor": 0,
  "metadata": {
    "colab": {
      "name": "BTAP1ML.ipynb",
      "provenance": [],
      "collapsed_sections": [],
      "toc_visible": true,
      "authorship_tag": "ABX9TyM/UZIwlDdlRLQbyPDRpCpW",
      "include_colab_link": true
    },
    "kernelspec": {
      "name": "python3",
      "display_name": "Python 3"
    },
    "language_info": {
      "name": "python"
    },
    "accelerator": "GPU"
  },
  "cells": [
    {
      "cell_type": "markdown",
      "metadata": {
        "id": "view-in-github",
        "colab_type": "text"
      },
      "source": [
        "<a href=\"https://colab.research.google.com/github/taolaobd/CS114.L22.KHCL/blob/main/BTAP1ML.ipynb\" target=\"_parent\"><img src=\"https://colab.research.google.com/assets/colab-badge.svg\" alt=\"Open In Colab\"/></a>"
      ]
    },
    {
      "cell_type": "markdown",
      "metadata": {
        "id": "DPqCkDODUnv_"
      },
      "source": [
        "# Recognizing hand-written digits"
      ]
    },
    {
      "cell_type": "markdown",
      "metadata": {
        "id": "imUAjtr2U1fu"
      },
      "source": [
        "Bài toán nhận diện chữ số viết tay từ (0-9) thông qua thư viện **scikit-learn**."
      ]
    },
    {
      "cell_type": "markdown",
      "metadata": {
        "id": "PFOGKmtaVGz_"
      },
      "source": [
        "Import các thư viện cần thiết."
      ]
    },
    {
      "cell_type": "code",
      "metadata": {
        "colab": {
          "base_uri": "https://localhost:8080/"
        },
        "id": "BpemnvmrVL2x",
        "outputId": "bc1bfa66-5f85-4050-dba7-9d356e725979"
      },
      "source": [
        "print(__doc__)\n",
        "\n",
        "# Author: Gael Varoquaux <gael dot varoquaux at normalesup dot org>\n",
        "# License: BSD 3 clause\n",
        "\n",
        "# Standard scientific Python imports\n",
        "import matplotlib.pyplot as plt\n",
        "\n",
        "# Import datasets, classifiers and performance metrics\n",
        "from sklearn import datasets, svm, metrics\n",
        "from sklearn.model_selection import train_test_split"
      ],
      "execution_count": null,
      "outputs": [
        {
          "output_type": "stream",
          "text": [
            "Automatically created module for IPython interactive environment\n"
          ],
          "name": "stdout"
        }
      ]
    },
    {
      "cell_type": "markdown",
      "metadata": {
        "id": "osyz-N-BVYX0"
      },
      "source": [
        "## Digits dataset"
      ]
    },
    {
      "cell_type": "code",
      "metadata": {
        "colab": {
          "base_uri": "https://localhost:8080/"
        },
        "id": "dZa1imB1Wh5l",
        "outputId": "20b42936-8e95-4f35-feb3-a99320fe1ed8"
      },
      "source": [
        "datasets.load_digits()"
      ],
      "execution_count": null,
      "outputs": [
        {
          "output_type": "execute_result",
          "data": {
            "text/plain": [
              "{'DESCR': \".. _digits_dataset:\\n\\nOptical recognition of handwritten digits dataset\\n--------------------------------------------------\\n\\n**Data Set Characteristics:**\\n\\n    :Number of Instances: 5620\\n    :Number of Attributes: 64\\n    :Attribute Information: 8x8 image of integer pixels in the range 0..16.\\n    :Missing Attribute Values: None\\n    :Creator: E. Alpaydin (alpaydin '@' boun.edu.tr)\\n    :Date: July; 1998\\n\\nThis is a copy of the test set of the UCI ML hand-written digits datasets\\nhttps://archive.ics.uci.edu/ml/datasets/Optical+Recognition+of+Handwritten+Digits\\n\\nThe data set contains images of hand-written digits: 10 classes where\\neach class refers to a digit.\\n\\nPreprocessing programs made available by NIST were used to extract\\nnormalized bitmaps of handwritten digits from a preprinted form. From a\\ntotal of 43 people, 30 contributed to the training set and different 13\\nto the test set. 32x32 bitmaps are divided into nonoverlapping blocks of\\n4x4 and the number of on pixels are counted in each block. This generates\\nan input matrix of 8x8 where each element is an integer in the range\\n0..16. This reduces dimensionality and gives invariance to small\\ndistortions.\\n\\nFor info on NIST preprocessing routines, see M. D. Garris, J. L. Blue, G.\\nT. Candela, D. L. Dimmick, J. Geist, P. J. Grother, S. A. Janet, and C.\\nL. Wilson, NIST Form-Based Handprint Recognition System, NISTIR 5469,\\n1994.\\n\\n.. topic:: References\\n\\n  - C. Kaynak (1995) Methods of Combining Multiple Classifiers and Their\\n    Applications to Handwritten Digit Recognition, MSc Thesis, Institute of\\n    Graduate Studies in Science and Engineering, Bogazici University.\\n  - E. Alpaydin, C. Kaynak (1998) Cascading Classifiers, Kybernetika.\\n  - Ken Tang and Ponnuthurai N. Suganthan and Xi Yao and A. Kai Qin.\\n    Linear dimensionalityreduction using relevance weighted LDA. School of\\n    Electrical and Electronic Engineering Nanyang Technological University.\\n    2005.\\n  - Claudio Gentile. A New Approximate Maximal Margin Classification\\n    Algorithm. NIPS. 2000.\",\n",
              " 'data': array([[ 0.,  0.,  5., ...,  0.,  0.,  0.],\n",
              "        [ 0.,  0.,  0., ..., 10.,  0.,  0.],\n",
              "        [ 0.,  0.,  0., ..., 16.,  9.,  0.],\n",
              "        ...,\n",
              "        [ 0.,  0.,  1., ...,  6.,  0.,  0.],\n",
              "        [ 0.,  0.,  2., ..., 12.,  0.,  0.],\n",
              "        [ 0.,  0., 10., ..., 12.,  1.,  0.]]),\n",
              " 'images': array([[[ 0.,  0.,  5., ...,  1.,  0.,  0.],\n",
              "         [ 0.,  0., 13., ..., 15.,  5.,  0.],\n",
              "         [ 0.,  3., 15., ..., 11.,  8.,  0.],\n",
              "         ...,\n",
              "         [ 0.,  4., 11., ..., 12.,  7.,  0.],\n",
              "         [ 0.,  2., 14., ..., 12.,  0.,  0.],\n",
              "         [ 0.,  0.,  6., ...,  0.,  0.,  0.]],\n",
              " \n",
              "        [[ 0.,  0.,  0., ...,  5.,  0.,  0.],\n",
              "         [ 0.,  0.,  0., ...,  9.,  0.,  0.],\n",
              "         [ 0.,  0.,  3., ...,  6.,  0.,  0.],\n",
              "         ...,\n",
              "         [ 0.,  0.,  1., ...,  6.,  0.,  0.],\n",
              "         [ 0.,  0.,  1., ...,  6.,  0.,  0.],\n",
              "         [ 0.,  0.,  0., ..., 10.,  0.,  0.]],\n",
              " \n",
              "        [[ 0.,  0.,  0., ..., 12.,  0.,  0.],\n",
              "         [ 0.,  0.,  3., ..., 14.,  0.,  0.],\n",
              "         [ 0.,  0.,  8., ..., 16.,  0.,  0.],\n",
              "         ...,\n",
              "         [ 0.,  9., 16., ...,  0.,  0.,  0.],\n",
              "         [ 0.,  3., 13., ..., 11.,  5.,  0.],\n",
              "         [ 0.,  0.,  0., ..., 16.,  9.,  0.]],\n",
              " \n",
              "        ...,\n",
              " \n",
              "        [[ 0.,  0.,  1., ...,  1.,  0.,  0.],\n",
              "         [ 0.,  0., 13., ...,  2.,  1.,  0.],\n",
              "         [ 0.,  0., 16., ..., 16.,  5.,  0.],\n",
              "         ...,\n",
              "         [ 0.,  0., 16., ..., 15.,  0.,  0.],\n",
              "         [ 0.,  0., 15., ..., 16.,  0.,  0.],\n",
              "         [ 0.,  0.,  2., ...,  6.,  0.,  0.]],\n",
              " \n",
              "        [[ 0.,  0.,  2., ...,  0.,  0.,  0.],\n",
              "         [ 0.,  0., 14., ..., 15.,  1.,  0.],\n",
              "         [ 0.,  4., 16., ..., 16.,  7.,  0.],\n",
              "         ...,\n",
              "         [ 0.,  0.,  0., ..., 16.,  2.,  0.],\n",
              "         [ 0.,  0.,  4., ..., 16.,  2.,  0.],\n",
              "         [ 0.,  0.,  5., ..., 12.,  0.,  0.]],\n",
              " \n",
              "        [[ 0.,  0., 10., ...,  1.,  0.,  0.],\n",
              "         [ 0.,  2., 16., ...,  1.,  0.,  0.],\n",
              "         [ 0.,  0., 15., ..., 15.,  0.,  0.],\n",
              "         ...,\n",
              "         [ 0.,  4., 16., ..., 16.,  6.,  0.],\n",
              "         [ 0.,  8., 16., ..., 16.,  8.,  0.],\n",
              "         [ 0.,  1.,  8., ..., 12.,  1.,  0.]]]),\n",
              " 'target': array([0, 1, 2, ..., 8, 9, 8]),\n",
              " 'target_names': array([0, 1, 2, 3, 4, 5, 6, 7, 8, 9])}"
            ]
          },
          "metadata": {
            "tags": []
          },
          "execution_count": 3
        }
      ]
    },
    {
      "cell_type": "markdown",
      "metadata": {
        "id": "hTubU2F7Vgyk"
      },
      "source": [
        "Load dữ liệu từ datasets. Trong đó:\n",
        "\n",
        "\n",
        "\n",
        "\n",
        "*   **images** gồm các ma trận có kích thước 8x8 có giá trị mức xám cho mỗi ảnh.\n",
        "*   **target** chính là các giá trị đúng mà mỗi bức ảnh đại diện cho.\n",
        "*   **target_names** là mảng các giá trị từ 0-9 sẽ được gán tương ứng với mỗi bức ảnh.\n",
        "\n",
        "Dưới đây là 4 ví dụ:\n",
        "\n",
        "\n",
        "\n"
      ]
    },
    {
      "cell_type": "code",
      "metadata": {
        "colab": {
          "base_uri": "https://localhost:8080/",
          "height": 168
        },
        "id": "9u5fh54GVcWj",
        "outputId": "1ed75b42-b8be-47fa-906a-7259056a3f40"
      },
      "source": [
        "\n",
        "digits = datasets.load_digits()\n",
        "_, axes = plt.subplots(nrows=1, ncols=4, figsize=(10, 3))\n",
        "for ax, image, label in zip(axes, digits.images, digits.target):\n",
        "    ax.set_axis_off()\n",
        "    ax.imshow(image, cmap=plt.cm.gray_r, interpolation='nearest')\n",
        "    ax.set_title('Training: %i' % label)"
      ],
      "execution_count": null,
      "outputs": [
        {
          "output_type": "display_data",
          "data": {
            "image/png": "[encoded data removed]",
            "text/plain": [
              "<Figure size 720x216 with 4 Axes>"
            ]
          },
          "metadata": {
            "tags": [],
            "needs_background": "light"
          }
        }
      ]
    },
    {
      "cell_type": "markdown",
      "metadata": {
        "id": "z6m1A_TCTRd3"
      },
      "source": [
        "Xem thử 4 ma trận ảnh đầu tiên có dạng và vùng giá trị như thế nào ?"
      ]
    },
    {
      "cell_type": "code",
      "metadata": {
        "colab": {
          "base_uri": "https://localhost:8080/"
        },
        "id": "dzmgM_uBTX23",
        "outputId": "b74cd3bb-9413-4877-bfbf-0e39c5ff79c5"
      },
      "source": [
        "for i in range(4):\n",
        "  print(digits.images[i])"
      ],
      "execution_count": null,
      "outputs": [
        {
          "output_type": "stream",
          "text": [
            "[[ 0.  0.  5. 13.  9.  1.  0.  0.]\n",
            " [ 0.  0. 13. 15. 10. 15.  5.  0.]\n",
            " [ 0.  3. 15.  2.  0. 11.  8.  0.]\n",
            " [ 0.  4. 12.  0.  0.  8.  8.  0.]\n",
            " [ 0.  5.  8.  0.  0.  9.  8.  0.]\n",
            " [ 0.  4. 11.  0.  1. 12.  7.  0.]\n",
            " [ 0.  2. 14.  5. 10. 12.  0.  0.]\n",
            " [ 0.  0.  6. 13. 10.  0.  0.  0.]]\n",
            "[[ 0.  0.  0. 12. 13.  5.  0.  0.]\n",
            " [ 0.  0.  0. 11. 16.  9.  0.  0.]\n",
            " [ 0.  0.  3. 15. 16.  6.  0.  0.]\n",
            " [ 0.  7. 15. 16. 16.  2.  0.  0.]\n",
            " [ 0.  0.  1. 16. 16.  3.  0.  0.]\n",
            " [ 0.  0.  1. 16. 16.  6.  0.  0.]\n",
            " [ 0.  0.  1. 16. 16.  6.  0.  0.]\n",
            " [ 0.  0.  0. 11. 16. 10.  0.  0.]]\n",
            "[[ 0.  0.  0.  4. 15. 12.  0.  0.]\n",
            " [ 0.  0.  3. 16. 15. 14.  0.  0.]\n",
            " [ 0.  0.  8. 13.  8. 16.  0.  0.]\n",
            " [ 0.  0.  1.  6. 15. 11.  0.  0.]\n",
            " [ 0.  1.  8. 13. 15.  1.  0.  0.]\n",
            " [ 0.  9. 16. 16.  5.  0.  0.  0.]\n",
            " [ 0.  3. 13. 16. 16. 11.  5.  0.]\n",
            " [ 0.  0.  0.  3. 11. 16.  9.  0.]]\n",
            "[[ 0.  0.  7. 15. 13.  1.  0.  0.]\n",
            " [ 0.  8. 13.  6. 15.  4.  0.  0.]\n",
            " [ 0.  2.  1. 13. 13.  0.  0.  0.]\n",
            " [ 0.  0.  2. 15. 11.  1.  0.  0.]\n",
            " [ 0.  0.  0.  1. 12. 12.  1.  0.]\n",
            " [ 0.  0.  0.  0.  1. 10.  8.  0.]\n",
            " [ 0.  0.  8.  4.  5. 14.  9.  0.]\n",
            " [ 0.  0.  7. 13. 13.  9.  0.  0.]]\n"
          ],
          "name": "stdout"
        }
      ]
    },
    {
      "cell_type": "markdown",
      "metadata": {
        "id": "LGUvJmP2TigV"
      },
      "source": [
        "**Nhận xét**: Ma trận 8x8 và các giá trị của ma trận chủ yếu từ 0->16. \n"
      ]
    },
    {
      "cell_type": "markdown",
      "metadata": {
        "id": "RXcck4g4lfca"
      },
      "source": [
        "Nhận xét về bộ dữ liệu:"
      ]
    },
    {
      "cell_type": "code",
      "metadata": {
        "colab": {
          "base_uri": "https://localhost:8080/"
        },
        "id": "Mk3cX__wlnYG",
        "outputId": "4cf5065c-7690-48ce-a51b-7447a32cbf72"
      },
      "source": [
        "digits.images.shape"
      ],
      "execution_count": null,
      "outputs": [
        {
          "output_type": "execute_result",
          "data": {
            "text/plain": [
              "(1797, 8, 8)"
            ]
          },
          "metadata": {
            "tags": []
          },
          "execution_count": 6
        }
      ]
    },
    {
      "cell_type": "markdown",
      "metadata": {
        "id": "x3EK_NMZlsl3"
      },
      "source": [
        "Bộ dữ liệu chúng ta có đúng 1797 ma trận 8x8 với mức giá trị xám. Bộ dữ liệu được cấp này là khá ít để 1 model có thể đạt được độ chính xác cao."
      ]
    },
    {
      "cell_type": "markdown",
      "metadata": {
        "id": "uLFRqUnSYCtL"
      },
      "source": [
        "## Classification"
      ]
    },
    {
      "cell_type": "markdown",
      "metadata": {
        "id": "BT2CVcHjYUvl"
      },
      "source": [
        "Để áp dụng mô hình phân lớp trên dữ liệu này, chúng ta cần phải flatten (dàn hoặc trải ) bức ảnh, chuyển từ mảng 2 chiều có giá trị mức xám có kích thước (8,8) trở thành 1 vector (64,).\n",
        "\n",
        "Chúng ta chia bộ dữ liệu thành 2 phần con:\n",
        "\n",
        "\n",
        "*   Train subset 50% (Sử dụng phương pháp SVM có tham số gamma=0.001)\n",
        "*   Test subset 50%\n",
        "\n"
      ]
    },
    {
      "cell_type": "code",
      "metadata": {
        "id": "rJ_ok8VzYFZU"
      },
      "source": [
        "# flatten the images\n",
        "n_samples = len(digits.images)\n",
        "data = digits.images.reshape((n_samples, -1))\n",
        "\n",
        "# Create a classifier: a support vector classifier\n",
        "clf = svm.SVC(gamma=0.001)\n",
        "\n",
        "# Split data into 50% train and 50% test subsets\n",
        "X_train, X_test, y_train, y_test = train_test_split(\n",
        "    data, digits.target, test_size=0.5, shuffle=False)\n",
        "\n",
        "# Learn the digits on the train subset\n",
        "clf.fit(X_train, y_train)\n",
        "\n",
        "# Predict the value of the digit on the test subset\n",
        "predicted = clf.predict(X_test)"
      ],
      "execution_count": null,
      "outputs": []
    },
    {
      "cell_type": "markdown",
      "metadata": {
        "id": "Vl8uuy1uZ6h-"
      },
      "source": [
        "Dưới đây là kết quả của 4 ví dụ đầu tiên:"
      ]
    },
    {
      "cell_type": "code",
      "metadata": {
        "colab": {
          "base_uri": "https://localhost:8080/",
          "height": 168
        },
        "id": "ASeUwtJ3YJzu",
        "outputId": "a910a692-825f-47e7-b493-b60998c585b5"
      },
      "source": [
        "_, axes = plt.subplots(nrows=1, ncols=4, figsize=(10, 3))\n",
        "for ax, image, prediction in zip(axes, X_test, predicted):\n",
        "    ax.set_axis_off()\n",
        "    image = image.reshape(8, 8)\n",
        "    ax.imshow(image, cmap=plt.cm.gray_r, interpolation='nearest')\n",
        "    ax.set_title(f'Prediction: {prediction}')"
      ],
      "execution_count": null,
      "outputs": [
        {
          "output_type": "display_data",
          "data": {
            "image/png": "[encoded data removed]",
            "text/plain": [
              "<Figure size 720x216 with 4 Axes>"
            ]
          },
          "metadata": {
            "tags": [],
            "needs_background": "light"
          }
        }
      ]
    },
    {
      "cell_type": "code",
      "metadata": {
        "colab": {
          "base_uri": "https://localhost:8080/"
        },
        "id": "9BLo1JM1aT6g",
        "outputId": "b5015a13-3730-43d9-febd-1cec16c22a25"
      },
      "source": [
        "print(f\"Classification report for classifier {clf}:\\n\"\n",
        "      f\"{metrics.classification_report(y_test, predicted)}\\n\")"
      ],
      "execution_count": null,
      "outputs": [
        {
          "output_type": "stream",
          "text": [
            "Classification report for classifier SVC(C=1.0, break_ties=False, cache_size=200, class_weight=None, coef0=0.0,\n",
            "    decision_function_shape='ovr', degree=3, gamma=0.001, kernel='rbf',\n",
            "    max_iter=-1, probability=False, random_state=None, shrinking=True,\n",
            "    tol=0.001, verbose=False):\n",
            "              precision    recall  f1-score   support\n",
            "\n",
            "           0       1.00      0.99      0.99        88\n",
            "           1       0.99      0.97      0.98        91\n",
            "           2       0.99      0.99      0.99        86\n",
            "           3       0.98      0.87      0.92        91\n",
            "           4       0.99      0.96      0.97        92\n",
            "           5       0.95      0.97      0.96        91\n",
            "           6       0.99      0.99      0.99        91\n",
            "           7       0.96      0.99      0.97        89\n",
            "           8       0.94      1.00      0.97        88\n",
            "           9       0.93      0.98      0.95        92\n",
            "\n",
            "    accuracy                           0.97       899\n",
            "   macro avg       0.97      0.97      0.97       899\n",
            "weighted avg       0.97      0.97      0.97       899\n",
            "\n",
            "\n"
          ],
          "name": "stdout"
        }
      ]
    },
    {
      "cell_type": "code",
      "metadata": {
        "colab": {
          "base_uri": "https://localhost:8080/",
          "height": 495
        },
        "id": "q3FFPlnsaWC4",
        "outputId": "c1990f85-2a6b-44b1-b784-8a89bca4a5c9"
      },
      "source": [
        "disp = metrics.plot_confusion_matrix(clf, X_test, y_test)\n",
        "disp.figure_.suptitle(\"Confusion Matrix\")\n",
        "print(f\"Confusion matrix:\\n{disp.confusion_matrix}\")\n",
        "\n",
        "plt.show()"
      ],
      "execution_count": null,
      "outputs": [
        {
          "output_type": "stream",
          "text": [
            "Confusion matrix:\n",
            "[[87  0  0  0  1  0  0  0  0  0]\n",
            " [ 0 88  1  0  0  0  0  0  1  1]\n",
            " [ 0  0 85  1  0  0  0  0  0  0]\n",
            " [ 0  0  0 79  0  3  0  4  5  0]\n",
            " [ 0  0  0  0 88  0  0  0  0  4]\n",
            " [ 0  0  0  0  0 88  1  0  0  2]\n",
            " [ 0  1  0  0  0  0 90  0  0  0]\n",
            " [ 0  0  0  0  0  1  0 88  0  0]\n",
            " [ 0  0  0  0  0  0  0  0 88  0]\n",
            " [ 0  0  0  1  0  1  0  0  0 90]]\n"
          ],
          "name": "stdout"
        },
        {
          "output_type": "display_data",
          "data": {
            "image/png": "[encoded data removed]",
            "text/plain": [
              "<Figure size 432x288 with 2 Axes>"
            ]
          },
          "metadata": {
            "tags": [],
            "needs_background": "light"
          }
        }
      ]
    },
    {
      "cell_type": "markdown",
      "metadata": {
        "id": "kILE8AY3b86P"
      },
      "source": [
        "## Test cùng camera"
      ]
    },
    {
      "cell_type": "code",
      "metadata": {
        "id": "WsP6mKQhcE4j"
      },
      "source": [
        "\"\"\"from IPython.display import display, Javascript\n",
        "from google.colab.output import eval_js\n",
        "from base64 import b64decode\n",
        "\n",
        "def take_photo(filename ,quality=0.8):\n",
        "  js = Javascript('''\n",
        "    async function takePhoto(quality) {\n",
        "      const div = document.createElement('div');\n",
        "      const capture = document.createElement('button');\n",
        "      capture.textContent = 'Capture';\n",
        "      div.appendChild(capture);\n",
        "\n",
        "      const video = document.createElement('video');\n",
        "      video.style.display = 'block';\n",
        "      const stream = await navigator.mediaDevices.getUserMedia({video: true});\n",
        "\n",
        "      document.body.appendChild(div);\n",
        "      div.appendChild(video);\n",
        "      video.srcObject = stream;\n",
        "      await video.play();\n",
        "\n",
        "      // Resize the output to fit the video element.\n",
        "      google.colab.output.setIframeHeight(document.documentElement.scrollHeight, true);\n",
        "\n",
        "      // Wait for Capture to be clicked.\n",
        "      await new Promise((resolve) => capture.onclick = resolve);\n",
        "\n",
        "      const canvas = document.createElement('canvas');\n",
        "      canvas.width = video.videoWidth;\n",
        "      canvas.height = video.videoHeight;\n",
        "      canvas.getContext('2d').drawImage(video, 0, 0);\n",
        "      stream.getVideoTracks()[0].stop();\n",
        "      div.remove();\n",
        "      return canvas.toDataURL('image/jpeg', quality);\n",
        "    }\n",
        "    ''')\n",
        "  display(js)\n",
        "  data = eval_js('takePhoto({})'.format(quality))\n",
        "  binary = b64decode(data.split(',')[1])\n",
        "  with open(filename, 'wb') as f:\n",
        "    f.write(binary)\n",
        "  return filename\"\"\""
      ],
      "execution_count": null,
      "outputs": []
    },
    {
      "cell_type": "code",
      "metadata": {
        "id": "2BP_WE_-cOfG"
      },
      "source": [
        "labelx=[2,4,5,7,8,9,3,6,1,4,0,9,1]#đáng lẽ ảnh được gán label trong khi lúc chụp nhưng vì để thuận tiện nên nhóm đã lưu lại ảnh đã chụp trước đó rồi gán label sau. Phần code ở Section \"Code cùng camera\" \n",
        "#chính là đoạn code nhóm dùng để vừa chụp vừa gán label."
      ],
      "execution_count": null,
      "outputs": []
    },
    {
      "cell_type": "code",
      "metadata": {
        "id": "DZp4Meg0cTUW"
      },
      "source": [
        "\"\"\"from IPython.display import Image\n",
        "for i in range(9):\n",
        "  try:\n",
        "    temp='photo%s.jpg'%i\n",
        "    filename = take_photo(temp)\n",
        "    print('Saved to {}'.format(filename))\n",
        "    \n",
        "    # Show the image which was just taken.\n",
        "    display(Image(filename))\n",
        "    #labelx.append(input('Nhập label cho test này: '))\n",
        "  except Exception as err:\n",
        "    # Errors will be thrown if the user does not have a webcam or if they do not\n",
        "    # grant the page permission to access it.\n",
        "    print(str(err))\"\"\""
      ],
      "execution_count": null,
      "outputs": []
    },
    {
      "cell_type": "code",
      "metadata": {
        "id": "lS6LSJP1cYEx"
      },
      "source": [
        "import cv2"
      ],
      "execution_count": null,
      "outputs": []
    },
    {
      "cell_type": "code",
      "metadata": {
        "id": "f6m9W-o6eZ43"
      },
      "source": [
        "X_test_temp=[]"
      ],
      "execution_count": null,
      "outputs": []
    },
    {
      "cell_type": "markdown",
      "metadata": {
        "id": "5A2DCCaTfBO9"
      },
      "source": [
        "Đọc ảnh các ảnh vừa thu thập được (ma trận pixel). Sau đó resize nó về ma trận 8x8 rồi vectorize về (64,1) để có thể phù hợp với đầu vào của mô hình."
      ]
    },
    {
      "cell_type": "code",
      "metadata": {
        "id": "gqsP1tZncanX"
      },
      "source": [
        "for i in range(13):\n",
        "  temp='photo%s.jpg'%i  \n",
        "  img=cv2.imread(temp)\n",
        "  img = cv2.cvtColor(img, cv2.COLOR_BGR2GRAY)#chuyển về ảnh xám\n",
        "  #img=(img/255)*10\n",
        "  #(thresh, img_test) = cv2.threshold(img, 128, 255, cv2.THRESH_BINARY)\n",
        "  img_test = cv2.resize(img, (8, 8), interpolation = cv2.INTER_AREA)\n",
        "  img_test=img_test.reshape(1,64)\n",
        "  \"\"\"for j in range(64):\n",
        "    if img_test[0][j]>=128:\n",
        "      img_test[0][j]=0\"\"\"\n",
        "  #img_test=(img_test/255)*10\n",
        "  X_test_temp.append(img_test)"
      ],
      "execution_count": null,
      "outputs": []
    },
    {
      "cell_type": "code",
      "metadata": {
        "id": "6klHhiVJVaiF"
      },
      "source": [
        "predicted_test=[]"
      ],
      "execution_count": null,
      "outputs": []
    },
    {
      "cell_type": "code",
      "metadata": {
        "id": "CNvwQKRiVcmG"
      },
      "source": [
        "for i in X_test_temp:\n",
        "  temp = clf.predict(i)\n",
        "  predicted_test.append(temp)"
      ],
      "execution_count": null,
      "outputs": []
    },
    {
      "cell_type": "code",
      "metadata": {
        "colab": {
          "base_uri": "https://localhost:8080/",
          "height": 153
        },
        "id": "hTWMvZEiVgsW",
        "outputId": "754ffc1c-8526-4d7b-834c-b20b04e06036"
      },
      "source": [
        "_, axes = plt.subplots(nrows=1, ncols=13, figsize=(30, 3))\n",
        "for ax, image, prediction,k in zip(axes, X_test_temp, predicted_test,labelx):\n",
        "    ax.set_axis_off()\n",
        "    image = image.reshape(8, 8)\n",
        "    ax.imshow(image, cmap=plt.cm.gray_r, interpolation='nearest')\n",
        "    ax.set_title(f'Real valueL {k}\\nPredicted value: {prediction}')"
      ],
      "execution_count": null,
      "outputs": [
        {
          "output_type": "display_data",
          "data": {
            "image/png": "[encoded data removed]",
            "text/plain": [
              "<Figure size 2160x216 with 13 Axes>"
            ]
          },
          "metadata": {
            "tags": [],
            "needs_background": "light"
          }
        }
      ]
    },
    {
      "cell_type": "markdown",
      "metadata": {
        "id": "cN9PtrZzWpb3"
      },
      "source": [
        "**Nhận xét:** với 1 bức ảnh được chụp cùng camera lap bất kì, thì model luôn dự đoán giá trị là 1 (tỷ lệ là 1/13). Điều này chứng tỏ nhận diện chữ số trên mặt giấy khi chụp bằng webcam laptop là **KHÔNG TỐT**, không phù hợp."
      ]
    },
    {
      "cell_type": "markdown",
      "metadata": {
        "id": "2JhxZpobXoVT"
      },
      "source": [
        "## Thử thay đổi ma trận đầu vào để phù hợp với dữ liệu scikit-learn:"
      ]
    },
    {
      "cell_type": "markdown",
      "metadata": {
        "id": "Z2AuYLoLXYQk"
      },
      "source": [
        "Show thử ma trận của những bức ảnh được chụp từ camera có vùng giá trị như thế nào ?"
      ]
    },
    {
      "cell_type": "code",
      "metadata": {
        "colab": {
          "base_uri": "https://localhost:8080/"
        },
        "id": "Dxoyrie7XeEE",
        "outputId": "0d86f085-d794-4e0e-ab88-3d8c6c89c0f8"
      },
      "source": [
        "X_test_temp"
      ],
      "execution_count": null,
      "outputs": [
        {
          "output_type": "execute_result",
          "data": {
            "text/plain": [
              "[array([[117, 119, 118,  79,  60, 105, 115, 111, 125, 125,  74,  55, 107,\n",
              "          63, 122, 118, 132, 128,  58, 125, 129,  51, 128, 125, 143, 142,\n",
              "         143, 142, 116,  66, 135, 133, 153, 153, 154, 151,  66, 119, 148,\n",
              "         144, 164, 164, 163,  91,  98, 159, 158, 153, 177, 170,  98,  79,\n",
              "         124, 112, 150, 166, 188, 174, 120, 134, 150, 161, 166, 178]],\n",
              "       dtype=uint8),\n",
              " array([[119, 119, 110,  92, 117, 116, 111, 106, 121, 121,  67,  83, 120,\n",
              "         119, 116, 111, 127, 121,  44, 120, 128, 127, 125, 119, 135,  79,\n",
              "          54,  40,  81, 138, 134, 130, 143,  55,  68,  45, 102, 149, 145,\n",
              "         141, 154, 156, 158,  66, 141, 160, 157, 153, 165, 169, 172,  75,\n",
              "         160, 173, 168, 162, 177, 181, 184, 129, 180, 182, 177, 170]],\n",
              "       dtype=uint8),\n",
              " array([[113, 114,  88,  65,  62,  57,  93, 117, 116, 119,  67,  94, 111,\n",
              "         111, 114, 119, 125, 128,  73, 111, 130, 129, 127, 125, 137, 139,\n",
              "          76,  67,  69,  95, 135, 131, 147, 151, 131, 111, 113,  84, 140,\n",
              "         139, 159, 162, 165, 166, 165, 129, 144, 149, 171, 174, 175, 178,\n",
              "         155,  95, 167, 160, 183, 186, 142, 108, 122, 174, 180, 171]],\n",
              "       dtype=uint8),\n",
              " array([[111, 107,  77,  62,  50,  45,  40, 109, 115, 106,  29,  39,  48,\n",
              "          40,  36, 115, 122, 125, 124, 128, 129,  63,  79, 123, 132, 134,\n",
              "         137, 139, 127,  39, 121, 131, 142, 145, 148, 148,  97,  77, 142,\n",
              "         141, 155, 158, 159, 158,  67, 142, 155, 151, 167, 170, 171, 133,\n",
              "          95, 173, 169, 161, 178, 181, 183, 100, 159, 184, 180, 171]],\n",
              "       dtype=uint8),\n",
              " array([[103, 106, 107,  84,  42,  75, 106, 102, 110, 113, 111,  53, 108,\n",
              "          89, 114, 110, 118, 122, 115,  96, 126,  95, 122, 118, 128, 132,\n",
              "         135, 103, 103, 112, 132, 128, 141, 145, 147, 118,  89, 145, 145,\n",
              "         141, 153, 155, 128, 120, 159, 134, 155, 153, 163, 167, 125, 170,\n",
              "         156, 127, 166, 163, 172, 177, 149, 117, 122, 175, 175, 172]],\n",
              "       dtype=uint8),\n",
              " array([[106, 110, 112, 112, 110, 112, 111, 107, 109, 112, 114,  95,  74,\n",
              "         114, 110, 107, 120, 123, 111, 112,  76, 123, 119, 114, 132, 135,\n",
              "         125, 106,  58, 134, 129, 124, 146, 148, 150, 134,  88, 147, 143,\n",
              "         136, 157, 159, 160, 162, 112, 156, 153, 147, 166, 168, 164, 126,\n",
              "         128, 163, 160, 155, 173, 175, 175, 174, 173, 169, 164, 159]],\n",
              "       dtype=uint8),\n",
              " array([[109, 112, 112,  76,  68, 112, 113, 110, 113, 116, 101,  71, 104,\n",
              "          81, 119, 115, 121, 125, 126, 127, 115,  73, 129, 124, 130, 133,\n",
              "         136,  99,  39, 114, 136, 133, 140, 144, 147, 131, 112,  90, 145,\n",
              "         141, 152, 155, 158, 157, 115, 112, 153, 150, 163, 167, 161,  97,\n",
              "         132, 166, 163, 160, 174, 177, 179, 179, 179, 177, 173, 170]],\n",
              "       dtype=uint8),\n",
              " array([[110, 113, 115, 115,  73, 109, 109, 102, 116, 119, 122,  71,  80,\n",
              "         119, 117, 110, 124, 127, 108,  74, 131, 131, 127, 120, 135, 138,\n",
              "          78, 127, 132, 142, 140, 134, 146, 148,  64,  81,  92, 104, 149,\n",
              "         146, 155, 158, 107, 163, 164, 136, 155, 154, 165, 169, 132, 173,\n",
              "         166, 108, 167, 163, 173, 177, 172, 124, 104, 153, 174, 169]],\n",
              "       dtype=uint8),\n",
              " array([[106, 109, 111, 113, 102,  96, 106, 101, 112, 115, 116,  99,  32,\n",
              "          71, 113, 108, 122, 124, 108,  38,  75,  82, 125, 118, 130, 134,\n",
              "          90, 111,  88,  98, 135, 129, 142, 146, 148, 148,  80, 125, 147,\n",
              "         142, 153, 156, 159, 158,  75, 153, 156, 151, 162, 165, 167, 167,\n",
              "          80, 164, 162, 156, 171, 174, 174, 173, 154, 170, 166, 161]],\n",
              "       dtype=uint8),\n",
              " array([[114, 116, 117,  76,  90, 117, 113, 109, 119, 121, 108,  40, 119,\n",
              "         122, 119, 115, 127, 130,  60,  92,  75, 129, 127, 123, 137, 125,\n",
              "          37,  43,  33,  86, 137, 133, 147, 148, 140, 138,  52, 135, 149,\n",
              "         144, 157, 159, 162, 157,  74, 162, 159, 155, 168, 172, 174, 159,\n",
              "          95, 174, 171, 166, 178, 182, 184, 182, 173, 183, 179, 174]],\n",
              "       dtype=uint8),\n",
              " array([[109, 112, 114,  92, 103, 116, 114, 109, 115, 119,  89,  27,  57,\n",
              "          95, 122, 118, 121, 124,  41,  96, 130,  82, 129, 126, 130, 121,\n",
              "          50, 139, 141,  90, 137, 137, 143, 124,  75, 151, 152,  98, 145,\n",
              "         148, 154, 146,  86, 162, 158,  88, 161, 158, 167, 170, 119, 115,\n",
              "          86, 141, 173, 169, 177, 181, 183, 156, 173, 184, 170, 168]],\n",
              "       dtype=uint8),\n",
              " array([[107, 110, 112, 111, 111, 110, 105, 100, 114, 117, 119, 117,  63,\n",
              "         106, 112, 107, 122, 125, 126,  92,  88,  67, 120, 114, 131, 134,\n",
              "         133,  77,  97,  73, 130, 123, 143, 146, 147, 103,  77,  94, 142,\n",
              "         135, 153, 156, 158, 158, 125, 129, 153, 147, 164, 167, 169, 131,\n",
              "         108, 165, 165, 158, 173, 176, 178, 176, 177, 177, 173, 167]],\n",
              "       dtype=uint8),\n",
              " array([[ 96, 101, 103,  86,  26, 104, 102,  99, 103, 108, 110,  44,  30,\n",
              "         110, 109, 105, 114, 119, 103,  53,  50, 120, 118, 115, 124, 128,\n",
              "         132, 129,  57, 131, 129, 124, 137, 141, 145, 146,  67, 144, 141,\n",
              "         137, 151, 155, 157, 158,  77, 155, 152, 149, 161, 165, 167, 168,\n",
              "          85, 166, 162, 158, 170, 173, 176, 176, 149, 175, 170, 166]],\n",
              "       dtype=uint8)]"
            ]
          },
          "metadata": {
            "tags": []
          },
          "execution_count": 18
        }
      ]
    },
    {
      "cell_type": "markdown",
      "metadata": {
        "id": "BxniIXB7emUN"
      },
      "source": [
        "Có vẻ như ma trận có được từ ảnh chụp được từ camera của máy chúng em thường có giá trị trong khoảng 0->200. Trong khi tập dữ liệu dùng để train là 0->16. Nên chúng em nghĩ cần phải scale các ma trận này trước khi đưa vào dự đoán để có thể có 1 kết quả khả quan hơn.\n",
        "\n",
        "Cụ thể: Vùng giá trị của ma trận là 0->200 muốn scale về 0->16. Tức k=200/16~=13. Vậy chúng ta sẽ chia ma trận cho 13"
      ]
    },
    {
      "cell_type": "code",
      "metadata": {
        "id": "G5QPhLxLfaGr"
      },
      "source": [
        "for i in range(len(X_test_temp)):\n",
        "  X_test_temp[i]=(X_test_temp[i]/13)"
      ],
      "execution_count": null,
      "outputs": []
    },
    {
      "cell_type": "code",
      "metadata": {
        "colab": {
          "base_uri": "https://localhost:8080/"
        },
        "id": "49BWWJt7fq6t",
        "outputId": "15d79742-6d3e-4ede-f514-31ca7365b085"
      },
      "source": [
        "X_test_temp"
      ],
      "execution_count": null,
      "outputs": [
        {
          "output_type": "execute_result",
          "data": {
            "text/plain": [
              "[array([[ 9.        ,  9.15384615,  9.07692308,  6.07692308,  4.61538462,\n",
              "          8.07692308,  8.84615385,  8.53846154,  9.61538462,  9.61538462,\n",
              "          5.69230769,  4.23076923,  8.23076923,  4.84615385,  9.38461538,\n",
              "          9.07692308, 10.15384615,  9.84615385,  4.46153846,  9.61538462,\n",
              "          9.92307692,  3.92307692,  9.84615385,  9.61538462, 11.        ,\n",
              "         10.92307692, 11.        , 10.92307692,  8.92307692,  5.07692308,\n",
              "         10.38461538, 10.23076923, 11.76923077, 11.76923077, 11.84615385,\n",
              "         11.61538462,  5.07692308,  9.15384615, 11.38461538, 11.07692308,\n",
              "         12.61538462, 12.61538462, 12.53846154,  7.        ,  7.53846154,\n",
              "         12.23076923, 12.15384615, 11.76923077, 13.61538462, 13.07692308,\n",
              "          7.53846154,  6.07692308,  9.53846154,  8.61538462, 11.53846154,\n",
              "         12.76923077, 14.46153846, 13.38461538,  9.23076923, 10.30769231,\n",
              "         11.53846154, 12.38461538, 12.76923077, 13.69230769]]),\n",
              " array([[ 9.15384615,  9.15384615,  8.46153846,  7.07692308,  9.        ,\n",
              "          8.92307692,  8.53846154,  8.15384615,  9.30769231,  9.30769231,\n",
              "          5.15384615,  6.38461538,  9.23076923,  9.15384615,  8.92307692,\n",
              "          8.53846154,  9.76923077,  9.30769231,  3.38461538,  9.23076923,\n",
              "          9.84615385,  9.76923077,  9.61538462,  9.15384615, 10.38461538,\n",
              "          6.07692308,  4.15384615,  3.07692308,  6.23076923, 10.61538462,\n",
              "         10.30769231, 10.        , 11.        ,  4.23076923,  5.23076923,\n",
              "          3.46153846,  7.84615385, 11.46153846, 11.15384615, 10.84615385,\n",
              "         11.84615385, 12.        , 12.15384615,  5.07692308, 10.84615385,\n",
              "         12.30769231, 12.07692308, 11.76923077, 12.69230769, 13.        ,\n",
              "         13.23076923,  5.76923077, 12.30769231, 13.30769231, 12.92307692,\n",
              "         12.46153846, 13.61538462, 13.92307692, 14.15384615,  9.92307692,\n",
              "         13.84615385, 14.        , 13.61538462, 13.07692308]]),\n",
              " array([[ 8.69230769,  8.76923077,  6.76923077,  5.        ,  4.76923077,\n",
              "          4.38461538,  7.15384615,  9.        ,  8.92307692,  9.15384615,\n",
              "          5.15384615,  7.23076923,  8.53846154,  8.53846154,  8.76923077,\n",
              "          9.15384615,  9.61538462,  9.84615385,  5.61538462,  8.53846154,\n",
              "         10.        ,  9.92307692,  9.76923077,  9.61538462, 10.53846154,\n",
              "         10.69230769,  5.84615385,  5.15384615,  5.30769231,  7.30769231,\n",
              "         10.38461538, 10.07692308, 11.30769231, 11.61538462, 10.07692308,\n",
              "          8.53846154,  8.69230769,  6.46153846, 10.76923077, 10.69230769,\n",
              "         12.23076923, 12.46153846, 12.69230769, 12.76923077, 12.69230769,\n",
              "          9.92307692, 11.07692308, 11.46153846, 13.15384615, 13.38461538,\n",
              "         13.46153846, 13.69230769, 11.92307692,  7.30769231, 12.84615385,\n",
              "         12.30769231, 14.07692308, 14.30769231, 10.92307692,  8.30769231,\n",
              "          9.38461538, 13.38461538, 13.84615385, 13.15384615]]),\n",
              " array([[ 8.53846154,  8.23076923,  5.92307692,  4.76923077,  3.84615385,\n",
              "          3.46153846,  3.07692308,  8.38461538,  8.84615385,  8.15384615,\n",
              "          2.23076923,  3.        ,  3.69230769,  3.07692308,  2.76923077,\n",
              "          8.84615385,  9.38461538,  9.61538462,  9.53846154,  9.84615385,\n",
              "          9.92307692,  4.84615385,  6.07692308,  9.46153846, 10.15384615,\n",
              "         10.30769231, 10.53846154, 10.69230769,  9.76923077,  3.        ,\n",
              "          9.30769231, 10.07692308, 10.92307692, 11.15384615, 11.38461538,\n",
              "         11.38461538,  7.46153846,  5.92307692, 10.92307692, 10.84615385,\n",
              "         11.92307692, 12.15384615, 12.23076923, 12.15384615,  5.15384615,\n",
              "         10.92307692, 11.92307692, 11.61538462, 12.84615385, 13.07692308,\n",
              "         13.15384615, 10.23076923,  7.30769231, 13.30769231, 13.        ,\n",
              "         12.38461538, 13.69230769, 13.92307692, 14.07692308,  7.69230769,\n",
              "         12.23076923, 14.15384615, 13.84615385, 13.15384615]]),\n",
              " array([[ 7.92307692,  8.15384615,  8.23076923,  6.46153846,  3.23076923,\n",
              "          5.76923077,  8.15384615,  7.84615385,  8.46153846,  8.69230769,\n",
              "          8.53846154,  4.07692308,  8.30769231,  6.84615385,  8.76923077,\n",
              "          8.46153846,  9.07692308,  9.38461538,  8.84615385,  7.38461538,\n",
              "          9.69230769,  7.30769231,  9.38461538,  9.07692308,  9.84615385,\n",
              "         10.15384615, 10.38461538,  7.92307692,  7.92307692,  8.61538462,\n",
              "         10.15384615,  9.84615385, 10.84615385, 11.15384615, 11.30769231,\n",
              "          9.07692308,  6.84615385, 11.15384615, 11.15384615, 10.84615385,\n",
              "         11.76923077, 11.92307692,  9.84615385,  9.23076923, 12.23076923,\n",
              "         10.30769231, 11.92307692, 11.76923077, 12.53846154, 12.84615385,\n",
              "          9.61538462, 13.07692308, 12.        ,  9.76923077, 12.76923077,\n",
              "         12.53846154, 13.23076923, 13.61538462, 11.46153846,  9.        ,\n",
              "          9.38461538, 13.46153846, 13.46153846, 13.23076923]]),\n",
              " array([[ 8.15384615,  8.46153846,  8.61538462,  8.61538462,  8.46153846,\n",
              "          8.61538462,  8.53846154,  8.23076923,  8.38461538,  8.61538462,\n",
              "          8.76923077,  7.30769231,  5.69230769,  8.76923077,  8.46153846,\n",
              "          8.23076923,  9.23076923,  9.46153846,  8.53846154,  8.61538462,\n",
              "          5.84615385,  9.46153846,  9.15384615,  8.76923077, 10.15384615,\n",
              "         10.38461538,  9.61538462,  8.15384615,  4.46153846, 10.30769231,\n",
              "          9.92307692,  9.53846154, 11.23076923, 11.38461538, 11.53846154,\n",
              "         10.30769231,  6.76923077, 11.30769231, 11.        , 10.46153846,\n",
              "         12.07692308, 12.23076923, 12.30769231, 12.46153846,  8.61538462,\n",
              "         12.        , 11.76923077, 11.30769231, 12.76923077, 12.92307692,\n",
              "         12.61538462,  9.69230769,  9.84615385, 12.53846154, 12.30769231,\n",
              "         11.92307692, 13.30769231, 13.46153846, 13.46153846, 13.38461538,\n",
              "         13.30769231, 13.        , 12.61538462, 12.23076923]]),\n",
              " array([[ 8.38461538,  8.61538462,  8.61538462,  5.84615385,  5.23076923,\n",
              "          8.61538462,  8.69230769,  8.46153846,  8.69230769,  8.92307692,\n",
              "          7.76923077,  5.46153846,  8.        ,  6.23076923,  9.15384615,\n",
              "          8.84615385,  9.30769231,  9.61538462,  9.69230769,  9.76923077,\n",
              "          8.84615385,  5.61538462,  9.92307692,  9.53846154, 10.        ,\n",
              "         10.23076923, 10.46153846,  7.61538462,  3.        ,  8.76923077,\n",
              "         10.46153846, 10.23076923, 10.76923077, 11.07692308, 11.30769231,\n",
              "         10.07692308,  8.61538462,  6.92307692, 11.15384615, 10.84615385,\n",
              "         11.69230769, 11.92307692, 12.15384615, 12.07692308,  8.84615385,\n",
              "          8.61538462, 11.76923077, 11.53846154, 12.53846154, 12.84615385,\n",
              "         12.38461538,  7.46153846, 10.15384615, 12.76923077, 12.53846154,\n",
              "         12.30769231, 13.38461538, 13.61538462, 13.76923077, 13.76923077,\n",
              "         13.76923077, 13.61538462, 13.30769231, 13.07692308]]),\n",
              " array([[ 8.46153846,  8.69230769,  8.84615385,  8.84615385,  5.61538462,\n",
              "          8.38461538,  8.38461538,  7.84615385,  8.92307692,  9.15384615,\n",
              "          9.38461538,  5.46153846,  6.15384615,  9.15384615,  9.        ,\n",
              "          8.46153846,  9.53846154,  9.76923077,  8.30769231,  5.69230769,\n",
              "         10.07692308, 10.07692308,  9.76923077,  9.23076923, 10.38461538,\n",
              "         10.61538462,  6.        ,  9.76923077, 10.15384615, 10.92307692,\n",
              "         10.76923077, 10.30769231, 11.23076923, 11.38461538,  4.92307692,\n",
              "          6.23076923,  7.07692308,  8.        , 11.46153846, 11.23076923,\n",
              "         11.92307692, 12.15384615,  8.23076923, 12.53846154, 12.61538462,\n",
              "         10.46153846, 11.92307692, 11.84615385, 12.69230769, 13.        ,\n",
              "         10.15384615, 13.30769231, 12.76923077,  8.30769231, 12.84615385,\n",
              "         12.53846154, 13.30769231, 13.61538462, 13.23076923,  9.53846154,\n",
              "          8.        , 11.76923077, 13.38461538, 13.        ]]),\n",
              " array([[ 8.15384615,  8.38461538,  8.53846154,  8.69230769,  7.84615385,\n",
              "          7.38461538,  8.15384615,  7.76923077,  8.61538462,  8.84615385,\n",
              "          8.92307692,  7.61538462,  2.46153846,  5.46153846,  8.69230769,\n",
              "          8.30769231,  9.38461538,  9.53846154,  8.30769231,  2.92307692,\n",
              "          5.76923077,  6.30769231,  9.61538462,  9.07692308, 10.        ,\n",
              "         10.30769231,  6.92307692,  8.53846154,  6.76923077,  7.53846154,\n",
              "         10.38461538,  9.92307692, 10.92307692, 11.23076923, 11.38461538,\n",
              "         11.38461538,  6.15384615,  9.61538462, 11.30769231, 10.92307692,\n",
              "         11.76923077, 12.        , 12.23076923, 12.15384615,  5.76923077,\n",
              "         11.76923077, 12.        , 11.61538462, 12.46153846, 12.69230769,\n",
              "         12.84615385, 12.84615385,  6.15384615, 12.61538462, 12.46153846,\n",
              "         12.        , 13.15384615, 13.38461538, 13.38461538, 13.30769231,\n",
              "         11.84615385, 13.07692308, 12.76923077, 12.38461538]]),\n",
              " array([[ 8.76923077,  8.92307692,  9.        ,  5.84615385,  6.92307692,\n",
              "          9.        ,  8.69230769,  8.38461538,  9.15384615,  9.30769231,\n",
              "          8.30769231,  3.07692308,  9.15384615,  9.38461538,  9.15384615,\n",
              "          8.84615385,  9.76923077, 10.        ,  4.61538462,  7.07692308,\n",
              "          5.76923077,  9.92307692,  9.76923077,  9.46153846, 10.53846154,\n",
              "          9.61538462,  2.84615385,  3.30769231,  2.53846154,  6.61538462,\n",
              "         10.53846154, 10.23076923, 11.30769231, 11.38461538, 10.76923077,\n",
              "         10.61538462,  4.        , 10.38461538, 11.46153846, 11.07692308,\n",
              "         12.07692308, 12.23076923, 12.46153846, 12.07692308,  5.69230769,\n",
              "         12.46153846, 12.23076923, 11.92307692, 12.92307692, 13.23076923,\n",
              "         13.38461538, 12.23076923,  7.30769231, 13.38461538, 13.15384615,\n",
              "         12.76923077, 13.69230769, 14.        , 14.15384615, 14.        ,\n",
              "         13.30769231, 14.07692308, 13.76923077, 13.38461538]]),\n",
              " array([[ 8.38461538,  8.61538462,  8.76923077,  7.07692308,  7.92307692,\n",
              "          8.92307692,  8.76923077,  8.38461538,  8.84615385,  9.15384615,\n",
              "          6.84615385,  2.07692308,  4.38461538,  7.30769231,  9.38461538,\n",
              "          9.07692308,  9.30769231,  9.53846154,  3.15384615,  7.38461538,\n",
              "         10.        ,  6.30769231,  9.92307692,  9.69230769, 10.        ,\n",
              "          9.30769231,  3.84615385, 10.69230769, 10.84615385,  6.92307692,\n",
              "         10.53846154, 10.53846154, 11.        ,  9.53846154,  5.76923077,\n",
              "         11.61538462, 11.69230769,  7.53846154, 11.15384615, 11.38461538,\n",
              "         11.84615385, 11.23076923,  6.61538462, 12.46153846, 12.15384615,\n",
              "          6.76923077, 12.38461538, 12.15384615, 12.84615385, 13.07692308,\n",
              "          9.15384615,  8.84615385,  6.61538462, 10.84615385, 13.30769231,\n",
              "         13.        , 13.61538462, 13.92307692, 14.07692308, 12.        ,\n",
              "         13.30769231, 14.15384615, 13.07692308, 12.92307692]]),\n",
              " array([[ 8.23076923,  8.46153846,  8.61538462,  8.53846154,  8.53846154,\n",
              "          8.46153846,  8.07692308,  7.69230769,  8.76923077,  9.        ,\n",
              "          9.15384615,  9.        ,  4.84615385,  8.15384615,  8.61538462,\n",
              "          8.23076923,  9.38461538,  9.61538462,  9.69230769,  7.07692308,\n",
              "          6.76923077,  5.15384615,  9.23076923,  8.76923077, 10.07692308,\n",
              "         10.30769231, 10.23076923,  5.92307692,  7.46153846,  5.61538462,\n",
              "         10.        ,  9.46153846, 11.        , 11.23076923, 11.30769231,\n",
              "          7.92307692,  5.92307692,  7.23076923, 10.92307692, 10.38461538,\n",
              "         11.76923077, 12.        , 12.15384615, 12.15384615,  9.61538462,\n",
              "          9.92307692, 11.76923077, 11.30769231, 12.61538462, 12.84615385,\n",
              "         13.        , 10.07692308,  8.30769231, 12.69230769, 12.69230769,\n",
              "         12.15384615, 13.30769231, 13.53846154, 13.69230769, 13.53846154,\n",
              "         13.61538462, 13.61538462, 13.30769231, 12.84615385]]),\n",
              " array([[ 7.38461538,  7.76923077,  7.92307692,  6.61538462,  2.        ,\n",
              "          8.        ,  7.84615385,  7.61538462,  7.92307692,  8.30769231,\n",
              "          8.46153846,  3.38461538,  2.30769231,  8.46153846,  8.38461538,\n",
              "          8.07692308,  8.76923077,  9.15384615,  7.92307692,  4.07692308,\n",
              "          3.84615385,  9.23076923,  9.07692308,  8.84615385,  9.53846154,\n",
              "          9.84615385, 10.15384615,  9.92307692,  4.38461538, 10.07692308,\n",
              "          9.92307692,  9.53846154, 10.53846154, 10.84615385, 11.15384615,\n",
              "         11.23076923,  5.15384615, 11.07692308, 10.84615385, 10.53846154,\n",
              "         11.61538462, 11.92307692, 12.07692308, 12.15384615,  5.92307692,\n",
              "         11.92307692, 11.69230769, 11.46153846, 12.38461538, 12.69230769,\n",
              "         12.84615385, 12.92307692,  6.53846154, 12.76923077, 12.46153846,\n",
              "         12.15384615, 13.07692308, 13.30769231, 13.53846154, 13.53846154,\n",
              "         11.46153846, 13.46153846, 13.07692308, 12.76923077]])]"
            ]
          },
          "metadata": {
            "tags": []
          },
          "execution_count": 20
        }
      ]
    },
    {
      "cell_type": "markdown",
      "metadata": {
        "id": "yq12ZBF2buxl"
      },
      "source": [
        "**Predict:**"
      ]
    },
    {
      "cell_type": "code",
      "metadata": {
        "id": "6MDu1WlrcgfZ"
      },
      "source": [
        "predicted_test=[]"
      ],
      "execution_count": null,
      "outputs": []
    },
    {
      "cell_type": "code",
      "metadata": {
        "id": "sVmfE2s8heJV"
      },
      "source": [
        "for i in X_test_temp:\n",
        "  temp = clf.predict(i)\n",
        "  predicted_test.append(temp)"
      ],
      "execution_count": null,
      "outputs": []
    },
    {
      "cell_type": "code",
      "metadata": {
        "colab": {
          "base_uri": "https://localhost:8080/",
          "height": 153
        },
        "id": "gHukWV86coWn",
        "outputId": "d0f915be-38ed-47b3-e88b-b93712a9749b"
      },
      "source": [
        "_, axes = plt.subplots(nrows=1, ncols=13, figsize=(30, 3))\n",
        "for ax, image, prediction,k in zip(axes, X_test_temp, predicted_test,labelx):\n",
        "    ax.set_axis_off()\n",
        "    image = image.reshape(8, 8)\n",
        "    ax.imshow(image, cmap=plt.cm.gray_r, interpolation='nearest')\n",
        "    ax.set_title(f'Realvalue: {k}\\nPredicted value: {prediction}')"
      ],
      "execution_count": null,
      "outputs": [
        {
          "output_type": "display_data",
          "data": {
            "image/png": "[encoded data removed]",
            "text/plain": [
              "<Figure size 2160x216 with 13 Axes>"
            ]
          },
          "metadata": {
            "tags": [],
            "needs_background": "light"
          }
        }
      ]
    },
    {
      "cell_type": "markdown",
      "metadata": {
        "id": "nmNbBCvgipkU"
      },
      "source": [
        "Kết quả vẫn không tốt và thiên vị về kết quả là số 1. Nhìn vào các bức ảnh thì có thể đoán có lẽ rằng: 1 trong những lí do là nó đang hiển thị ngược lại so với những gì chúng ta mong muốn (phần số thì lại trắng, còn phần nền thì lại đen đi) Khác với dữ liệu từ scikit-learn. Thử đảo lại giá trị ma trận xem sao ?\n",
        "\n",
        "Chúng ta đã biến đổi các ma trận đầu vào bằng cách chia cho 13. Đảo lại ==> KQ=13-(Matrix/13)."
      ]
    },
    {
      "cell_type": "code",
      "metadata": {
        "id": "IGdA3liWjXcq"
      },
      "source": [
        "for i in range(len(X_test_temp)):\n",
        "  X_test_temp[i]=13-(X_test_temp[i])"
      ],
      "execution_count": null,
      "outputs": []
    },
    {
      "cell_type": "code",
      "metadata": {
        "colab": {
          "base_uri": "https://localhost:8080/"
        },
        "id": "msSpQLHPjfsh",
        "outputId": "bebd8a06-d116-49c7-f7df-4e780346b698"
      },
      "source": [
        "X_test_temp"
      ],
      "execution_count": null,
      "outputs": [
        {
          "output_type": "execute_result",
          "data": {
            "text/plain": [
              "[array([[ 4.        ,  3.84615385,  3.92307692,  6.92307692,  8.38461538,\n",
              "          4.92307692,  4.15384615,  4.46153846,  3.38461538,  3.38461538,\n",
              "          7.30769231,  8.76923077,  4.76923077,  8.15384615,  3.61538462,\n",
              "          3.92307692,  2.84615385,  3.15384615,  8.53846154,  3.38461538,\n",
              "          3.07692308,  9.07692308,  3.15384615,  3.38461538,  2.        ,\n",
              "          2.07692308,  2.        ,  2.07692308,  4.07692308,  7.92307692,\n",
              "          2.61538462,  2.76923077,  1.23076923,  1.23076923,  1.15384615,\n",
              "          1.38461538,  7.92307692,  3.84615385,  1.61538462,  1.92307692,\n",
              "          0.38461538,  0.38461538,  0.46153846,  6.        ,  5.46153846,\n",
              "          0.76923077,  0.84615385,  1.23076923, -0.61538462, -0.07692308,\n",
              "          5.46153846,  6.92307692,  3.46153846,  4.38461538,  1.46153846,\n",
              "          0.23076923, -1.46153846, -0.38461538,  3.76923077,  2.69230769,\n",
              "          1.46153846,  0.61538462,  0.23076923, -0.69230769]]),\n",
              " array([[ 3.84615385,  3.84615385,  4.53846154,  5.92307692,  4.        ,\n",
              "          4.07692308,  4.46153846,  4.84615385,  3.69230769,  3.69230769,\n",
              "          7.84615385,  6.61538462,  3.76923077,  3.84615385,  4.07692308,\n",
              "          4.46153846,  3.23076923,  3.69230769,  9.61538462,  3.76923077,\n",
              "          3.15384615,  3.23076923,  3.38461538,  3.84615385,  2.61538462,\n",
              "          6.92307692,  8.84615385,  9.92307692,  6.76923077,  2.38461538,\n",
              "          2.69230769,  3.        ,  2.        ,  8.76923077,  7.76923077,\n",
              "          9.53846154,  5.15384615,  1.53846154,  1.84615385,  2.15384615,\n",
              "          1.15384615,  1.        ,  0.84615385,  7.92307692,  2.15384615,\n",
              "          0.69230769,  0.92307692,  1.23076923,  0.30769231,  0.        ,\n",
              "         -0.23076923,  7.23076923,  0.69230769, -0.30769231,  0.07692308,\n",
              "          0.53846154, -0.61538462, -0.92307692, -1.15384615,  3.07692308,\n",
              "         -0.84615385, -1.        , -0.61538462, -0.07692308]]),\n",
              " array([[ 4.30769231,  4.23076923,  6.23076923,  8.        ,  8.23076923,\n",
              "          8.61538462,  5.84615385,  4.        ,  4.07692308,  3.84615385,\n",
              "          7.84615385,  5.76923077,  4.46153846,  4.46153846,  4.23076923,\n",
              "          3.84615385,  3.38461538,  3.15384615,  7.38461538,  4.46153846,\n",
              "          3.        ,  3.07692308,  3.23076923,  3.38461538,  2.46153846,\n",
              "          2.30769231,  7.15384615,  7.84615385,  7.69230769,  5.69230769,\n",
              "          2.61538462,  2.92307692,  1.69230769,  1.38461538,  2.92307692,\n",
              "          4.46153846,  4.30769231,  6.53846154,  2.23076923,  2.30769231,\n",
              "          0.76923077,  0.53846154,  0.30769231,  0.23076923,  0.30769231,\n",
              "          3.07692308,  1.92307692,  1.53846154, -0.15384615, -0.38461538,\n",
              "         -0.46153846, -0.69230769,  1.07692308,  5.69230769,  0.15384615,\n",
              "          0.69230769, -1.07692308, -1.30769231,  2.07692308,  4.69230769,\n",
              "          3.61538462, -0.38461538, -0.84615385, -0.15384615]]),\n",
              " array([[ 4.46153846,  4.76923077,  7.07692308,  8.23076923,  9.15384615,\n",
              "          9.53846154,  9.92307692,  4.61538462,  4.15384615,  4.84615385,\n",
              "         10.76923077, 10.        ,  9.30769231,  9.92307692, 10.23076923,\n",
              "          4.15384615,  3.61538462,  3.38461538,  3.46153846,  3.15384615,\n",
              "          3.07692308,  8.15384615,  6.92307692,  3.53846154,  2.84615385,\n",
              "          2.69230769,  2.46153846,  2.30769231,  3.23076923, 10.        ,\n",
              "          3.69230769,  2.92307692,  2.07692308,  1.84615385,  1.61538462,\n",
              "          1.61538462,  5.53846154,  7.07692308,  2.07692308,  2.15384615,\n",
              "          1.07692308,  0.84615385,  0.76923077,  0.84615385,  7.84615385,\n",
              "          2.07692308,  1.07692308,  1.38461538,  0.15384615, -0.07692308,\n",
              "         -0.15384615,  2.76923077,  5.69230769, -0.30769231,  0.        ,\n",
              "          0.61538462, -0.69230769, -0.92307692, -1.07692308,  5.30769231,\n",
              "          0.76923077, -1.15384615, -0.84615385, -0.15384615]]),\n",
              " array([[ 5.07692308,  4.84615385,  4.76923077,  6.53846154,  9.76923077,\n",
              "          7.23076923,  4.84615385,  5.15384615,  4.53846154,  4.30769231,\n",
              "          4.46153846,  8.92307692,  4.69230769,  6.15384615,  4.23076923,\n",
              "          4.53846154,  3.92307692,  3.61538462,  4.15384615,  5.61538462,\n",
              "          3.30769231,  5.69230769,  3.61538462,  3.92307692,  3.15384615,\n",
              "          2.84615385,  2.61538462,  5.07692308,  5.07692308,  4.38461538,\n",
              "          2.84615385,  3.15384615,  2.15384615,  1.84615385,  1.69230769,\n",
              "          3.92307692,  6.15384615,  1.84615385,  1.84615385,  2.15384615,\n",
              "          1.23076923,  1.07692308,  3.15384615,  3.76923077,  0.76923077,\n",
              "          2.69230769,  1.07692308,  1.23076923,  0.46153846,  0.15384615,\n",
              "          3.38461538, -0.07692308,  1.        ,  3.23076923,  0.23076923,\n",
              "          0.46153846, -0.23076923, -0.61538462,  1.53846154,  4.        ,\n",
              "          3.61538462, -0.46153846, -0.46153846, -0.23076923]]),\n",
              " array([[ 4.84615385,  4.53846154,  4.38461538,  4.38461538,  4.53846154,\n",
              "          4.38461538,  4.46153846,  4.76923077,  4.61538462,  4.38461538,\n",
              "          4.23076923,  5.69230769,  7.30769231,  4.23076923,  4.53846154,\n",
              "          4.76923077,  3.76923077,  3.53846154,  4.46153846,  4.38461538,\n",
              "          7.15384615,  3.53846154,  3.84615385,  4.23076923,  2.84615385,\n",
              "          2.61538462,  3.38461538,  4.84615385,  8.53846154,  2.69230769,\n",
              "          3.07692308,  3.46153846,  1.76923077,  1.61538462,  1.46153846,\n",
              "          2.69230769,  6.23076923,  1.69230769,  2.        ,  2.53846154,\n",
              "          0.92307692,  0.76923077,  0.69230769,  0.53846154,  4.38461538,\n",
              "          1.        ,  1.23076923,  1.69230769,  0.23076923,  0.07692308,\n",
              "          0.38461538,  3.30769231,  3.15384615,  0.46153846,  0.69230769,\n",
              "          1.07692308, -0.30769231, -0.46153846, -0.46153846, -0.38461538,\n",
              "         -0.30769231,  0.        ,  0.38461538,  0.76923077]]),\n",
              " array([[ 4.61538462,  4.38461538,  4.38461538,  7.15384615,  7.76923077,\n",
              "          4.38461538,  4.30769231,  4.53846154,  4.30769231,  4.07692308,\n",
              "          5.23076923,  7.53846154,  5.        ,  6.76923077,  3.84615385,\n",
              "          4.15384615,  3.69230769,  3.38461538,  3.30769231,  3.23076923,\n",
              "          4.15384615,  7.38461538,  3.07692308,  3.46153846,  3.        ,\n",
              "          2.76923077,  2.53846154,  5.38461538, 10.        ,  4.23076923,\n",
              "          2.53846154,  2.76923077,  2.23076923,  1.92307692,  1.69230769,\n",
              "          2.92307692,  4.38461538,  6.07692308,  1.84615385,  2.15384615,\n",
              "          1.30769231,  1.07692308,  0.84615385,  0.92307692,  4.15384615,\n",
              "          4.38461538,  1.23076923,  1.46153846,  0.46153846,  0.15384615,\n",
              "          0.61538462,  5.53846154,  2.84615385,  0.23076923,  0.46153846,\n",
              "          0.69230769, -0.38461538, -0.61538462, -0.76923077, -0.76923077,\n",
              "         -0.76923077, -0.61538462, -0.30769231, -0.07692308]]),\n",
              " array([[ 4.53846154,  4.30769231,  4.15384615,  4.15384615,  7.38461538,\n",
              "          4.61538462,  4.61538462,  5.15384615,  4.07692308,  3.84615385,\n",
              "          3.61538462,  7.53846154,  6.84615385,  3.84615385,  4.        ,\n",
              "          4.53846154,  3.46153846,  3.23076923,  4.69230769,  7.30769231,\n",
              "          2.92307692,  2.92307692,  3.23076923,  3.76923077,  2.61538462,\n",
              "          2.38461538,  7.        ,  3.23076923,  2.84615385,  2.07692308,\n",
              "          2.23076923,  2.69230769,  1.76923077,  1.61538462,  8.07692308,\n",
              "          6.76923077,  5.92307692,  5.        ,  1.53846154,  1.76923077,\n",
              "          1.07692308,  0.84615385,  4.76923077,  0.46153846,  0.38461538,\n",
              "          2.53846154,  1.07692308,  1.15384615,  0.30769231,  0.        ,\n",
              "          2.84615385, -0.30769231,  0.23076923,  4.69230769,  0.15384615,\n",
              "          0.46153846, -0.30769231, -0.61538462, -0.23076923,  3.46153846,\n",
              "          5.        ,  1.23076923, -0.38461538,  0.        ]]),\n",
              " array([[ 4.84615385,  4.61538462,  4.46153846,  4.30769231,  5.15384615,\n",
              "          5.61538462,  4.84615385,  5.23076923,  4.38461538,  4.15384615,\n",
              "          4.07692308,  5.38461538, 10.53846154,  7.53846154,  4.30769231,\n",
              "          4.69230769,  3.61538462,  3.46153846,  4.69230769, 10.07692308,\n",
              "          7.23076923,  6.69230769,  3.38461538,  3.92307692,  3.        ,\n",
              "          2.69230769,  6.07692308,  4.46153846,  6.23076923,  5.46153846,\n",
              "          2.61538462,  3.07692308,  2.07692308,  1.76923077,  1.61538462,\n",
              "          1.61538462,  6.84615385,  3.38461538,  1.69230769,  2.07692308,\n",
              "          1.23076923,  1.        ,  0.76923077,  0.84615385,  7.23076923,\n",
              "          1.23076923,  1.        ,  1.38461538,  0.53846154,  0.30769231,\n",
              "          0.15384615,  0.15384615,  6.84615385,  0.38461538,  0.53846154,\n",
              "          1.        , -0.15384615, -0.38461538, -0.38461538, -0.30769231,\n",
              "          1.15384615, -0.07692308,  0.23076923,  0.61538462]]),\n",
              " array([[ 4.23076923,  4.07692308,  4.        ,  7.15384615,  6.07692308,\n",
              "          4.        ,  4.30769231,  4.61538462,  3.84615385,  3.69230769,\n",
              "          4.69230769,  9.92307692,  3.84615385,  3.61538462,  3.84615385,\n",
              "          4.15384615,  3.23076923,  3.        ,  8.38461538,  5.92307692,\n",
              "          7.23076923,  3.07692308,  3.23076923,  3.53846154,  2.46153846,\n",
              "          3.38461538, 10.15384615,  9.69230769, 10.46153846,  6.38461538,\n",
              "          2.46153846,  2.76923077,  1.69230769,  1.61538462,  2.23076923,\n",
              "          2.38461538,  9.        ,  2.61538462,  1.53846154,  1.92307692,\n",
              "          0.92307692,  0.76923077,  0.53846154,  0.92307692,  7.30769231,\n",
              "          0.53846154,  0.76923077,  1.07692308,  0.07692308, -0.23076923,\n",
              "         -0.38461538,  0.76923077,  5.69230769, -0.38461538, -0.15384615,\n",
              "          0.23076923, -0.69230769, -1.        , -1.15384615, -1.        ,\n",
              "         -0.30769231, -1.07692308, -0.76923077, -0.38461538]]),\n",
              " array([[ 4.61538462,  4.38461538,  4.23076923,  5.92307692,  5.07692308,\n",
              "          4.07692308,  4.23076923,  4.61538462,  4.15384615,  3.84615385,\n",
              "          6.15384615, 10.92307692,  8.61538462,  5.69230769,  3.61538462,\n",
              "          3.92307692,  3.69230769,  3.46153846,  9.84615385,  5.61538462,\n",
              "          3.        ,  6.69230769,  3.07692308,  3.30769231,  3.        ,\n",
              "          3.69230769,  9.15384615,  2.30769231,  2.15384615,  6.07692308,\n",
              "          2.46153846,  2.46153846,  2.        ,  3.46153846,  7.23076923,\n",
              "          1.38461538,  1.30769231,  5.46153846,  1.84615385,  1.61538462,\n",
              "          1.15384615,  1.76923077,  6.38461538,  0.53846154,  0.84615385,\n",
              "          6.23076923,  0.61538462,  0.84615385,  0.15384615, -0.07692308,\n",
              "          3.84615385,  4.15384615,  6.38461538,  2.15384615, -0.30769231,\n",
              "          0.        , -0.61538462, -0.92307692, -1.07692308,  1.        ,\n",
              "         -0.30769231, -1.15384615, -0.07692308,  0.07692308]]),\n",
              " array([[ 4.76923077,  4.53846154,  4.38461538,  4.46153846,  4.46153846,\n",
              "          4.53846154,  4.92307692,  5.30769231,  4.23076923,  4.        ,\n",
              "          3.84615385,  4.        ,  8.15384615,  4.84615385,  4.38461538,\n",
              "          4.76923077,  3.61538462,  3.38461538,  3.30769231,  5.92307692,\n",
              "          6.23076923,  7.84615385,  3.76923077,  4.23076923,  2.92307692,\n",
              "          2.69230769,  2.76923077,  7.07692308,  5.53846154,  7.38461538,\n",
              "          3.        ,  3.53846154,  2.        ,  1.76923077,  1.69230769,\n",
              "          5.07692308,  7.07692308,  5.76923077,  2.07692308,  2.61538462,\n",
              "          1.23076923,  1.        ,  0.84615385,  0.84615385,  3.38461538,\n",
              "          3.07692308,  1.23076923,  1.69230769,  0.38461538,  0.15384615,\n",
              "          0.        ,  2.92307692,  4.69230769,  0.30769231,  0.30769231,\n",
              "          0.84615385, -0.30769231, -0.53846154, -0.69230769, -0.53846154,\n",
              "         -0.61538462, -0.61538462, -0.30769231,  0.15384615]]),\n",
              " array([[ 5.61538462,  5.23076923,  5.07692308,  6.38461538, 11.        ,\n",
              "          5.        ,  5.15384615,  5.38461538,  5.07692308,  4.69230769,\n",
              "          4.53846154,  9.61538462, 10.69230769,  4.53846154,  4.61538462,\n",
              "          4.92307692,  4.23076923,  3.84615385,  5.07692308,  8.92307692,\n",
              "          9.15384615,  3.76923077,  3.92307692,  4.15384615,  3.46153846,\n",
              "          3.15384615,  2.84615385,  3.07692308,  8.61538462,  2.92307692,\n",
              "          3.07692308,  3.46153846,  2.46153846,  2.15384615,  1.84615385,\n",
              "          1.76923077,  7.84615385,  1.92307692,  2.15384615,  2.46153846,\n",
              "          1.38461538,  1.07692308,  0.92307692,  0.84615385,  7.07692308,\n",
              "          1.07692308,  1.30769231,  1.53846154,  0.61538462,  0.30769231,\n",
              "          0.15384615,  0.07692308,  6.46153846,  0.23076923,  0.53846154,\n",
              "          0.84615385, -0.07692308, -0.30769231, -0.53846154, -0.53846154,\n",
              "          1.53846154, -0.46153846, -0.07692308,  0.23076923]])]"
            ]
          },
          "metadata": {
            "tags": []
          },
          "execution_count": 25
        }
      ]
    },
    {
      "cell_type": "markdown",
      "metadata": {
        "id": "FmIm8v5UcBKr"
      },
      "source": [
        "**Predict:**"
      ]
    },
    {
      "cell_type": "code",
      "metadata": {
        "id": "Lk3aXXNjjqE5"
      },
      "source": [
        "predicted_test=[]"
      ],
      "execution_count": null,
      "outputs": []
    },
    {
      "cell_type": "code",
      "metadata": {
        "id": "0MtVw9HjjsYC"
      },
      "source": [
        "for i in X_test_temp:\n",
        "  temp = clf.predict(i)\n",
        "  predicted_test.append(temp)"
      ],
      "execution_count": null,
      "outputs": []
    },
    {
      "cell_type": "code",
      "metadata": {
        "colab": {
          "base_uri": "https://localhost:8080/",
          "height": 153
        },
        "id": "9SRc5w5Gj0tz",
        "outputId": "64c1fa91-15de-4dbd-f33a-90b301948820"
      },
      "source": [
        "_, axes = plt.subplots(nrows=1, ncols=13, figsize=(30, 3))\n",
        "for ax, image, prediction,k in zip(axes, X_test_temp, predicted_test,labelx):\n",
        "    ax.set_axis_off()\n",
        "    image = image.reshape(8, 8)\n",
        "    ax.imshow(image, cmap=plt.cm.gray_r, interpolation='nearest')\n",
        "    ax.set_title(f'Real value:{k}\\nPredicted value: {prediction}')"
      ],
      "execution_count": null,
      "outputs": [
        {
          "output_type": "display_data",
          "data": {
            "image/png": "[encoded data removed]",
            "text/plain": [
              "<Figure size 2160x216 with 13 Axes>"
            ]
          },
          "metadata": {
            "tags": [],
            "needs_background": "light"
          }
        }
      ]
    },
    {
      "cell_type": "markdown",
      "metadata": {
        "id": "DOV_o6m6kHF6"
      },
      "source": [
        "WOW, kết quả lần này có vẻ khả quan hơn 1 tí nhưng vẫn KHÔNG TỐT. Đúng 2/13,nhưng ảnh đầu vào cũng hiển thị đúng như những gì chúng ta mong đợi!"
      ]
    },
    {
      "cell_type": "markdown",
      "metadata": {
        "id": "FT9biet9qLHD"
      },
      "source": [
        "# Trả lời câu hỏi"
      ]
    },
    {
      "cell_type": "markdown",
      "metadata": {
        "id": "nfeeLuDcqa53"
      },
      "source": [
        "## Kết quả chạy thực tế với webcam của laptop và giấy viết tay của các bạn có tốt không?"
      ]
    },
    {
      "cell_type": "markdown",
      "metadata": {
        "id": "wB24CDfrqfIs"
      },
      "source": [
        "Như đã thấy, kết quả chạy thực tế với webcam của laptop là rất tệ mặc dù đã xử lí trước dữ liệu cho phù hợp! Khác xa với dữ liệu của scikit-learn cung cấp. \n",
        "\n",
        "**Kết luận**: Đầu vào là ảnh chụp từ camera laptop **không đạt kết quả cao**."
      ]
    },
    {
      "cell_type": "markdown",
      "metadata": {
        "id": "1N2pK8yVq7rJ"
      },
      "source": [
        "## Ủa mà nhìn vào đâu để kết luận là tốt hay không?"
      ]
    },
    {
      "cell_type": "markdown",
      "metadata": {
        "id": "-RbWI-GtrBlg"
      },
      "source": [
        "Nhìn vào  **Predicted value,Real value**  (đã được nhóm tự gán để thử nghiệm) và so sánh 2 giá trị này. Có thể thấy tỷ lệ chính xác là rất thấp.\n",
        "\n",
        "Kết quả thực nghiệm:\n",
        "![Capture.PNG](data:image/png;base64,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)\n"
      ]
    },
    {
      "cell_type": "markdown",
      "metadata": {
        "id": "QMT6k_ONsi7R"
      },
      "source": [
        "## Nếu không tốt thì lý do tại sao?"
      ]
    },
    {
      "cell_type": "markdown",
      "metadata": {
        "id": "GnYjaHnWtEG6"
      },
      "source": [
        "Có rất nhiều lý do ảnh hưởng đến kết quả:\n",
        "\n",
        "\n",
        "1.   Dữ liệu: là tương đối ít (chỉ có 1797 ma trận 8x8) ==> có lẽ không đủ cho 1 mô hình có thể train để đánh giá tốt các dạng dữ liệu đa dạng đến từ nguồn khác(camera laptop, ảnh cắt xén bất kì ...).\n",
        "2.   Ảnh đầu vào: Do ánh sáng, độ ẩm , góc nghiêng, kích cỡ... Rất nhiều yếu tố ảnh hưởng đến chất lượng ảnh đầu vào ==> Ma trận đầu vào sẽ khác xa nhiều so với dữ liệu đến từ scikit-learn cung cấp dùng để **Train**. Nên tất nhiên độ chính xác sẽ không được cao như mong đợi.\n",
        "3.   Laptop: độ phân giải của webcam laptop là không đủ cao. Nên khi ta resize ảnh về 8x8(1 kích thước nhỏ hơn rất nhiều so với ảnh từ webcam) sẽ ít nhiều làm mất đi chi tiết của ảnh, hơn nữa còn có 1 số bước tiền xử lí ảnh khác. Dẫn đến model dự đoán không tốt con số chính xác được hiển thị trên bức ảnh.\n",
        "\n",
        "\n",
        "\n"
      ]
    },
    {
      "cell_type": "markdown",
      "metadata": {
        "id": "qER8UM3QufVh"
      },
      "source": [
        "## Nếu tốt thì tiếp theo có thể dùng model digits recognition này vào các bài toán phức tạp hơn như nhận dạng biển số nhà không?"
      ]
    },
    {
      "cell_type": "markdown",
      "metadata": {
        "id": "0zGfBmcAulMv"
      },
      "source": [
        "Như nhóm đã kết luận ở trên ! Thì kết quả chạy với đầu vào là ảnh từ webcam laptop là KHÔNG TỐT. Nên tất nhiên đối với bài toán nhận diện số nhà (ảnh đầu vào không chỉ có số mà còn nhiều thành phần khác(chữ, cổng nhà, vật thể lạ...) và số cần dự đoán không còn là đối tượng chính của bức ảnh ,hơn nữa nhiều yếu tố ảnh hưởng khác hơn cả ảnh được chụp từ webcam laptop ) là rất khó để nhận diện.\n",
        "\n",
        "**Kết luận:** Không thể áp dụng model này để ứng dụng vào bài toán phức tạp hơn như nhận diện biển số nhà được!"
      ]
    }
  ]
}