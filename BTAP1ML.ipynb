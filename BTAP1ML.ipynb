{
  "nbformat": 4,
  "nbformat_minor": 0,
  "metadata": {
    "colab": {
      "name": "BTAP1ML.ipynb",
      "provenance": [],
      "collapsed_sections": [],
      "toc_visible": true,
      "authorship_tag": "ABX9TyMaLMub29CXOupxK6HT6QVX",
      "include_colab_link": true
    },
    "kernelspec": {
      "name": "python3",
      "display_name": "Python 3"
    },
    "language_info": {
      "name": "python"
    },
    "accelerator": "GPU"
  },
  "cells": [
    {
      "cell_type": "markdown",
      "metadata": {
        "id": "view-in-github",
        "colab_type": "text"
      },
      "source": [
        "<a href=\"https://colab.research.google.com/github/taolaobd/CS114.L22.KHCL/blob/main/BTAP1ML.ipynb\" target=\"_parent\"><img src=\"https://colab.research.google.com/assets/colab-badge.svg\" alt=\"Open In Colab\"/></a>"
      ]
    },
    {
      "cell_type": "markdown",
      "metadata": {
        "id": "DPqCkDODUnv_"
      },
      "source": [
        "# Recognizing hand-written digits"
      ]
    },
    {
      "cell_type": "markdown",
      "metadata": {
        "id": "imUAjtr2U1fu"
      },
      "source": [
        "Bài toán nhận diện chữ số viết tay từ (0-9) thông qua thư viện **scikit-learn**."
      ]
    },
    {
      "cell_type": "markdown",
      "metadata": {
        "id": "PFOGKmtaVGz_"
      },
      "source": [
        "Import các thư viện cần thiết."
      ]
    },
    {
      "cell_type": "code",
      "metadata": {
        "colab": {
          "base_uri": "https://localhost:8080/"
        },
        "id": "BpemnvmrVL2x",
        "outputId": "bc1bfa66-5f85-4050-dba7-9d356e725979"
      },
      "source": [
        "print(__doc__)\n",
        "\n",
        "# Author: Gael Varoquaux <gael dot varoquaux at normalesup dot org>\n",
        "# License: BSD 3 clause\n",
        "\n",
        "# Standard scientific Python imports\n",
        "import matplotlib.pyplot as plt\n",
        "\n",
        "# Import datasets, classifiers and performance metrics\n",
        "from sklearn import datasets, svm, metrics\n",
        "from sklearn.model_selection import train_test_split"
      ],
      "execution_count": 2,
      "outputs": [
        {
          "output_type": "stream",
          "text": [
            "Automatically created module for IPython interactive environment\n"
          ],
          "name": "stdout"
        }
      ]
    },
    {
      "cell_type": "markdown",
      "metadata": {
        "id": "osyz-N-BVYX0"
      },
      "source": [
        "## Digits dataset"
      ]
    },
    {
      "cell_type": "code",
      "metadata": {
        "colab": {
          "base_uri": "https://localhost:8080/"
        },
        "id": "dZa1imB1Wh5l",
        "outputId": "20b42936-8e95-4f35-feb3-a99320fe1ed8"
      },
      "source": [
        "datasets.load_digits()"
      ],
      "execution_count": 3,
      "outputs": [
        {
          "output_type": "execute_result",
          "data": {
            "text/plain": [
              "{'DESCR': \".. _digits_dataset:\\n\\nOptical recognition of handwritten digits dataset\\n--------------------------------------------------\\n\\n**Data Set Characteristics:**\\n\\n    :Number of Instances: 5620\\n    :Number of Attributes: 64\\n    :Attribute Information: 8x8 image of integer pixels in the range 0..16.\\n    :Missing Attribute Values: None\\n    :Creator: E. Alpaydin (alpaydin '@' boun.edu.tr)\\n    :Date: July; 1998\\n\\nThis is a copy of the test set of the UCI ML hand-written digits datasets\\nhttps://archive.ics.uci.edu/ml/datasets/Optical+Recognition+of+Handwritten+Digits\\n\\nThe data set contains images of hand-written digits: 10 classes where\\neach class refers to a digit.\\n\\nPreprocessing programs made available by NIST were used to extract\\nnormalized bitmaps of handwritten digits from a preprinted form. From a\\ntotal of 43 people, 30 contributed to the training set and different 13\\nto the test set. 32x32 bitmaps are divided into nonoverlapping blocks of\\n4x4 and the number of on pixels are counted in each block. This generates\\nan input matrix of 8x8 where each element is an integer in the range\\n0..16. This reduces dimensionality and gives invariance to small\\ndistortions.\\n\\nFor info on NIST preprocessing routines, see M. D. Garris, J. L. Blue, G.\\nT. Candela, D. L. Dimmick, J. Geist, P. J. Grother, S. A. Janet, and C.\\nL. Wilson, NIST Form-Based Handprint Recognition System, NISTIR 5469,\\n1994.\\n\\n.. topic:: References\\n\\n  - C. Kaynak (1995) Methods of Combining Multiple Classifiers and Their\\n    Applications to Handwritten Digit Recognition, MSc Thesis, Institute of\\n    Graduate Studies in Science and Engineering, Bogazici University.\\n  - E. Alpaydin, C. Kaynak (1998) Cascading Classifiers, Kybernetika.\\n  - Ken Tang and Ponnuthurai N. Suganthan and Xi Yao and A. Kai Qin.\\n    Linear dimensionalityreduction using relevance weighted LDA. School of\\n    Electrical and Electronic Engineering Nanyang Technological University.\\n    2005.\\n  - Claudio Gentile. A New Approximate Maximal Margin Classification\\n    Algorithm. NIPS. 2000.\",\n",
              " 'data': array([[ 0.,  0.,  5., ...,  0.,  0.,  0.],\n",
              "        [ 0.,  0.,  0., ..., 10.,  0.,  0.],\n",
              "        [ 0.,  0.,  0., ..., 16.,  9.,  0.],\n",
              "        ...,\n",
              "        [ 0.,  0.,  1., ...,  6.,  0.,  0.],\n",
              "        [ 0.,  0.,  2., ..., 12.,  0.,  0.],\n",
              "        [ 0.,  0., 10., ..., 12.,  1.,  0.]]),\n",
              " 'images': array([[[ 0.,  0.,  5., ...,  1.,  0.,  0.],\n",
              "         [ 0.,  0., 13., ..., 15.,  5.,  0.],\n",
              "         [ 0.,  3., 15., ..., 11.,  8.,  0.],\n",
              "         ...,\n",
              "         [ 0.,  4., 11., ..., 12.,  7.,  0.],\n",
              "         [ 0.,  2., 14., ..., 12.,  0.,  0.],\n",
              "         [ 0.,  0.,  6., ...,  0.,  0.,  0.]],\n",
              " \n",
              "        [[ 0.,  0.,  0., ...,  5.,  0.,  0.],\n",
              "         [ 0.,  0.,  0., ...,  9.,  0.,  0.],\n",
              "         [ 0.,  0.,  3., ...,  6.,  0.,  0.],\n",
              "         ...,\n",
              "         [ 0.,  0.,  1., ...,  6.,  0.,  0.],\n",
              "         [ 0.,  0.,  1., ...,  6.,  0.,  0.],\n",
              "         [ 0.,  0.,  0., ..., 10.,  0.,  0.]],\n",
              " \n",
              "        [[ 0.,  0.,  0., ..., 12.,  0.,  0.],\n",
              "         [ 0.,  0.,  3., ..., 14.,  0.,  0.],\n",
              "         [ 0.,  0.,  8., ..., 16.,  0.,  0.],\n",
              "         ...,\n",
              "         [ 0.,  9., 16., ...,  0.,  0.,  0.],\n",
              "         [ 0.,  3., 13., ..., 11.,  5.,  0.],\n",
              "         [ 0.,  0.,  0., ..., 16.,  9.,  0.]],\n",
              " \n",
              "        ...,\n",
              " \n",
              "        [[ 0.,  0.,  1., ...,  1.,  0.,  0.],\n",
              "         [ 0.,  0., 13., ...,  2.,  1.,  0.],\n",
              "         [ 0.,  0., 16., ..., 16.,  5.,  0.],\n",
              "         ...,\n",
              "         [ 0.,  0., 16., ..., 15.,  0.,  0.],\n",
              "         [ 0.,  0., 15., ..., 16.,  0.,  0.],\n",
              "         [ 0.,  0.,  2., ...,  6.,  0.,  0.]],\n",
              " \n",
              "        [[ 0.,  0.,  2., ...,  0.,  0.,  0.],\n",
              "         [ 0.,  0., 14., ..., 15.,  1.,  0.],\n",
              "         [ 0.,  4., 16., ..., 16.,  7.,  0.],\n",
              "         ...,\n",
              "         [ 0.,  0.,  0., ..., 16.,  2.,  0.],\n",
              "         [ 0.,  0.,  4., ..., 16.,  2.,  0.],\n",
              "         [ 0.,  0.,  5., ..., 12.,  0.,  0.]],\n",
              " \n",
              "        [[ 0.,  0., 10., ...,  1.,  0.,  0.],\n",
              "         [ 0.,  2., 16., ...,  1.,  0.,  0.],\n",
              "         [ 0.,  0., 15., ..., 15.,  0.,  0.],\n",
              "         ...,\n",
              "         [ 0.,  4., 16., ..., 16.,  6.,  0.],\n",
              "         [ 0.,  8., 16., ..., 16.,  8.,  0.],\n",
              "         [ 0.,  1.,  8., ..., 12.,  1.,  0.]]]),\n",
              " 'target': array([0, 1, 2, ..., 8, 9, 8]),\n",
              " 'target_names': array([0, 1, 2, 3, 4, 5, 6, 7, 8, 9])}"
            ]
          },
          "metadata": {
            "tags": []
          },
          "execution_count": 3
        }
      ]
    },
    {
      "cell_type": "markdown",
      "metadata": {
        "id": "hTubU2F7Vgyk"
      },
      "source": [
        "Load dữ liệu từ datasets. Trong đó:\n",
        "\n",
        "\n",
        "\n",
        "\n",
        "*   **images** gồm các ma trận có kích thước 8x8 có giá trị mức xám cho mỗi ảnh.\n",
        "*   **target** chính là các giá trị đúng mà mỗi bức ảnh đại diện cho.\n",
        "*   **target_names** là mảng các giá trị từ 0-9 sẽ được gán tương ứng với mỗi bức ảnh.\n",
        "\n",
        "Dưới đây là 4 ví dụ:\n",
        "\n",
        "\n",
        "\n"
      ]
    },
    {
      "cell_type": "code",
      "metadata": {
        "colab": {
          "base_uri": "https://localhost:8080/",
          "height": 168
        },
        "id": "9u5fh54GVcWj",
        "outputId": "1ed75b42-b8be-47fa-906a-7259056a3f40"
      },
      "source": [
        "\n",
        "digits = datasets.load_digits()\n",
        "_, axes = plt.subplots(nrows=1, ncols=4, figsize=(10, 3))\n",
        "for ax, image, label in zip(axes, digits.images, digits.target):\n",
        "    ax.set_axis_off()\n",
        "    ax.imshow(image, cmap=plt.cm.gray_r, interpolation='nearest')\n",
        "    ax.set_title('Training: %i' % label)"
      ],
      "execution_count": 4,
      "outputs": [
        {
          "output_type": "display_data",
          "data": {
            "image/png": "[encoded data removed]",
            "text/plain": [
              "<Figure size 720x216 with 4 Axes>"
            ]
          },
          "metadata": {
            "tags": [],
            "needs_background": "light"
          }
        }
      ]
    },
    {
      "cell_type": "markdown",
      "metadata": {
        "id": "z6m1A_TCTRd3"
      },
      "source": [
        "Xem thử 4 ma trận ảnh đầu tiên có dạng và vùng giá trị như thế nào ?"
      ]
    },
    {
      "cell_type": "code",
      "metadata": {
        "colab": {
          "base_uri": "https://localhost:8080/"
        },
        "id": "dzmgM_uBTX23",
        "outputId": "b74cd3bb-9413-4877-bfbf-0e39c5ff79c5"
      },
      "source": [
        "for i in range(4):\n",
        "  print(digits.images[i])"
      ],
      "execution_count": 5,
      "outputs": [
        {
          "output_type": "stream",
          "text": [
            "[[ 0.  0.  5. 13.  9.  1.  0.  0.]\n",
            " [ 0.  0. 13. 15. 10. 15.  5.  0.]\n",
            " [ 0.  3. 15.  2.  0. 11.  8.  0.]\n",
            " [ 0.  4. 12.  0.  0.  8.  8.  0.]\n",
            " [ 0.  5.  8.  0.  0.  9.  8.  0.]\n",
            " [ 0.  4. 11.  0.  1. 12.  7.  0.]\n",
            " [ 0.  2. 14.  5. 10. 12.  0.  0.]\n",
            " [ 0.  0.  6. 13. 10.  0.  0.  0.]]\n",
            "[[ 0.  0.  0. 12. 13.  5.  0.  0.]\n",
            " [ 0.  0.  0. 11. 16.  9.  0.  0.]\n",
            " [ 0.  0.  3. 15. 16.  6.  0.  0.]\n",
            " [ 0.  7. 15. 16. 16.  2.  0.  0.]\n",
            " [ 0.  0.  1. 16. 16.  3.  0.  0.]\n",
            " [ 0.  0.  1. 16. 16.  6.  0.  0.]\n",
            " [ 0.  0.  1. 16. 16.  6.  0.  0.]\n",
            " [ 0.  0.  0. 11. 16. 10.  0.  0.]]\n",
            "[[ 0.  0.  0.  4. 15. 12.  0.  0.]\n",
            " [ 0.  0.  3. 16. 15. 14.  0.  0.]\n",
            " [ 0.  0.  8. 13.  8. 16.  0.  0.]\n",
            " [ 0.  0.  1.  6. 15. 11.  0.  0.]\n",
            " [ 0.  1.  8. 13. 15.  1.  0.  0.]\n",
            " [ 0.  9. 16. 16.  5.  0.  0.  0.]\n",
            " [ 0.  3. 13. 16. 16. 11.  5.  0.]\n",
            " [ 0.  0.  0.  3. 11. 16.  9.  0.]]\n",
            "[[ 0.  0.  7. 15. 13.  1.  0.  0.]\n",
            " [ 0.  8. 13.  6. 15.  4.  0.  0.]\n",
            " [ 0.  2.  1. 13. 13.  0.  0.  0.]\n",
            " [ 0.  0.  2. 15. 11.  1.  0.  0.]\n",
            " [ 0.  0.  0.  1. 12. 12.  1.  0.]\n",
            " [ 0.  0.  0.  0.  1. 10.  8.  0.]\n",
            " [ 0.  0.  8.  4.  5. 14.  9.  0.]\n",
            " [ 0.  0.  7. 13. 13.  9.  0.  0.]]\n"
          ],
          "name": "stdout"
        }
      ]
    },
    {
      "cell_type": "markdown",
      "metadata": {
        "id": "LGUvJmP2TigV"
      },
      "source": [
        "**Nhận xét**: Ma trận 8x8 và các giá trị của ma trận chủ yếu từ 0->16. \n"
      ]
    },
    {
      "cell_type": "markdown",
      "metadata": {
        "id": "RXcck4g4lfca"
      },
      "source": [
        "Nhận xét về bộ dữ liệu:"
      ]
    },
    {
      "cell_type": "code",
      "metadata": {
        "colab": {
          "base_uri": "https://localhost:8080/"
        },
        "id": "Mk3cX__wlnYG",
        "outputId": "4cf5065c-7690-48ce-a51b-7447a32cbf72"
      },
      "source": [
        "digits.images.shape"
      ],
      "execution_count": 6,
      "outputs": [
        {
          "output_type": "execute_result",
          "data": {
            "text/plain": [
              "(1797, 8, 8)"
            ]
          },
          "metadata": {
            "tags": []
          },
          "execution_count": 6
        }
      ]
    },
    {
      "cell_type": "markdown",
      "metadata": {
        "id": "x3EK_NMZlsl3"
      },
      "source": [
        "Bộ dữ liệu chúng ta có đúng 1797 ma trận 8x8 với mức giá trị xám. Bộ dữ liệu được cấp này là khá ít để 1 model có thể đạt được độ chính xác cao."
      ]
    },
    {
      "cell_type": "markdown",
      "metadata": {
        "id": "uLFRqUnSYCtL"
      },
      "source": [
        "## Classification"
      ]
    },
    {
      "cell_type": "markdown",
      "metadata": {
        "id": "BT2CVcHjYUvl"
      },
      "source": [
        "Để áp dụng mô hình phân lớp trên dữ liệu này, chúng ta cần phải flatten (dàn hoặc trải ) bức ảnh, chuyển từ mảng 2 chiều có giá trị mức xám có kích thước (8,8) trở thành 1 vector (64,).\n",
        "\n",
        "Chúng ta chia bộ dữ liệu thành 2 phần con:\n",
        "\n",
        "\n",
        "*   Train subset 50% (Sử dụng phương pháp SVM có tham số gamma=0.001)\n",
        "*   Test subset 50%\n",
        "\n"
      ]
    },
    {
      "cell_type": "code",
      "metadata": {
        "id": "rJ_ok8VzYFZU"
      },
      "source": [
        "# flatten the images\n",
        "n_samples = len(digits.images)\n",
        "data = digits.images.reshape((n_samples, -1))\n",
        "\n",
        "# Create a classifier: a support vector classifier\n",
        "clf = svm.SVC(gamma=0.001)\n",
        "\n",
        "# Split data into 50% train and 50% test subsets\n",
        "X_train, X_test, y_train, y_test = train_test_split(\n",
        "    data, digits.target, test_size=0.5, shuffle=False)\n",
        "\n",
        "# Learn the digits on the train subset\n",
        "clf.fit(X_train, y_train)\n",
        "\n",
        "# Predict the value of the digit on the test subset\n",
        "predicted = clf.predict(X_test)"
      ],
      "execution_count": 7,
      "outputs": []
    },
    {
      "cell_type": "markdown",
      "metadata": {
        "id": "Vl8uuy1uZ6h-"
      },
      "source": [
        "Dưới đây là kết quả của 4 ví dụ đầu tiên:"
      ]
    },
    {
      "cell_type": "code",
      "metadata": {
        "colab": {
          "base_uri": "https://localhost:8080/",
          "height": 168
        },
        "id": "ASeUwtJ3YJzu",
        "outputId": "a910a692-825f-47e7-b493-b60998c585b5"
      },
      "source": [
        "_, axes = plt.subplots(nrows=1, ncols=4, figsize=(10, 3))\n",
        "for ax, image, prediction in zip(axes, X_test, predicted):\n",
        "    ax.set_axis_off()\n",
        "    image = image.reshape(8, 8)\n",
        "    ax.imshow(image, cmap=plt.cm.gray_r, interpolation='nearest')\n",
        "    ax.set_title(f'Prediction: {prediction}')"
      ],
      "execution_count": 8,
      "outputs": [
        {
          "output_type": "display_data",
          "data": {
            "image/png": "[encoded data removed]",
            "text/plain": [
              "<Figure size 720x216 with 4 Axes>"
            ]
          },
          "metadata": {
            "tags": [],
            "needs_background": "light"
          }
        }
      ]
    },
    {
      "cell_type": "code",
      "metadata": {
        "colab": {
          "base_uri": "https://localhost:8080/"
        },
        "id": "9BLo1JM1aT6g",
        "outputId": "b5015a13-3730-43d9-febd-1cec16c22a25"
      },
      "source": [
        "print(f\"Classification report for classifier {clf}:\\n\"\n",
        "      f\"{metrics.classification_report(y_test, predicted)}\\n\")"
      ],
      "execution_count": 9,
      "outputs": [
        {
          "output_type": "stream",
          "text": [
            "Classification report for classifier SVC(C=1.0, break_ties=False, cache_size=200, class_weight=None, coef0=0.0,\n",
            "    decision_function_shape='ovr', degree=3, gamma=0.001, kernel='rbf',\n",
            "    max_iter=-1, probability=False, random_state=None, shrinking=True,\n",
            "    tol=0.001, verbose=False):\n",
            "              precision    recall  f1-score   support\n",
            "\n",
            "           0       1.00      0.99      0.99        88\n",
            "           1       0.99      0.97      0.98        91\n",
            "           2       0.99      0.99      0.99        86\n",
            "           3       0.98      0.87      0.92        91\n",
            "           4       0.99      0.96      0.97        92\n",
            "           5       0.95      0.97      0.96        91\n",
            "           6       0.99      0.99      0.99        91\n",
            "           7       0.96      0.99      0.97        89\n",
            "           8       0.94      1.00      0.97        88\n",
            "           9       0.93      0.98      0.95        92\n",
            "\n",
            "    accuracy                           0.97       899\n",
            "   macro avg       0.97      0.97      0.97       899\n",
            "weighted avg       0.97      0.97      0.97       899\n",
            "\n",
            "\n"
          ],
          "name": "stdout"
        }
      ]
    },
    {
      "cell_type": "code",
      "metadata": {
        "colab": {
          "base_uri": "https://localhost:8080/",
          "height": 495
        },
        "id": "q3FFPlnsaWC4",
        "outputId": "c1990f85-2a6b-44b1-b784-8a89bca4a5c9"
      },
      "source": [
        "disp = metrics.plot_confusion_matrix(clf, X_test, y_test)\n",
        "disp.figure_.suptitle(\"Confusion Matrix\")\n",
        "print(f\"Confusion matrix:\\n{disp.confusion_matrix}\")\n",
        "\n",
        "plt.show()"
      ],
      "execution_count": 10,
      "outputs": [
        {
          "output_type": "stream",
          "text": [
            "Confusion matrix:\n",
            "[[87  0  0  0  1  0  0  0  0  0]\n",
            " [ 0 88  1  0  0  0  0  0  1  1]\n",
            " [ 0  0 85  1  0  0  0  0  0  0]\n",
            " [ 0  0  0 79  0  3  0  4  5  0]\n",
            " [ 0  0  0  0 88  0  0  0  0  4]\n",
            " [ 0  0  0  0  0 88  1  0  0  2]\n",
            " [ 0  1  0  0  0  0 90  0  0  0]\n",
            " [ 0  0  0  0  0  1  0 88  0  0]\n",
            " [ 0  0  0  0  0  0  0  0 88  0]\n",
            " [ 0  0  0  1  0  1  0  0  0 90]]\n"
          ],
          "name": "stdout"
        },
        {
          "output_type": "display_data",
          "data": {
            "image/png": "[encoded data removed]",
            "text/plain": [
              "<Figure size 432x288 with 2 Axes>"
            ]
          },
          "metadata": {
            "tags": [],
            "needs_background": "light"
          }
        }
      ]
    },
    {
      "cell_type": "markdown",
      "metadata": {
        "id": "kILE8AY3b86P"
      },
      "source": [
        "## Test cùng camera"
      ]
    },
    {
      "cell_type": "code",
      "metadata": {
        "id": "WsP6mKQhcE4j"
      },
      "source": [
        "\"\"\"from IPython.display import display, Javascript\n",
        "from google.colab.output import eval_js\n",
        "from base64 import b64decode\n",
        "\n",
        "def take_photo(filename ,quality=0.8):\n",
        "  js = Javascript('''\n",
        "    async function takePhoto(quality) {\n",
        "      const div = document.createElement('div');\n",
        "      const capture = document.createElement('button');\n",
        "      capture.textContent = 'Capture';\n",
        "      div.appendChild(capture);\n",
        "\n",
        "      const video = document.createElement('video');\n",
        "      video.style.display = 'block';\n",
        "      const stream = await navigator.mediaDevices.getUserMedia({video: true});\n",
        "\n",
        "      document.body.appendChild(div);\n",
        "      div.appendChild(video);\n",
        "      video.srcObject = stream;\n",
        "      await video.play();\n",
        "\n",
        "      // Resize the output to fit the video element.\n",
        "      google.colab.output.setIframeHeight(document.documentElement.scrollHeight, true);\n",
        "\n",
        "      // Wait for Capture to be clicked.\n",
        "      await new Promise((resolve) => capture.onclick = resolve);\n",
        "\n",
        "      const canvas = document.createElement('canvas');\n",
        "      canvas.width = video.videoWidth;\n",
        "      canvas.height = video.videoHeight;\n",
        "      canvas.getContext('2d').drawImage(video, 0, 0);\n",
        "      stream.getVideoTracks()[0].stop();\n",
        "      div.remove();\n",
        "      return canvas.toDataURL('image/jpeg', quality);\n",
        "    }\n",
        "    ''')\n",
        "  display(js)\n",
        "  data = eval_js('takePhoto({})'.format(quality))\n",
        "  binary = b64decode(data.split(',')[1])\n",
        "  with open(filename, 'wb') as f:\n",
        "    f.write(binary)\n",
        "  return filename\"\"\""
      ],
      "execution_count": null,
      "outputs": []
    },
    {
      "cell_type": "code",
      "metadata": {
        "id": "2BP_WE_-cOfG"
      },
      "source": [
        "labelx=[2,4,5,7,8,9,3,6,1,4,0,9,1]#đáng lẽ ảnh được gán label trong khi lúc chụp nhưng vì để thuận tiện nên nhóm đã lưu lại ảnh đã chụp trước đó rồi gán label sau. Phần code ở Section \"Code cùng camera\" \n",
        "#chính là đoạn code nhóm dùng để vừa chụp vừa gán label."
      ],
      "execution_count": 11,
      "outputs": []
    },
    {
      "cell_type": "code",
      "metadata": {
        "id": "DZp4Meg0cTUW"
      },
      "source": [
        "\"\"\"from IPython.display import Image\n",
        "for i in range(9):\n",
        "  try:\n",
        "    temp='photo%s.jpg'%i\n",
        "    filename = take_photo(temp)\n",
        "    print('Saved to {}'.format(filename))\n",
        "    \n",
        "    # Show the image which was just taken.\n",
        "    display(Image(filename))\n",
        "    #labelx.append(input('Nhập label cho test này: '))\n",
        "  except Exception as err:\n",
        "    # Errors will be thrown if the user does not have a webcam or if they do not\n",
        "    # grant the page permission to access it.\n",
        "    print(str(err))\"\"\""
      ],
      "execution_count": null,
      "outputs": []
    },
    {
      "cell_type": "code",
      "metadata": {
        "id": "lS6LSJP1cYEx"
      },
      "source": [
        "import cv2"
      ],
      "execution_count": 12,
      "outputs": []
    },
    {
      "cell_type": "code",
      "metadata": {
        "id": "f6m9W-o6eZ43"
      },
      "source": [
        "X_test_temp=[]"
      ],
      "execution_count": 13,
      "outputs": []
    },
    {
      "cell_type": "markdown",
      "metadata": {
        "id": "5A2DCCaTfBO9"
      },
      "source": [
        "Đọc ảnh các ảnh vừa thu thập được (ma trận pixel). Sau đó resize nó về ma trận 8x8 rồi vectorize về (64,1) để có thể phù hợp với đầu vào của mô hình."
      ]
    },
    {
      "cell_type": "code",
      "metadata": {
        "id": "gqsP1tZncanX"
      },
      "source": [
        "for i in range(13):\n",
        "  temp='photo%s.jpg'%i  \n",
        "  img=cv2.imread(temp)\n",
        "  img = cv2.cvtColor(img, cv2.COLOR_BGR2GRAY)#chuyển về ảnh xám\n",
        "  #img=(img/255)*10\n",
        "  #(thresh, img_test) = cv2.threshold(img, 128, 255, cv2.THRESH_BINARY)\n",
        "  img_test = cv2.resize(img, (8, 8), interpolation = cv2.INTER_AREA)\n",
        "  img_test=img_test.reshape(1,64)\n",
        "  \"\"\"for j in range(64):\n",
        "    if img_test[0][j]>=128:\n",
        "      img_test[0][j]=0\"\"\"\n",
        "  #img_test=(img_test/255)*10\n",
        "  X_test_temp.append(img_test)"
      ],
      "execution_count": 14,
      "outputs": []
    },
    {
      "cell_type": "code",
      "metadata": {
        "id": "6klHhiVJVaiF"
      },
      "source": [
        "predicted_test=[]"
      ],
      "execution_count": 15,
      "outputs": []
    },
    {
      "cell_type": "code",
      "metadata": {
        "id": "CNvwQKRiVcmG"
      },
      "source": [
        "for i in X_test_temp:\n",
        "  temp = clf.predict(i)\n",
        "  predicted_test.append(temp)"
      ],
      "execution_count": 16,
      "outputs": []
    },
    {
      "cell_type": "code",
      "metadata": {
        "colab": {
          "base_uri": "https://localhost:8080/",
          "height": 153
        },
        "id": "hTWMvZEiVgsW",
        "outputId": "754ffc1c-8526-4d7b-834c-b20b04e06036"
      },
      "source": [
        "_, axes = plt.subplots(nrows=1, ncols=13, figsize=(30, 3))\n",
        "for ax, image, prediction,k in zip(axes, X_test_temp, predicted_test,labelx):\n",
        "    ax.set_axis_off()\n",
        "    image = image.reshape(8, 8)\n",
        "    ax.imshow(image, cmap=plt.cm.gray_r, interpolation='nearest')\n",
        "    ax.set_title(f'Real valueL {k}\\nPredicted value: {prediction}')"
      ],
      "execution_count": 17,
      "outputs": [
        {
          "output_type": "display_data",
          "data": {
            "image/png": "[encoded data removed]",
            "text/plain": [
              "<Figure size 2160x216 with 13 Axes>"
            ]
          },
          "metadata": {
            "tags": [],
            "needs_background": "light"
          }
        }
      ]
    },
    {
      "cell_type": "markdown",
      "metadata": {
        "id": "cN9PtrZzWpb3"
      },
      "source": [
        "**Nhận xét:** với 1 bức ảnh được chụp cùng camera lap bất kì, thì model luôn dự đoán giá trị là 1 (tỷ lệ là 1/13). Điều này chứng tỏ nhận diện chữ số trên mặt giấy khi chụp bằng webcam laptop là **KHÔNG TỐT**, không phù hợp."
      ]
    },
    {
      "cell_type": "markdown",
      "metadata": {
        "id": "2JhxZpobXoVT"
      },
      "source": [
        "## Thử thay đổi ma trận đầu vào để phù hợp với dữ liệu scikit-learn:"
      ]
    },
    {
      "cell_type": "markdown",
      "metadata": {
        "id": "Z2AuYLoLXYQk"
      },
      "source": [
        "Show thử ma trận của những bức ảnh được chụp từ camera có vùng giá trị như thế nào ?"
      ]
    },
    {
      "cell_type": "code",
      "metadata": {
        "colab": {
          "base_uri": "https://localhost:8080/"
        },
        "id": "Dxoyrie7XeEE",
        "outputId": "0d86f085-d794-4e0e-ab88-3d8c6c89c0f8"
      },
      "source": [
        "X_test_temp"
      ],
      "execution_count": 18,
      "outputs": [
        {
          "output_type": "execute_result",
          "data": {
            "text/plain": [
              "[array([[117, 119, 118,  79,  60, 105, 115, 111, 125, 125,  74,  55, 107,\n",
              "          63, 122, 118, 132, 128,  58, 125, 129,  51, 128, 125, 143, 142,\n",
              "         143, 142, 116,  66, 135, 133, 153, 153, 154, 151,  66, 119, 148,\n",
              "         144, 164, 164, 163,  91,  98, 159, 158, 153, 177, 170,  98,  79,\n",
              "         124, 112, 150, 166, 188, 174, 120, 134, 150, 161, 166, 178]],\n",
              "       dtype=uint8),\n",
              " array([[119, 119, 110,  92, 117, 116, 111, 106, 121, 121,  67,  83, 120,\n",
              "         119, 116, 111, 127, 121,  44, 120, 128, 127, 125, 119, 135,  79,\n",
              "          54,  40,  81, 138, 134, 130, 143,  55,  68,  45, 102, 149, 145,\n",
              "         141, 154, 156, 158,  66, 141, 160, 157, 153, 165, 169, 172,  75,\n",
              "         160, 173, 168, 162, 177, 181, 184, 129, 180, 182, 177, 170]],\n",
              "       dtype=uint8),\n",
              " array([[113, 114,  88,  65,  62,  57,  93, 117, 116, 119,  67,  94, 111,\n",
              "         111, 114, 119, 125, 128,  73, 111, 130, 129, 127, 125, 137, 139,\n",
              "          76,  67,  69,  95, 135, 131, 147, 151, 131, 111, 113,  84, 140,\n",
              "         139, 159, 162, 165, 166, 165, 129, 144, 149, 171, 174, 175, 178,\n",
              "         155,  95, 167, 160, 183, 186, 142, 108, 122, 174, 180, 171]],\n",
              "       dtype=uint8),\n",
              " array([[111, 107,  77,  62,  50,  45,  40, 109, 115, 106,  29,  39,  48,\n",
              "          40,  36, 115, 122, 125, 124, 128, 129,  63,  79, 123, 132, 134,\n",
              "         137, 139, 127,  39, 121, 131, 142, 145, 148, 148,  97,  77, 142,\n",
              "         141, 155, 158, 159, 158,  67, 142, 155, 151, 167, 170, 171, 133,\n",
              "          95, 173, 169, 161, 178, 181, 183, 100, 159, 184, 180, 171]],\n",
              "       dtype=uint8),\n",
              " array([[103, 106, 107,  84,  42,  75, 106, 102, 110, 113, 111,  53, 108,\n",
              "          89, 114, 110, 118, 122, 115,  96, 126,  95, 122, 118, 128, 132,\n",
              "         135, 103, 103, 112, 132, 128, 141, 145, 147, 118,  89, 145, 145,\n",
              "         141, 153, 155, 128, 120, 159, 134, 155, 153, 163, 167, 125, 170,\n",
              "         156, 127, 166, 163, 172, 177, 149, 117, 122, 175, 175, 172]],\n",
              "       dtype=uint8),\n",
              " array([[106, 110, 112, 112, 110, 112, 111, 107, 109, 112, 114,  95,  74,\n",
              "         114, 110, 107, 120, 123, 111, 112,  76, 123, 119, 114, 132, 135,\n",
              "         125, 106,  58, 134, 129, 124, 146, 148, 150, 134,  88, 147, 143,\n",
              "         136, 157, 159, 160, 162, 112, 156, 153, 147, 166, 168, 164, 126,\n",
              "         128, 163, 160, 155, 173, 175, 175, 174, 173, 169, 164, 159]],\n",
              "       dtype=uint8),\n",
              " array([[109, 112, 112,  76,  68, 112, 113, 110, 113, 116, 101,  71, 104,\n",
              "          81, 119, 115, 121, 125, 126, 127, 115,  73, 129, 124, 130, 133,\n",
              "         136,  99,  39, 114, 136, 133, 140, 144, 147, 131, 112,  90, 145,\n",
              "         141, 152, 155, 158, 157, 115, 112, 153, 150, 163, 167, 161,  97,\n",
              "         132, 166, 163, 160, 174, 177, 179, 179, 179, 177, 173, 170]],\n",
              "       dtype=uint8),\n",
              " array([[110, 113, 115, 115,  73, 109, 109, 102, 116, 119, 122,  71,  80,\n",
              "         119, 117, 110, 124, 127, 108,  74, 131, 131, 127, 120, 135, 138,\n",
              "          78, 127, 132, 142, 140, 134, 146, 148,  64,  81,  92, 104, 149,\n",
              "         146, 155, 158, 107, 163, 164, 136, 155, 154, 165, 169, 132, 173,\n",
              "         166, 108, 167, 163, 173, 177, 172, 124, 104, 153, 174, 169]],\n",
              "       dtype=uint8),\n",
              " array([[106, 109, 111, 113, 102,  96, 106, 101, 112, 115, 116,  99,  32,\n",
              "          71, 113, 108, 122, 124, 108,  38,  75,  82, 125, 118, 130, 134,\n",
              "          90, 111,  88,  98, 135, 129, 142, 146, 148, 148,  80, 125, 147,\n",
              "         142, 153, 156, 159, 158,  75, 153, 156, 151, 162, 165, 167, 167,\n",
              "          80, 164, 162, 156, 171, 174, 174, 173, 154, 170, 166, 161]],\n",
              "       dtype=uint8),\n",
              " array([[114, 116, 117,  76,  90, 117, 113, 109, 119, 121, 108,  40, 119,\n",
              "         122, 119, 115, 127, 130,  60,  92,  75, 129, 127, 123, 137, 125,\n",
              "          37,  43,  33,  86, 137, 133, 147, 148, 140, 138,  52, 135, 149,\n",
              "         144, 157, 159, 162, 157,  74, 162, 159, 155, 168, 172, 174, 159,\n",
              "          95, 174, 171, 166, 178, 182, 184, 182, 173, 183, 179, 174]],\n",
              "       dtype=uint8),\n",
              " array([[109, 112, 114,  92, 103, 116, 114, 109, 115, 119,  89,  27,  57,\n",
              "          95, 122, 118, 121, 124,  41,  96, 130,  82, 129, 126, 130, 121,\n",
              "          50, 139, 141,  90, 137, 137, 143, 124,  75, 151, 152,  98, 145,\n",
              "         148, 154, 146,  86, 162, 158,  88, 161, 158, 167, 170, 119, 115,\n",
              "          86, 141, 173, 169, 177, 181, 183, 156, 173, 184, 170, 168]],\n",
              "       dtype=uint8),\n",
              " array([[107, 110, 112, 111, 111, 110, 105, 100, 114, 117, 119, 117,  63,\n",
              "         106, 112, 107, 122, 125, 126,  92,  88,  67, 120, 114, 131, 134,\n",
              "         133,  77,  97,  73, 130, 123, 143, 146, 147, 103,  77,  94, 142,\n",
              "         135, 153, 156, 158, 158, 125, 129, 153, 147, 164, 167, 169, 131,\n",
              "         108, 165, 165, 158, 173, 176, 178, 176, 177, 177, 173, 167]],\n",
              "       dtype=uint8),\n",
              " array([[ 96, 101, 103,  86,  26, 104, 102,  99, 103, 108, 110,  44,  30,\n",
              "         110, 109, 105, 114, 119, 103,  53,  50, 120, 118, 115, 124, 128,\n",
              "         132, 129,  57, 131, 129, 124, 137, 141, 145, 146,  67, 144, 141,\n",
              "         137, 151, 155, 157, 158,  77, 155, 152, 149, 161, 165, 167, 168,\n",
              "          85, 166, 162, 158, 170, 173, 176, 176, 149, 175, 170, 166]],\n",
              "       dtype=uint8)]"
            ]
          },
          "metadata": {
            "tags": []
          },
          "execution_count": 18
        }
      ]
    },
    {
      "cell_type": "markdown",
      "metadata": {
        "id": "BxniIXB7emUN"
      },
      "source": [
        "Có vẻ như ma trận có được từ ảnh chụp được từ camera của máy chúng em thường có giá trị trong khoảng 0->200. Trong khi tập dữ liệu dùng để train là 0->16. Nên chúng em nghĩ cần phải scale các ma trận này trước khi đưa vào dự đoán để có thể có 1 kết quả khả quan hơn.\n",
        "\n",
        "Cụ thể: Vùng giá trị của ma trận là 0->200 muốn scale về 0->16. Tức k=200/16~=13. Vậy chúng ta sẽ chia ma trận cho 13"
      ]
    },
    {
      "cell_type": "code",
      "metadata": {
        "id": "G5QPhLxLfaGr"
      },
      "source": [
        "for i in range(len(X_test_temp)):\n",
        "  X_test_temp[i]=(X_test_temp[i]/13)"
      ],
      "execution_count": 19,
      "outputs": []
    },
    {
      "cell_type": "code",
      "metadata": {
        "colab": {
          "base_uri": "https://localhost:8080/"
        },
        "id": "49BWWJt7fq6t",
        "outputId": "15d79742-6d3e-4ede-f514-31ca7365b085"
      },
      "source": [
        "X_test_temp"
      ],
      "execution_count": 20,
      "outputs": [
        {
          "output_type": "execute_result",
          "data": {
            "text/plain": [
              "[array([[ 9.        ,  9.15384615,  9.07692308,  6.07692308,  4.61538462,\n",
              "          8.07692308,  8.84615385,  8.53846154,  9.61538462,  9.61538462,\n",
              "          5.69230769,  4.23076923,  8.23076923,  4.84615385,  9.38461538,\n",
              "          9.07692308, 10.15384615,  9.84615385,  4.46153846,  9.61538462,\n",
              "          9.92307692,  3.92307692,  9.84615385,  9.61538462, 11.        ,\n",
              "         10.92307692, 11.        , 10.92307692,  8.92307692,  5.07692308,\n",
              "         10.38461538, 10.23076923, 11.76923077, 11.76923077, 11.84615385,\n",
              "         11.61538462,  5.07692308,  9.15384615, 11.38461538, 11.07692308,\n",
              "         12.61538462, 12.61538462, 12.53846154,  7.        ,  7.53846154,\n",
              "         12.23076923, 12.15384615, 11.76923077, 13.61538462, 13.07692308,\n",
              "          7.53846154,  6.07692308,  9.53846154,  8.61538462, 11.53846154,\n",
              "         12.76923077, 14.46153846, 13.38461538,  9.23076923, 10.30769231,\n",
              "         11.53846154, 12.38461538, 12.76923077, 13.69230769]]),\n",
              " array([[ 9.15384615,  9.15384615,  8.46153846,  7.07692308,  9.        ,\n",
              "          8.92307692,  8.53846154,  8.15384615,  9.30769231,  9.30769231,\n",
              "          5.15384615,  6.38461538,  9.23076923,  9.15384615,  8.92307692,\n",
              "          8.53846154,  9.76923077,  9.30769231,  3.38461538,  9.23076923,\n",
              "          9.84615385,  9.76923077,  9.61538462,  9.15384615, 10.38461538,\n",
              "          6.07692308,  4.15384615,  3.07692308,  6.23076923, 10.61538462,\n",
              "         10.30769231, 10.        , 11.        ,  4.23076923,  5.23076923,\n",
              "          3.46153846,  7.84615385, 11.46153846, 11.15384615, 10.84615385,\n",
              "         11.84615385, 12.        , 12.15384615,  5.07692308, 10.84615385,\n",
              "         12.30769231, 12.07692308, 11.76923077, 12.69230769, 13.        ,\n",
              "         13.23076923,  5.76923077, 12.30769231, 13.30769231, 12.92307692,\n",
              "         12.46153846, 13.61538462, 13.92307692, 14.15384615,  9.92307692,\n",
              "         13.84615385, 14.        , 13.61538462, 13.07692308]]),\n",
              " array([[ 8.69230769,  8.76923077,  6.76923077,  5.        ,  4.76923077,\n",
              "          4.38461538,  7.15384615,  9.        ,  8.92307692,  9.15384615,\n",
              "          5.15384615,  7.23076923,  8.53846154,  8.53846154,  8.76923077,\n",
              "          9.15384615,  9.61538462,  9.84615385,  5.61538462,  8.53846154,\n",
              "         10.        ,  9.92307692,  9.76923077,  9.61538462, 10.53846154,\n",
              "         10.69230769,  5.84615385,  5.15384615,  5.30769231,  7.30769231,\n",
              "         10.38461538, 10.07692308, 11.30769231, 11.61538462, 10.07692308,\n",
              "          8.53846154,  8.69230769,  6.46153846, 10.76923077, 10.69230769,\n",
              "         12.23076923, 12.46153846, 12.69230769, 12.76923077, 12.69230769,\n",
              "          9.92307692, 11.07692308, 11.46153846, 13.15384615, 13.38461538,\n",
              "         13.46153846, 13.69230769, 11.92307692,  7.30769231, 12.84615385,\n",
              "         12.30769231, 14.07692308, 14.30769231, 10.92307692,  8.30769231,\n",
              "          9.38461538, 13.38461538, 13.84615385, 13.15384615]]),\n",
              " array([[ 8.53846154,  8.23076923,  5.92307692,  4.76923077,  3.84615385,\n",
              "          3.46153846,  3.07692308,  8.38461538,  8.84615385,  8.15384615,\n",
              "          2.23076923,  3.        ,  3.69230769,  3.07692308,  2.76923077,\n",
              "          8.84615385,  9.38461538,  9.61538462,  9.53846154,  9.84615385,\n",
              "          9.92307692,  4.84615385,  6.07692308,  9.46153846, 10.15384615,\n",
              "         10.30769231, 10.53846154, 10.69230769,  9.76923077,  3.        ,\n",
              "          9.30769231, 10.07692308, 10.92307692, 11.15384615, 11.38461538,\n",
              "         11.38461538,  7.46153846,  5.92307692, 10.92307692, 10.84615385,\n",
              "         11.92307692, 12.15384615, 12.23076923, 12.15384615,  5.15384615,\n",
              "         10.92307692, 11.92307692, 11.61538462, 12.84615385, 13.07692308,\n",
              "         13.15384615, 10.23076923,  7.30769231, 13.30769231, 13.        ,\n",
              "         12.38461538, 13.69230769, 13.92307692, 14.07692308,  7.69230769,\n",
              "         12.23076923, 14.15384615, 13.84615385, 13.15384615]]),\n",
              " array([[ 7.92307692,  8.15384615,  8.23076923,  6.46153846,  3.23076923,\n",
              "          5.76923077,  8.15384615,  7.84615385,  8.46153846,  8.69230769,\n",
              "          8.53846154,  4.07692308,  8.30769231,  6.84615385,  8.76923077,\n",
              "          8.46153846,  9.07692308,  9.38461538,  8.84615385,  7.38461538,\n",
              "          9.69230769,  7.30769231,  9.38461538,  9.07692308,  9.84615385,\n",
              "         10.15384615, 10.38461538,  7.92307692,  7.92307692,  8.61538462,\n",
              "         10.15384615,  9.84615385, 10.84615385, 11.15384615, 11.30769231,\n",
              "          9.07692308,  6.84615385, 11.15384615, 11.15384615, 10.84615385,\n",
              "         11.76923077, 11.92307692,  9.84615385,  9.23076923, 12.23076923,\n",
              "         10.30769231, 11.92307692, 11.76923077, 12.53846154, 12.84615385,\n",
              "          9.61538462, 13.07692308, 12.        ,  9.76923077, 12.76923077,\n",
              "         12.53846154, 13.23076923, 13.61538462, 11.46153846,  9.        ,\n",
              "          9.38461538, 13.46153846, 13.46153846, 13.23076923]]),\n",
              " array([[ 8.15384615,  8.46153846,  8.61538462,  8.61538462,  8.46153846,\n",
              "          8.61538462,  8.53846154,  8.23076923,  8.38461538,  8.61538462,\n",
              "          8.76923077,  7.30769231,  5.69230769,  8.76923077,  8.46153846,\n",
              "          8.23076923,  9.23076923,  9.46153846,  8.53846154,  8.61538462,\n",
              "          5.84615385,  9.46153846,  9.15384615,  8.76923077, 10.15384615,\n",
              "         10.38461538,  9.61538462,  8.15384615,  4.46153846, 10.30769231,\n",
              "          9.92307692,  9.53846154, 11.23076923, 11.38461538, 11.53846154,\n",
              "         10.30769231,  6.76923077, 11.30769231, 11.        , 10.46153846,\n",
              "         12.07692308, 12.23076923, 12.30769231, 12.46153846,  8.61538462,\n",
              "         12.        , 11.76923077, 11.30769231, 12.76923077, 12.92307692,\n",
              "         12.61538462,  9.69230769,  9.84615385, 12.53846154, 12.30769231,\n",
              "         11.92307692, 13.30769231, 13.46153846, 13.46153846, 13.38461538,\n",
              "         13.30769231, 13.        , 12.61538462, 12.23076923]]),\n",
              " array([[ 8.38461538,  8.61538462,  8.61538462,  5.84615385,  5.23076923,\n",
              "          8.61538462,  8.69230769,  8.46153846,  8.69230769,  8.92307692,\n",
              "          7.76923077,  5.46153846,  8.        ,  6.23076923,  9.15384615,\n",
              "          8.84615385,  9.30769231,  9.61538462,  9.69230769,  9.76923077,\n",
              "          8.84615385,  5.61538462,  9.92307692,  9.53846154, 10.        ,\n",
              "         10.23076923, 10.46153846,  7.61538462,  3.        ,  8.76923077,\n",
              "         10.46153846, 10.23076923, 10.76923077, 11.07692308, 11.30769231,\n",
              "         10.07692308,  8.61538462,  6.92307692, 11.15384615, 10.84615385,\n",
              "         11.69230769, 11.92307692, 12.15384615, 12.07692308,  8.84615385,\n",
              "          8.61538462, 11.76923077, 11.53846154, 12.53846154, 12.84615385,\n",
              "         12.38461538,  7.46153846, 10.15384615, 12.76923077, 12.53846154,\n",
              "         12.30769231, 13.38461538, 13.61538462, 13.76923077, 13.76923077,\n",
              "         13.76923077, 13.61538462, 13.30769231, 13.07692308]]),\n",
              " array([[ 8.46153846,  8.69230769,  8.84615385,  8.84615385,  5.61538462,\n",
              "          8.38461538,  8.38461538,  7.84615385,  8.92307692,  9.15384615,\n",
              "          9.38461538,  5.46153846,  6.15384615,  9.15384615,  9.        ,\n",
              "          8.46153846,  9.53846154,  9.76923077,  8.30769231,  5.69230769,\n",
              "         10.07692308, 10.07692308,  9.76923077,  9.23076923, 10.38461538,\n",
              "         10.61538462,  6.        ,  9.76923077, 10.15384615, 10.92307692,\n",
              "         10.76923077, 10.30769231, 11.23076923, 11.38461538,  4.92307692,\n",
              "          6.23076923,  7.07692308,  8.        , 11.46153846, 11.23076923,\n",
              "         11.92307692, 12.15384615,  8.23076923, 12.53846154, 12.61538462,\n",
              "         10.46153846, 11.92307692, 11.84615385, 12.69230769, 13.        ,\n",
              "         10.15384615, 13.30769231, 12.76923077,  8.30769231, 12.84615385,\n",
              "         12.53846154, 13.30769231, 13.61538462, 13.23076923,  9.53846154,\n",
              "          8.        , 11.76923077, 13.38461538, 13.        ]]),\n",
              " array([[ 8.15384615,  8.38461538,  8.53846154,  8.69230769,  7.84615385,\n",
              "          7.38461538,  8.15384615,  7.76923077,  8.61538462,  8.84615385,\n",
              "          8.92307692,  7.61538462,  2.46153846,  5.46153846,  8.69230769,\n",
              "          8.30769231,  9.38461538,  9.53846154,  8.30769231,  2.92307692,\n",
              "          5.76923077,  6.30769231,  9.61538462,  9.07692308, 10.        ,\n",
              "         10.30769231,  6.92307692,  8.53846154,  6.76923077,  7.53846154,\n",
              "         10.38461538,  9.92307692, 10.92307692, 11.23076923, 11.38461538,\n",
              "         11.38461538,  6.15384615,  9.61538462, 11.30769231, 10.92307692,\n",
              "         11.76923077, 12.        , 12.23076923, 12.15384615,  5.76923077,\n",
              "         11.76923077, 12.        , 11.61538462, 12.46153846, 12.69230769,\n",
              "         12.84615385, 12.84615385,  6.15384615, 12.61538462, 12.46153846,\n",
              "         12.        , 13.15384615, 13.38461538, 13.38461538, 13.30769231,\n",
              "         11.84615385, 13.07692308, 12.76923077, 12.38461538]]),\n",
              " array([[ 8.76923077,  8.92307692,  9.        ,  5.84615385,  6.92307692,\n",
              "          9.        ,  8.69230769,  8.38461538,  9.15384615,  9.30769231,\n",
              "          8.30769231,  3.07692308,  9.15384615,  9.38461538,  9.15384615,\n",
              "          8.84615385,  9.76923077, 10.        ,  4.61538462,  7.07692308,\n",
              "          5.76923077,  9.92307692,  9.76923077,  9.46153846, 10.53846154,\n",
              "          9.61538462,  2.84615385,  3.30769231,  2.53846154,  6.61538462,\n",
              "         10.53846154, 10.23076923, 11.30769231, 11.38461538, 10.76923077,\n",
              "         10.61538462,  4.        , 10.38461538, 11.46153846, 11.07692308,\n",
              "         12.07692308, 12.23076923, 12.46153846, 12.07692308,  5.69230769,\n",
              "         12.46153846, 12.23076923, 11.92307692, 12.92307692, 13.23076923,\n",
              "         13.38461538, 12.23076923,  7.30769231, 13.38461538, 13.15384615,\n",
              "         12.76923077, 13.69230769, 14.        , 14.15384615, 14.        ,\n",
              "         13.30769231, 14.07692308, 13.76923077, 13.38461538]]),\n",
              " array([[ 8.38461538,  8.61538462,  8.76923077,  7.07692308,  7.92307692,\n",
              "          8.92307692,  8.76923077,  8.38461538,  8.84615385,  9.15384615,\n",
              "          6.84615385,  2.07692308,  4.38461538,  7.30769231,  9.38461538,\n",
              "          9.07692308,  9.30769231,  9.53846154,  3.15384615,  7.38461538,\n",
              "         10.        ,  6.30769231,  9.92307692,  9.69230769, 10.        ,\n",
              "          9.30769231,  3.84615385, 10.69230769, 10.84615385,  6.92307692,\n",
              "         10.53846154, 10.53846154, 11.        ,  9.53846154,  5.76923077,\n",
              "         11.61538462, 11.69230769,  7.53846154, 11.15384615, 11.38461538,\n",
              "         11.84615385, 11.23076923,  6.61538462, 12.46153846, 12.15384615,\n",
              "          6.76923077, 12.38461538, 12.15384615, 12.84615385, 13.07692308,\n",
              "          9.15384615,  8.84615385,  6.61538462, 10.84615385, 13.30769231,\n",
              "         13.        , 13.61538462, 13.92307692, 14.07692308, 12.        ,\n",
              "         13.30769231, 14.15384615, 13.07692308, 12.92307692]]),\n",
              " array([[ 8.23076923,  8.46153846,  8.61538462,  8.53846154,  8.53846154,\n",
              "          8.46153846,  8.07692308,  7.69230769,  8.76923077,  9.        ,\n",
              "          9.15384615,  9.        ,  4.84615385,  8.15384615,  8.61538462,\n",
              "          8.23076923,  9.38461538,  9.61538462,  9.69230769,  7.07692308,\n",
              "          6.76923077,  5.15384615,  9.23076923,  8.76923077, 10.07692308,\n",
              "         10.30769231, 10.23076923,  5.92307692,  7.46153846,  5.61538462,\n",
              "         10.        ,  9.46153846, 11.        , 11.23076923, 11.30769231,\n",
              "          7.92307692,  5.92307692,  7.23076923, 10.92307692, 10.38461538,\n",
              "         11.76923077, 12.        , 12.15384615, 12.15384615,  9.61538462,\n",
              "          9.92307692, 11.76923077, 11.30769231, 12.61538462, 12.84615385,\n",
              "         13.        , 10.07692308,  8.30769231, 12.69230769, 12.69230769,\n",
              "         12.15384615, 13.30769231, 13.53846154, 13.69230769, 13.53846154,\n",
              "         13.61538462, 13.61538462, 13.30769231, 12.84615385]]),\n",
              " array([[ 7.38461538,  7.76923077,  7.92307692,  6.61538462,  2.        ,\n",
              "          8.        ,  7.84615385,  7.61538462,  7.92307692,  8.30769231,\n",
              "          8.46153846,  3.38461538,  2.30769231,  8.46153846,  8.38461538,\n",
              "          8.07692308,  8.76923077,  9.15384615,  7.92307692,  4.07692308,\n",
              "          3.84615385,  9.23076923,  9.07692308,  8.84615385,  9.53846154,\n",
              "          9.84615385, 10.15384615,  9.92307692,  4.38461538, 10.07692308,\n",
              "          9.92307692,  9.53846154, 10.53846154, 10.84615385, 11.15384615,\n",
              "         11.23076923,  5.15384615, 11.07692308, 10.84615385, 10.53846154,\n",
              "         11.61538462, 11.92307692, 12.07692308, 12.15384615,  5.92307692,\n",
              "         11.92307692, 11.69230769, 11.46153846, 12.38461538, 12.69230769,\n",
              "         12.84615385, 12.92307692,  6.53846154, 12.76923077, 12.46153846,\n",
              "         12.15384615, 13.07692308, 13.30769231, 13.53846154, 13.53846154,\n",
              "         11.46153846, 13.46153846, 13.07692308, 12.76923077]])]"
            ]
          },
          "metadata": {
            "tags": []
          },
          "execution_count": 20
        }
      ]
    },
    {
      "cell_type": "markdown",
      "metadata": {
        "id": "yq12ZBF2buxl"
      },
      "source": [
        "**Predict:**"
      ]
    },
    {
      "cell_type": "code",
      "metadata": {
        "id": "6MDu1WlrcgfZ"
      },
      "source": [
        "predicted_test=[]"
      ],
      "execution_count": 21,
      "outputs": []
    },
    {
      "cell_type": "code",
      "metadata": {
        "id": "sVmfE2s8heJV"
      },
      "source": [
        "for i in X_test_temp:\n",
        "  temp = clf.predict(i)\n",
        "  predicted_test.append(temp)"
      ],
      "execution_count": 22,
      "outputs": []
    },
    {
      "cell_type": "code",
      "metadata": {
        "colab": {
          "base_uri": "https://localhost:8080/",
          "height": 153
        },
        "id": "gHukWV86coWn",
        "outputId": "d0f915be-38ed-47b3-e88b-b93712a9749b"
      },
      "source": [
        "_, axes = plt.subplots(nrows=1, ncols=13, figsize=(30, 3))\n",
        "for ax, image, prediction,k in zip(axes, X_test_temp, predicted_test,labelx):\n",
        "    ax.set_axis_off()\n",
        "    image = image.reshape(8, 8)\n",
        "    ax.imshow(image, cmap=plt.cm.gray_r, interpolation='nearest')\n",
        "    ax.set_title(f'Realvalue: {k}\\nPredicted value: {prediction}')"
      ],
      "execution_count": 23,
      "outputs": [
        {
          "output_type": "display_data",
          "data": {
            "image/png": "[encoded data removed]",
            "text/plain": [
              "<Figure size 2160x216 with 13 Axes>"
            ]
          },
          "metadata": {
            "tags": [],
            "needs_background": "light"
          }
        }
      ]
    },
    {
      "cell_type": "markdown",
      "metadata": {
        "id": "nmNbBCvgipkU"
      },
      "source": [
        "Kết quả vẫn không tốt và thiên vị về kết quả là số 1. Nhìn vào các bức ảnh thì có thể đoán có lẽ rằng: 1 trong những lí do là nó đang hiển thị ngược lại so với những gì chúng ta mong muốn (phần số thì lại trắng, còn phần nền thì lại đen đi) Khác với dữ liệu từ scikit-learn. Thử đảo lại giá trị ma trận xem sao ?\n",
        "\n",
        "Chúng ta đã biến đổi các ma trận đầu vào bằng cách chia cho 13. Đảo lại ==> KQ=13-(Matrix/13)."
      ]
    },
    {
      "cell_type": "code",
      "metadata": {
        "id": "IGdA3liWjXcq"
      },
      "source": [
        "for i in range(len(X_test_temp)):\n",
        "  X_test_temp[i]=13-(X_test_temp[i])"
      ],
      "execution_count": 24,
      "outputs": []
    },
    {
      "cell_type": "code",
      "metadata": {
        "colab": {
          "base_uri": "https://localhost:8080/"
        },
        "id": "msSpQLHPjfsh",
        "outputId": "bebd8a06-d116-49c7-f7df-4e780346b698"
      },
      "source": [
        "X_test_temp"
      ],
      "execution_count": 25,
      "outputs": [
        {
          "output_type": "execute_result",
          "data": {
            "text/plain": [
              "[array([[ 4.        ,  3.84615385,  3.92307692,  6.92307692,  8.38461538,\n",
              "          4.92307692,  4.15384615,  4.46153846,  3.38461538,  3.38461538,\n",
              "          7.30769231,  8.76923077,  4.76923077,  8.15384615,  3.61538462,\n",
              "          3.92307692,  2.84615385,  3.15384615,  8.53846154,  3.38461538,\n",
              "          3.07692308,  9.07692308,  3.15384615,  3.38461538,  2.        ,\n",
              "          2.07692308,  2.        ,  2.07692308,  4.07692308,  7.92307692,\n",
              "          2.61538462,  2.76923077,  1.23076923,  1.23076923,  1.15384615,\n",
              "          1.38461538,  7.92307692,  3.84615385,  1.61538462,  1.92307692,\n",
              "          0.38461538,  0.38461538,  0.46153846,  6.        ,  5.46153846,\n",
              "          0.76923077,  0.84615385,  1.23076923, -0.61538462, -0.07692308,\n",
              "          5.46153846,  6.92307692,  3.46153846,  4.38461538,  1.46153846,\n",
              "          0.23076923, -1.46153846, -0.38461538,  3.76923077,  2.69230769,\n",
              "          1.46153846,  0.61538462,  0.23076923, -0.69230769]]),\n",
              " array([[ 3.84615385,  3.84615385,  4.53846154,  5.92307692,  4.        ,\n",
              "          4.07692308,  4.46153846,  4.84615385,  3.69230769,  3.69230769,\n",
              "          7.84615385,  6.61538462,  3.76923077,  3.84615385,  4.07692308,\n",
              "          4.46153846,  3.23076923,  3.69230769,  9.61538462,  3.76923077,\n",
              "          3.15384615,  3.23076923,  3.38461538,  3.84615385,  2.61538462,\n",
              "          6.92307692,  8.84615385,  9.92307692,  6.76923077,  2.38461538,\n",
              "          2.69230769,  3.        ,  2.        ,  8.76923077,  7.76923077,\n",
              "          9.53846154,  5.15384615,  1.53846154,  1.84615385,  2.15384615,\n",
              "          1.15384615,  1.        ,  0.84615385,  7.92307692,  2.15384615,\n",
              "          0.69230769,  0.92307692,  1.23076923,  0.30769231,  0.        ,\n",
              "         -0.23076923,  7.23076923,  0.69230769, -0.30769231,  0.07692308,\n",
              "          0.53846154, -0.61538462, -0.92307692, -1.15384615,  3.07692308,\n",
              "         -0.84615385, -1.        , -0.61538462, -0.07692308]]),\n",
              " array([[ 4.30769231,  4.23076923,  6.23076923,  8.        ,  8.23076923,\n",
              "          8.61538462,  5.84615385,  4.        ,  4.07692308,  3.84615385,\n",
              "          7.84615385,  5.76923077,  4.46153846,  4.46153846,  4.23076923,\n",
              "          3.84615385,  3.38461538,  3.15384615,  7.38461538,  4.46153846,\n",
              "          3.        ,  3.07692308,  3.23076923,  3.38461538,  2.46153846,\n",
              "          2.30769231,  7.15384615,  7.84615385,  7.69230769,  5.69230769,\n",
              "          2.61538462,  2.92307692,  1.69230769,  1.38461538,  2.92307692,\n",
              "          4.46153846,  4.30769231,  6.53846154,  2.23076923,  2.30769231,\n",
              "          0.76923077,  0.53846154,  0.30769231,  0.23076923,  0.30769231,\n",
              "          3.07692308,  1.92307692,  1.53846154, -0.15384615, -0.38461538,\n",
              "         -0.46153846, -0.69230769,  1.07692308,  5.69230769,  0.15384615,\n",
              "          0.69230769, -1.07692308, -1.30769231,  2.07692308,  4.69230769,\n",
              "          3.61538462, -0.38461538, -0.84615385, -0.15384615]]),\n",
              " array([[ 4.46153846,  4.76923077,  7.07692308,  8.23076923,  9.15384615,\n",
              "          9.53846154,  9.92307692,  4.61538462,  4.15384615,  4.84615385,\n",
              "         10.76923077, 10.        ,  9.30769231,  9.92307692, 10.23076923,\n",
              "          4.15384615,  3.61538462,  3.38461538,  3.46153846,  3.15384615,\n",
              "          3.07692308,  8.15384615,  6.92307692,  3.53846154,  2.84615385,\n",
              "          2.69230769,  2.46153846,  2.30769231,  3.23076923, 10.        ,\n",
              "          3.69230769,  2.92307692,  2.07692308,  1.84615385,  1.61538462,\n",
              "          1.61538462,  5.53846154,  7.07692308,  2.07692308,  2.15384615,\n",
              "          1.07692308,  0.84615385,  0.76923077,  0.84615385,  7.84615385,\n",
              "          2.07692308,  1.07692308,  1.38461538,  0.15384615, -0.07692308,\n",
              "         -0.15384615,  2.76923077,  5.69230769, -0.30769231,  0.        ,\n",
              "          0.61538462, -0.69230769, -0.92307692, -1.07692308,  5.30769231,\n",
              "          0.76923077, -1.15384615, -0.84615385, -0.15384615]]),\n",
              " array([[ 5.07692308,  4.84615385,  4.76923077,  6.53846154,  9.76923077,\n",
              "          7.23076923,  4.84615385,  5.15384615,  4.53846154,  4.30769231,\n",
              "          4.46153846,  8.92307692,  4.69230769,  6.15384615,  4.23076923,\n",
              "          4.53846154,  3.92307692,  3.61538462,  4.15384615,  5.61538462,\n",
              "          3.30769231,  5.69230769,  3.61538462,  3.92307692,  3.15384615,\n",
              "          2.84615385,  2.61538462,  5.07692308,  5.07692308,  4.38461538,\n",
              "          2.84615385,  3.15384615,  2.15384615,  1.84615385,  1.69230769,\n",
              "          3.92307692,  6.15384615,  1.84615385,  1.84615385,  2.15384615,\n",
              "          1.23076923,  1.07692308,  3.15384615,  3.76923077,  0.76923077,\n",
              "          2.69230769,  1.07692308,  1.23076923,  0.46153846,  0.15384615,\n",
              "          3.38461538, -0.07692308,  1.        ,  3.23076923,  0.23076923,\n",
              "          0.46153846, -0.23076923, -0.61538462,  1.53846154,  4.        ,\n",
              "          3.61538462, -0.46153846, -0.46153846, -0.23076923]]),\n",
              " array([[ 4.84615385,  4.53846154,  4.38461538,  4.38461538,  4.53846154,\n",
              "          4.38461538,  4.46153846,  4.76923077,  4.61538462,  4.38461538,\n",
              "          4.23076923,  5.69230769,  7.30769231,  4.23076923,  4.53846154,\n",
              "          4.76923077,  3.76923077,  3.53846154,  4.46153846,  4.38461538,\n",
              "          7.15384615,  3.53846154,  3.84615385,  4.23076923,  2.84615385,\n",
              "          2.61538462,  3.38461538,  4.84615385,  8.53846154,  2.69230769,\n",
              "          3.07692308,  3.46153846,  1.76923077,  1.61538462,  1.46153846,\n",
              "          2.69230769,  6.23076923,  1.69230769,  2.        ,  2.53846154,\n",
              "          0.92307692,  0.76923077,  0.69230769,  0.53846154,  4.38461538,\n",
              "          1.        ,  1.23076923,  1.69230769,  0.23076923,  0.07692308,\n",
              "          0.38461538,  3.30769231,  3.15384615,  0.46153846,  0.69230769,\n",
              "          1.07692308, -0.30769231, -0.46153846, -0.46153846, -0.38461538,\n",
              "         -0.30769231,  0.        ,  0.38461538,  0.76923077]]),\n",
              " array([[ 4.61538462,  4.38461538,  4.38461538,  7.15384615,  7.76923077,\n",
              "          4.38461538,  4.30769231,  4.53846154,  4.30769231,  4.07692308,\n",
              "          5.23076923,  7.53846154,  5.        ,  6.76923077,  3.84615385,\n",
              "          4.15384615,  3.69230769,  3.38461538,  3.30769231,  3.23076923,\n",
              "          4.15384615,  7.38461538,  3.07692308,  3.46153846,  3.        ,\n",
              "          2.76923077,  2.53846154,  5.38461538, 10.        ,  4.23076923,\n",
              "          2.53846154,  2.76923077,  2.23076923,  1.92307692,  1.69230769,\n",
              "          2.92307692,  4.38461538,  6.07692308,  1.84615385,  2.15384615,\n",
              "          1.30769231,  1.07692308,  0.84615385,  0.92307692,  4.15384615,\n",
              "          4.38461538,  1.23076923,  1.46153846,  0.46153846,  0.15384615,\n",
              "          0.61538462,  5.53846154,  2.84615385,  0.23076923,  0.46153846,\n",
              "          0.69230769, -0.38461538, -0.61538462, -0.76923077, -0.76923077,\n",
              "         -0.76923077, -0.61538462, -0.30769231, -0.07692308]]),\n",
              " array([[ 4.53846154,  4.30769231,  4.15384615,  4.15384615,  7.38461538,\n",
              "          4.61538462,  4.61538462,  5.15384615,  4.07692308,  3.84615385,\n",
              "          3.61538462,  7.53846154,  6.84615385,  3.84615385,  4.        ,\n",
              "          4.53846154,  3.46153846,  3.23076923,  4.69230769,  7.30769231,\n",
              "          2.92307692,  2.92307692,  3.23076923,  3.76923077,  2.61538462,\n",
              "          2.38461538,  7.        ,  3.23076923,  2.84615385,  2.07692308,\n",
              "          2.23076923,  2.69230769,  1.76923077,  1.61538462,  8.07692308,\n",
              "          6.76923077,  5.92307692,  5.        ,  1.53846154,  1.76923077,\n",
              "          1.07692308,  0.84615385,  4.76923077,  0.46153846,  0.38461538,\n",
              "          2.53846154,  1.07692308,  1.15384615,  0.30769231,  0.        ,\n",
              "          2.84615385, -0.30769231,  0.23076923,  4.69230769,  0.15384615,\n",
              "          0.46153846, -0.30769231, -0.61538462, -0.23076923,  3.46153846,\n",
              "          5.        ,  1.23076923, -0.38461538,  0.        ]]),\n",
              " array([[ 4.84615385,  4.61538462,  4.46153846,  4.30769231,  5.15384615,\n",
              "          5.61538462,  4.84615385,  5.23076923,  4.38461538,  4.15384615,\n",
              "          4.07692308,  5.38461538, 10.53846154,  7.53846154,  4.30769231,\n",
              "          4.69230769,  3.61538462,  3.46153846,  4.69230769, 10.07692308,\n",
              "          7.23076923,  6.69230769,  3.38461538,  3.92307692,  3.        ,\n",
              "          2.69230769,  6.07692308,  4.46153846,  6.23076923,  5.46153846,\n",
              "          2.61538462,  3.07692308,  2.07692308,  1.76923077,  1.61538462,\n",
              "          1.61538462,  6.84615385,  3.38461538,  1.69230769,  2.07692308,\n",
              "          1.23076923,  1.        ,  0.76923077,  0.84615385,  7.23076923,\n",
              "          1.23076923,  1.        ,  1.38461538,  0.53846154,  0.30769231,\n",
              "          0.15384615,  0.15384615,  6.84615385,  0.38461538,  0.53846154,\n",
              "          1.        , -0.15384615, -0.38461538, -0.38461538, -0.30769231,\n",
              "          1.15384615, -0.07692308,  0.23076923,  0.61538462]]),\n",
              " array([[ 4.23076923,  4.07692308,  4.        ,  7.15384615,  6.07692308,\n",
              "          4.        ,  4.30769231,  4.61538462,  3.84615385,  3.69230769,\n",
              "          4.69230769,  9.92307692,  3.84615385,  3.61538462,  3.84615385,\n",
              "          4.15384615,  3.23076923,  3.        ,  8.38461538,  5.92307692,\n",
              "          7.23076923,  3.07692308,  3.23076923,  3.53846154,  2.46153846,\n",
              "          3.38461538, 10.15384615,  9.69230769, 10.46153846,  6.38461538,\n",
              "          2.46153846,  2.76923077,  1.69230769,  1.61538462,  2.23076923,\n",
              "          2.38461538,  9.        ,  2.61538462,  1.53846154,  1.92307692,\n",
              "          0.92307692,  0.76923077,  0.53846154,  0.92307692,  7.30769231,\n",
              "          0.53846154,  0.76923077,  1.07692308,  0.07692308, -0.23076923,\n",
              "         -0.38461538,  0.76923077,  5.69230769, -0.38461538, -0.15384615,\n",
              "          0.23076923, -0.69230769, -1.        , -1.15384615, -1.        ,\n",
              "         -0.30769231, -1.07692308, -0.76923077, -0.38461538]]),\n",
              " array([[ 4.61538462,  4.38461538,  4.23076923,  5.92307692,  5.07692308,\n",
              "          4.07692308,  4.23076923,  4.61538462,  4.15384615,  3.84615385,\n",
              "          6.15384615, 10.92307692,  8.61538462,  5.69230769,  3.61538462,\n",
              "          3.92307692,  3.69230769,  3.46153846,  9.84615385,  5.61538462,\n",
              "          3.        ,  6.69230769,  3.07692308,  3.30769231,  3.        ,\n",
              "          3.69230769,  9.15384615,  2.30769231,  2.15384615,  6.07692308,\n",
              "          2.46153846,  2.46153846,  2.        ,  3.46153846,  7.23076923,\n",
              "          1.38461538,  1.30769231,  5.46153846,  1.84615385,  1.61538462,\n",
              "          1.15384615,  1.76923077,  6.38461538,  0.53846154,  0.84615385,\n",
              "          6.23076923,  0.61538462,  0.84615385,  0.15384615, -0.07692308,\n",
              "          3.84615385,  4.15384615,  6.38461538,  2.15384615, -0.30769231,\n",
              "          0.        , -0.61538462, -0.92307692, -1.07692308,  1.        ,\n",
              "         -0.30769231, -1.15384615, -0.07692308,  0.07692308]]),\n",
              " array([[ 4.76923077,  4.53846154,  4.38461538,  4.46153846,  4.46153846,\n",
              "          4.53846154,  4.92307692,  5.30769231,  4.23076923,  4.        ,\n",
              "          3.84615385,  4.        ,  8.15384615,  4.84615385,  4.38461538,\n",
              "          4.76923077,  3.61538462,  3.38461538,  3.30769231,  5.92307692,\n",
              "          6.23076923,  7.84615385,  3.76923077,  4.23076923,  2.92307692,\n",
              "          2.69230769,  2.76923077,  7.07692308,  5.53846154,  7.38461538,\n",
              "          3.        ,  3.53846154,  2.        ,  1.76923077,  1.69230769,\n",
              "          5.07692308,  7.07692308,  5.76923077,  2.07692308,  2.61538462,\n",
              "          1.23076923,  1.        ,  0.84615385,  0.84615385,  3.38461538,\n",
              "          3.07692308,  1.23076923,  1.69230769,  0.38461538,  0.15384615,\n",
              "          0.        ,  2.92307692,  4.69230769,  0.30769231,  0.30769231,\n",
              "          0.84615385, -0.30769231, -0.53846154, -0.69230769, -0.53846154,\n",
              "         -0.61538462, -0.61538462, -0.30769231,  0.15384615]]),\n",
              " array([[ 5.61538462,  5.23076923,  5.07692308,  6.38461538, 11.        ,\n",
              "          5.        ,  5.15384615,  5.38461538,  5.07692308,  4.69230769,\n",
              "          4.53846154,  9.61538462, 10.69230769,  4.53846154,  4.61538462,\n",
              "          4.92307692,  4.23076923,  3.84615385,  5.07692308,  8.92307692,\n",
              "          9.15384615,  3.76923077,  3.92307692,  4.15384615,  3.46153846,\n",
              "          3.15384615,  2.84615385,  3.07692308,  8.61538462,  2.92307692,\n",
              "          3.07692308,  3.46153846,  2.46153846,  2.15384615,  1.84615385,\n",
              "          1.76923077,  7.84615385,  1.92307692,  2.15384615,  2.46153846,\n",
              "          1.38461538,  1.07692308,  0.92307692,  0.84615385,  7.07692308,\n",
              "          1.07692308,  1.30769231,  1.53846154,  0.61538462,  0.30769231,\n",
              "          0.15384615,  0.07692308,  6.46153846,  0.23076923,  0.53846154,\n",
              "          0.84615385, -0.07692308, -0.30769231, -0.53846154, -0.53846154,\n",
              "          1.53846154, -0.46153846, -0.07692308,  0.23076923]])]"
            ]
          },
          "metadata": {
            "tags": []
          },
          "execution_count": 25
        }
      ]
    },
    {
      "cell_type": "markdown",
      "metadata": {
        "id": "FmIm8v5UcBKr"
      },
      "source": [
        "**Predict:**"
      ]
    },
    {
      "cell_type": "code",
      "metadata": {
        "id": "Lk3aXXNjjqE5"
      },
      "source": [
        "predicted_test=[]"
      ],
      "execution_count": 26,
      "outputs": []
    },
    {
      "cell_type": "code",
      "metadata": {
        "id": "0MtVw9HjjsYC"
      },
      "source": [
        "for i in X_test_temp:\n",
        "  temp = clf.predict(i)\n",
        "  predicted_test.append(temp)"
      ],
      "execution_count": 27,
      "outputs": []
    },
    {
      "cell_type": "code",
      "metadata": {
        "colab": {
          "base_uri": "https://localhost:8080/",
          "height": 153
        },
        "id": "9SRc5w5Gj0tz",
        "outputId": "64c1fa91-15de-4dbd-f33a-90b301948820"
      },
      "source": [
        "_, axes = plt.subplots(nrows=1, ncols=13, figsize=(30, 3))\n",
        "for ax, image, prediction,k in zip(axes, X_test_temp, predicted_test,labelx):\n",
        "    ax.set_axis_off()\n",
        "    image = image.reshape(8, 8)\n",
        "    ax.imshow(image, cmap=plt.cm.gray_r, interpolation='nearest')\n",
        "    ax.set_title(f'Real value:{k}\\nPredicted value: {prediction}')"
      ],
      "execution_count": 28,
      "outputs": [
        {
          "output_type": "display_data",
          "data": {
            "image/png": "[encoded data removed]",
            "text/plain": [
              "<Figure size 2160x216 with 13 Axes>"
            ]
          },
          "metadata": {
            "tags": [],
            "needs_background": "light"
          }
        }
      ]
    },
    {
      "cell_type": "markdown",
      "metadata": {
        "id": "DOV_o6m6kHF6"
      },
      "source": [
        "WOW, kết quả lần này có vẻ khả quan hơn 1 tí nhưng vẫn KHÔNG TỐT. Đúng 2/13,nhưng ảnh đầu vào cũng hiển thị đúng như những gì chúng ta mong đợi!"
      ]
    },
    {
      "cell_type": "markdown",
      "metadata": {
        "id": "FT9biet9qLHD"
      },
      "source": [
        "# Trả lời câu hỏi"
      ]
    },
    {
      "cell_type": "markdown",
      "metadata": {
        "id": "nfeeLuDcqa53"
      },
      "source": [
        "## Kết quả chạy thực tế với webcam của laptop và giấy viết tay của các bạn có tốt không?"
      ]
    },
    {
      "cell_type": "markdown",
      "metadata": {
        "id": "wB24CDfrqfIs"
      },
      "source": [
        "Như đã thấy, kết quả chạy thực tế với webcam của laptop là rất tệ mặc dù đã xử lí trước dữ liệu cho phù hợp! Khác xa với dữ liệu của scikit-learn cung cấp. \n",
        "\n",
        "**Kết luận**: Đầu vào là ảnh chụp từ camera laptop **không đạt kết quả cao**."
      ]
    },
    {
      "cell_type": "markdown",
      "metadata": {
        "id": "1N2pK8yVq7rJ"
      },
      "source": [
        "## Ủa mà nhìn vào đâu để kết luận là tốt hay không?"
      ]
    },
    {
      "cell_type": "markdown",
      "metadata": {
        "id": "-RbWI-GtrBlg"
      },
      "source": [
        "Nhìn vào  **Predicted value,Real value**  (đã được nhóm tự gán để thử nghiệm) và so sánh 2 giá trị này. Có thể thấy tỷ lệ chính xác là rất thấp.\n"
      ]
    },
    {
      "cell_type": "markdown",
      "metadata": {
        "id": "QMT6k_ONsi7R"
      },
      "source": [
        "## Nếu không tốt thì lý do tại sao?"
      ]
    },
    {
      "cell_type": "markdown",
      "metadata": {
        "id": "GnYjaHnWtEG6"
      },
      "source": [
        "Có rất nhiều lý do ảnh hưởng đến kết quả:\n",
        "\n",
        "\n",
        "1.   Dữ liệu: là quá ít (chỉ có 1797 ma trận 8x8) ==> Không đủ cho 1 mô hình có thể train để đánh giá tốt các dạng dữ liệu đa dạng đến từ nguồn khác(camera laptop, ảnh cắt xén bất kì ...)\n",
        "2.   Ảnh đầu vào: Do ánh sáng, độ ẩm , góc nghiêng, kích cỡ, phần nền không hoàn toàn trắng, phần số không hoàn toàn đen... Rất nhiều yếu tố ảnh hưởng đến chất lượng ảnh đầu vào ==> Ma trận đầu vào sẽ khác xa nhiều so với dữ liệu đến từ scikit-learn cung cấp. Nên tất nhiên độ chính xác sẽ không được cao như mong đợi.\n",
        "\n"
      ]
    },
    {
      "cell_type": "markdown",
      "metadata": {
        "id": "qER8UM3QufVh"
      },
      "source": [
        "## Nếu tốt thì tiếp theo có thể dùng model digits recognition này vào các bài toán phức tạp hơn như nhận dạng biển số nhà không?"
      ]
    },
    {
      "cell_type": "markdown",
      "metadata": {
        "id": "0zGfBmcAulMv"
      },
      "source": [
        "Như nhóm đã kết luận ở trên ! Thì kết quả chạy với đầu vào là ảnh từ webcam laptop là KHÔNG TỐT. Nên tất nhiên đối với bài toán nhận diện số nhà (ảnh đầu vào không chỉ có số mà còn nhiều thành phần khác(chữ, cổng nhà, vật thể lạ...) và số cần dự đoán không còn là đối tượng chính của bức ảnh ,hơn nữa nhiều yếu tố ảnh hưởng khác hơn cả ảnh được chụp từ webcam laptop ) là rất khó để nhận diện.\n",
        "\n",
        "**Kết luận:** Không thể áp dụng model này để ứng dụng vào bài toán phức tạp hơn như nhận diện biển số nhà được!"
      ]
    }
  ]
}